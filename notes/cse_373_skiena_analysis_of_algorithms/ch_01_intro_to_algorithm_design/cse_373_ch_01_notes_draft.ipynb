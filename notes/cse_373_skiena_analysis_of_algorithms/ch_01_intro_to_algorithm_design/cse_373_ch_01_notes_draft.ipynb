{
 "cells": [
  {
   "cell_type": "markdown",
   "metadata": {},
   "source": [
    "# 1. Introduction to Algorithm Design\n",
    "---"
   ]
  },
  {
   "cell_type": "markdown",
   "metadata": {},
   "source": [
    "## Resources\n",
    "- [solutions to exercises](https://www.algorist.com/algowiki_v2/index.php/Introduction-TADM2E)"
   ]
  },
  {
   "cell_type": "markdown",
   "metadata": {},
   "source": [
    "Let $ U=\\{1,2,3,4,5,6\\} $ and S consists of $ S_1=\\{1,2,3,4\\} $, $ S_2=\\{1,2,5\\} $, $ S_3=\\{3,4,6\\} $. The algorithm would give an answer of $ S_1 $, $ S_2 $, $ S_3 $ but the correct answer is $ S_2 $,$ S_3 $ because it has the fewest subsets and covers $ U $."
   ]
  },
  {
   "cell_type": "code",
   "execution_count": 1,
   "metadata": {},
   "outputs": [
    {
     "name": "stdout",
     "output_type": "stream",
     "text": [
      "2 2 2.0\n",
      "2 3 2.0\n",
      "-2 -2 -3.0\n",
      "-2 -3 -3.0\n"
     ]
    }
   ],
   "source": [
    "l = [2.14, 2.75, -2.14, -2.75]\n",
    "for _ in l:\n",
    "    print(int(_), round(_), _//1)"
   ]
  },
  {
   "cell_type": "markdown",
   "metadata": {},
   "source": [
    "*function* multiply($ y,z $)  \n",
    "*comment* Return the product $ yz $.  \n",
    "1.     if $ z=0 $ then return(0) else\n",
    "2.     return(multiply($ cy,\\lfloor z/c \\rfloor)+y \\cdot (z\\,\\bmod\\,c $))"
   ]
  },
  {
   "cell_type": "markdown",
   "metadata": {},
   "source": [
    "$ \\left \\lfloor z / c \\right \\rfloor c + (z\\,\\bmod\\,c) = z $"
   ]
  },
  {
   "cell_type": "markdown",
   "metadata": {},
   "source": [
    "Where z = n+1, c >= 2, y >= 0\n",
    "\n",
    "First we break the result of multiply into two parts:\n",
    "\n",
    "    A = $ multiply(cy, \\left \\lfloor [n+1]/c \\right \\rfloor) $\n",
    "    B = $ y([n+1]\\,\\bmod\\,c) $\n",
    "\n",
    "    $ multiply(y,z) = A + B $\n",
    "\n",
    "\n",
    "Now, because c >= 2 we know that $ \\left \\lfloor (n+1) / c \\right \\rfloor < (n+1) $.\n",
    "Based on that, we know that the call to multiply in \"A\" returns the correct result.\n",
    "\n",
    "    $ A = multiply(cy, \\left \\lfloor [n+1]/c \\right \\rfloor) = cy * \\left \\lfloor [n+1] / c \\right \\rfloor $\n",
    "\n",
    "So now let's transform A into something more useful:\n",
    "\n",
    "    $ A = cy * \\left \\lfloor [n+1] / c \\right \\rfloor = y * \\left \\lfloor z / c \\right \\rfloor c $\n",
    "    (Note: We transformed n+1 back into z for simplicity)\n",
    "\n",
    "Based on our earlier assumption, we can transform this further:\n",
    "\n",
    "    $ \\left \\lfloor z / c \\right \\rfloor c + (z \\,\\bmod\\, c) = z $\n",
    "    $ \\left \\lfloor z / c \\right \\rfloor c = z - (z \\,\\bmod\\, c) $\n",
    "\n",
    "    $ A = y * \\left \\lfloor z / c \\right \\rfloor c = y (z - z \\,\\bmod\\, c) = yz - y(z \\,\\bmod\\, c) $\n",
    "\n",
    "And now we add B back into the mix:\n",
    "\n",
    "    $ A + B = yz - y(z \\,\\bmod\\, c) + y(z \\,\\bmod\\, c) = yz $"
   ]
  },
  {
   "cell_type": "code",
   "execution_count": 4,
   "metadata": {},
   "outputs": [],
   "source": [
    "def mult(x, y, c):\n",
    "    print(x, y, c)\n",
    "    if y == 0:\n",
    "        return 0\n",
    "    return mult(c*x, y //c + x * (y //c), c)"
   ]
  },
  {
   "cell_type": "markdown",
   "metadata": {},
   "source": [
    "## Resources\n",
    "- [Algorist.com problems and partial solutions](https://www.algorist.com/algowiki_v2/index.php/Introduction-TADM2E)\n",
    "- [MathAHA video Horner's method](https://www.youtube.com/watch?v=RGrmEWj38bs)"
   ]
  },
  {
   "cell_type": "code",
   "execution_count": null,
   "metadata": {},
   "outputs": [],
   "source": []
  }
 ],
 "metadata": {
  "kernelspec": {
   "display_name": "Python 3",
   "language": "python",
   "name": "python3"
  },
  "language_info": {
   "codemirror_mode": {
    "name": "ipython",
    "version": 3
   },
   "file_extension": ".py",
   "mimetype": "text/x-python",
   "name": "python",
   "nbconvert_exporter": "python",
   "pygments_lexer": "ipython3",
   "version": "3.7.7"
  }
 },
 "nbformat": 4,
 "nbformat_minor": 4
}

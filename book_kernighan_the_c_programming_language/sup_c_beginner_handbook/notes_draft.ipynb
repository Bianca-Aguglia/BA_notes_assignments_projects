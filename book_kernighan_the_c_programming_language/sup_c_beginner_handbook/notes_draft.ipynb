{
 "cells": [
  {
   "cell_type": "markdown",
   "metadata": {},
   "source": [
    "# The C beginner's handbook\n",
    "---\n",
    "```c\n",
    "#include <stdio.h>\n",
    "int main(void){\n",
    "    printf(\"Hello, world!\")\n",
    "}\n",
    "```"
   ]
  },
  {
   "cell_type": "markdown",
   "metadata": {},
   "source": [
    "C is:\n",
    "- compiled (a compiled language generates a binary file that can be directly executed and distributed)\n",
    "- not garbage collected\n",
    "- statically typed (type has to be declared when the variable is created; type is known at compilation time)\n"
   ]
  },
  {
   "cell_type": "markdown",
   "metadata": {},
   "source": [
    "Random thoughts\n",
    "- author says that `hello` is 12KB and that C programs are optimized and therefore suitable for embedded devices with limited resources. How big is same program in Python? (A: 23 bytes. I'll need to run a longer program to figure out the true differences)."
   ]
  },
  {
   "cell_type": "markdown",
   "metadata": {},
   "source": [
    "## Resources\n",
    "- [freecodecamp *The C Beginner's Handbook*](https://www.freecodecamp.org/news/the-c-beginners-handbook/)"
   ]
  },
  {
   "cell_type": "code",
   "execution_count": 12,
   "metadata": {},
   "outputs": [],
   "source": [
    "!touch funcs.h"
   ]
  },
  {
   "cell_type": "code",
   "execution_count": 7,
   "metadata": {},
   "outputs": [],
   "source": [
    "!gcc ds.c -o ds"
   ]
  },
  {
   "cell_type": "code",
   "execution_count": 8,
   "metadata": {},
   "outputs": [
    {
     "name": "stdout",
     "output_type": "stream",
     "text": [
      "nums: 0 1 2 3 4 5 6 7 8 9 10 11 12 13 14 15 16 17 18 19 20 21 22 23 24 25 26 27 \r\n",
      "name: bianca\r\n"
     ]
    }
   ],
   "source": [
    "!./ds"
   ]
  },
  {
   "cell_type": "code",
   "execution_count": null,
   "metadata": {},
   "outputs": [],
   "source": []
  }
 ],
 "metadata": {
  "kernelspec": {
   "display_name": "Python 3",
   "language": "python",
   "name": "python3"
  },
  "language_info": {
   "codemirror_mode": {
    "name": "ipython",
    "version": 3
   },
   "file_extension": ".py",
   "mimetype": "text/x-python",
   "name": "python",
   "nbconvert_exporter": "python",
   "pygments_lexer": "ipython3",
   "version": "3.7.7"
  }
 },
 "nbformat": 4,
 "nbformat_minor": 4
}

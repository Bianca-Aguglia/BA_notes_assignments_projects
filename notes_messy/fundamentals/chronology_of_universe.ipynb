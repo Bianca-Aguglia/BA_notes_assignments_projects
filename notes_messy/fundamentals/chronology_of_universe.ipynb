{
 "cells": [
  {
   "cell_type": "markdown",
   "metadata": {},
   "source": [
    "# Timeline of the Universe"
   ]
  },
  {
   "cell_type": "markdown",
   "metadata": {},
   "source": [
    "## Resources\n",
    "- https://en.wikipedia.org/wiki/Chronology_of_the_universe\n",
    "- http://www.astro.ucla.edu/~wright/BBhistory.html\n",
    "- http://www.astronomy.ohio-state.edu/~nahar/papers/universe-iyabd.pdf\n",
    "- http://hyperphysics.phy-astr.gsu.edu/hbase/Astro/unify.html#c1\n",
    "- http://www.pas.rochester.edu/~aran/class/PHY100_10S/lectures/P100_21_History_Universe.pdf\n",
    "- http://www.atlasoftheuniverse.com/localgr.html\n",
    "- https://simple.wikipedia.org/wiki/Hadron\n",
    "- https://newscenter.lbl.gov/2021/01/13/building-a-giant-2d-map-of-the-universe-to-prepare-for-the-largest-3d-map/"
   ]
  },
  {
   "cell_type": "code",
   "execution_count": null,
   "metadata": {},
   "outputs": [],
   "source": []
  }
 ],
 "metadata": {
  "kernelspec": {
   "display_name": "Python 3",
   "language": "python",
   "name": "python3"
  },
  "language_info": {
   "codemirror_mode": {
    "name": "ipython",
    "version": 3
   },
   "file_extension": ".py",
   "mimetype": "text/x-python",
   "name": "python",
   "nbconvert_exporter": "python",
   "pygments_lexer": "ipython3",
   "version": "3.7.7"
  }
 },
 "nbformat": 4,
 "nbformat_minor": 4
}

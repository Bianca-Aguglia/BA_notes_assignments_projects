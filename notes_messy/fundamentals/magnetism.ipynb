{
 "cells": [
  {
   "cell_type": "markdown",
   "metadata": {},
   "source": [
    "## Resources <small>(magnetic domain)</small>\n",
    "- simulation https://web.ics.purdue.edu/~dsederbe/?page_id=47\n",
    "- paper electric and magnetic domains inverted http://mundy.physics.harvard.edu/Papers/Heron_Nature_2018.pdf\n",
    "- site simple https://www.utm.edu/staff/cerkal/magnetic.htm\n",
    "- paper domain structure https://arxiv.org/pdf/1502.01422.pdf\n",
    "- page magnetic domain image http://physics.unl.edu/~shliou/ResearchActivity/research3.htm"
   ]
  },
  {
   "cell_type": "code",
   "execution_count": null,
   "metadata": {},
   "outputs": [],
   "source": []
  }
 ],
 "metadata": {
  "kernelspec": {
   "display_name": "Python 3",
   "language": "python",
   "name": "python3"
  },
  "language_info": {
   "codemirror_mode": {
    "name": "ipython",
    "version": 3
   },
   "file_extension": ".py",
   "mimetype": "text/x-python",
   "name": "python",
   "nbconvert_exporter": "python",
   "pygments_lexer": "ipython3",
   "version": "3.7.7"
  }
 },
 "nbformat": 4,
 "nbformat_minor": 4
}

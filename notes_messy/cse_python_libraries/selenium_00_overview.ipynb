{
 "cells": [
  {
   "cell_type": "code",
   "execution_count": null,
   "id": "546f8f44",
   "metadata": {},
   "outputs": [],
   "source": []
  },
  {
   "cell_type": "code",
   "execution_count": null,
   "id": "4c9fba89",
   "metadata": {},
   "outputs": [],
   "source": []
  },
  {
   "cell_type": "code",
   "execution_count": null,
   "id": "84b44f4a",
   "metadata": {},
   "outputs": [],
   "source": []
  },
  {
   "cell_type": "markdown",
   "id": "4d835a8d",
   "metadata": {},
   "source": [
    "<img src='img_selenium_selenium_components.png'>\n",
    "<p>https://www.javatpoint.com/selenium-webdriver</p>"
   ]
  },
  {
   "cell_type": "code",
   "execution_count": null,
   "id": "9d65a50c",
   "metadata": {},
   "outputs": [],
   "source": []
  },
  {
   "cell_type": "code",
   "execution_count": null,
   "id": "4407614f",
   "metadata": {},
   "outputs": [],
   "source": []
  },
  {
   "cell_type": "markdown",
   "id": "f2677e78",
   "metadata": {},
   "source": [
    "<img src='img_selenium_selenium-webdriver-architecture.png'>\n"
   ]
  },
  {
   "cell_type": "markdown",
   "id": "4f15ae2e",
   "metadata": {},
   "source": [
    "https://www.javatpoint.com/selenium-webdriver"
   ]
  },
  {
   "cell_type": "markdown",
   "id": "7823351a",
   "metadata": {},
   "source": [
    "## Resources\n",
    "- https://www.javatpoint.com/selenium-tutorial"
   ]
  },
  {
   "cell_type": "code",
   "execution_count": null,
   "id": "32849cd1",
   "metadata": {},
   "outputs": [],
   "source": []
  },
  {
   "cell_type": "code",
   "execution_count": null,
   "id": "9879adb7",
   "metadata": {},
   "outputs": [],
   "source": []
  }
 ],
 "metadata": {
  "kernelspec": {
   "display_name": "Python 3",
   "language": "python",
   "name": "python3"
  },
  "language_info": {
   "codemirror_mode": {
    "name": "ipython",
    "version": 3
   },
   "file_extension": ".py",
   "mimetype": "text/x-python",
   "name": "python",
   "nbconvert_exporter": "python",
   "pygments_lexer": "ipython3",
   "version": "3.7.7"
  }
 },
 "nbformat": 4,
 "nbformat_minor": 5
}

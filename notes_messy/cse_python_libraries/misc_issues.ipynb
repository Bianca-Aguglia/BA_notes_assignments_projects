{
 "cells": [
  {
   "cell_type": "markdown",
   "metadata": {},
   "source": [
    "I updated pandas to use df.compare() and I ended up having issues with numpy. This link helped me https://stackoverflow.com/questions/66354697/conda-3-9-is-not-working-with-numpy-on-macos-reason-image-not-found"
   ]
  },
  {
   "cell_type": "code",
   "execution_count": null,
   "metadata": {},
   "outputs": [],
   "source": []
  }
 ],
 "metadata": {
  "kernelspec": {
   "display_name": "Python 3",
   "language": "python",
   "name": "python3"
  },
  "language_info": {
   "codemirror_mode": {
    "name": "ipython",
    "version": 3
   },
   "file_extension": ".py",
   "mimetype": "text/x-python",
   "name": "python",
   "nbconvert_exporter": "python",
   "pygments_lexer": "ipython3",
   "version": "3.7.7"
  }
 },
 "nbformat": 4,
 "nbformat_minor": 4
}

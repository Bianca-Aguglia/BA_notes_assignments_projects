{
 "cells": [
  {
   "cell_type": "markdown",
   "metadata": {},
   "source": [
    "## Change remote for a github repository"
   ]
  },
  {
   "cell_type": "code",
   "execution_count": null,
   "metadata": {},
   "outputs": [],
   "source": [
    "git remote -v\n",
    "# View existing remotes\n",
    "# origin  https://github.com/user/repo.git (fetch)\n",
    "# origin  https://github.com/user/repo.git (push)\n",
    "\n",
    "git remote set-url origin https://github.com/user/repo2.git\n",
    "# Change the 'origin' remote's URL\n",
    "\n",
    "git remote -v\n",
    "# Verify new remote URL\n",
    "# origin  https://github.com/user/repo2.git (fetch)\n",
    "# origin  https://github.com/user/repo2.git (push)"
   ]
  },
  {
   "cell_type": "markdown",
   "metadata": {},
   "source": [
    "Reference: https://stackoverflow.com/questions/2432764/how-to-change-the-uri-url-for-a-remote-git-repository"
   ]
  },
  {
   "cell_type": "markdown",
   "metadata": {},
   "source": [
    "## Change remote authentification from password to personal access token"
   ]
  },
  {
   "cell_type": "code",
   "execution_count": null,
   "metadata": {},
   "outputs": [],
   "source": [
    "# remove existing remote\n",
    "git remote remove origin\n",
    "# add remote in the following format\n",
    "git remote add origin https://<TOKEN>@github.com/<USERNAME>/<REPO>.git"
   ]
  },
  {
   "cell_type": "markdown",
   "metadata": {},
   "source": [
    "Reference: https://medium.com/geekculture/how-to-change-your-github-remote-authentication-from-username-password-to-personal-access-token-64e527a766cf"
   ]
  },
  {
   "cell_type": "code",
   "execution_count": null,
   "metadata": {},
   "outputs": [],
   "source": []
  }
 ],
 "metadata": {
  "kernelspec": {
   "display_name": "Python 3",
   "language": "python",
   "name": "python3"
  },
  "language_info": {
   "codemirror_mode": {
    "name": "ipython",
    "version": 3
   },
   "file_extension": ".py",
   "mimetype": "text/x-python",
   "name": "python",
   "nbconvert_exporter": "python",
   "pygments_lexer": "ipython3",
   "version": "3.7.7"
  }
 },
 "nbformat": 4,
 "nbformat_minor": 4
}

{
 "cells": [
  {
   "cell_type": "markdown",
   "metadata": {},
   "source": [
    "# 2. System tools <small>(notes - draft)</small>\n",
    "---"
   ]
  },
  {
   "cell_type": "markdown",
   "metadata": {},
   "source": [
    "Two main system modules:\n",
    "- **sys**: variables and functions related to the interpreter\n",
    "- **os**: variables and functions related to the operating system\n",
    "\n",
    "Other system modules:\n",
    "- glob\n",
    "- socket\n",
    "- time, timeit\n",
    "- subprocess, multiprocessing\n",
    "- signal, select, shutil, tempfile, etc"
   ]
  },
  {
   "cell_type": "code",
   "execution_count": 1,
   "metadata": {},
   "outputs": [],
   "source": [
    "import sys\n",
    "import os"
   ]
  },
  {
   "cell_type": "code",
   "execution_count": 3,
   "metadata": {},
   "outputs": [
    {
     "name": "stdout",
     "output_type": "stream",
     "text": [
      "90\n",
      "289\n",
      "55\n"
     ]
    }
   ],
   "source": [
    "print(len(dir(sys)))\n",
    "print(len(dir(os)))\n",
    "print(len(dir(os.path)))"
   ]
  },
  {
   "cell_type": "code",
   "execution_count": 4,
   "metadata": {
    "scrolled": true
   },
   "outputs": [
    {
     "name": "stdout",
     "output_type": "stream",
     "text": [
      "This module provides access to some objects used or maintained by the\n",
      "interpreter and to functions that interact strongly with the interpreter.\n",
      "\n",
      "Dynamic objects:\n",
      "\n",
      "argv -- command line arguments; argv[0] is the script pathname if known\n",
      "path -- module search path; path[0] is the script directory, else ''\n",
      "modules -- dictionary of loaded modules\n",
      "\n",
      "displayhook -- called to show results in an interactive session\n",
      "excepthook -- called to handle any uncaught exception other than SystemExit\n",
      "  To customize printing in an interactive session or to install a custom\n",
      "  top-level exception handler, assign other functions to replace these.\n",
      "\n",
      "stdin -- standard input file object; used by input()\n",
      "stdout -- standard output file object; used by print()\n",
      "stderr -- standard error object; used for error messages\n",
      "  By assigning other file objects (or objects that behave like files)\n",
      "  to these, it is possible to redirect all of the interpreter's I/O.\n",
      "\n",
      "last_type -- type of last uncaught exception\n",
      "last_value -- value of last uncaught exception\n",
      "last_traceback -- traceback of last uncaught exception\n",
      "  These three are only available in an interactive session after a\n",
      "  traceback has been printed.\n",
      "\n",
      "Static objects:\n",
      "\n",
      "builtin_module_names -- tuple of module names built into this interpreter\n",
      "copyright -- copyright notice pertaining to this interpreter\n",
      "exec_prefix -- prefix used to find the machine-specific Python library\n",
      "executable -- absolute path of the executable binary of the Python interpreter\n",
      "float_info -- a named tuple with information about the float implementation.\n",
      "float_repr_style -- string indicating the style of repr() output for floats\n",
      "hash_info -- a named tuple with information about the hash algorithm.\n",
      "hexversion -- version information encoded as a single integer\n",
      "implementation -- Python implementation information.\n",
      "int_info -- a named tuple with information about the int implementation.\n",
      "maxsize -- the largest supported length of containers.\n",
      "maxunicode -- the value of the largest Unicode code point\n",
      "platform -- platform identifier\n",
      "prefix -- prefix used to find the Python library\n",
      "thread_info -- a named tuple with information about the thread implementation.\n",
      "version -- the version of this interpreter as a string\n",
      "version_info -- version information as a named tuple\n",
      "__stdin__ -- the original stdin; don't touch!\n",
      "__stdout__ -- the original stdout; don't touch!\n",
      "__stderr__ -- the original stderr; don't touch!\n",
      "__displayhook__ -- the original displayhook; don't touch!\n",
      "__excepthook__ -- the original excepthook; don't touch!\n",
      "\n",
      "Functions:\n",
      "\n",
      "displayhook() -- print an object to the screen, and save it in builtins._\n",
      "excepthook() -- print an exception and its traceback to sys.stderr\n",
      "exc_info() -- return thread-safe information about the current exception\n",
      "exit() -- exit the interpreter by raising SystemExit\n",
      "getdlopenflags() -- returns flags to be used for dlopen() calls\n",
      "getprofile() -- get the global profiling function\n",
      "getrefcount() -- return the reference count for an object (plus one :-)\n",
      "getrecursionlimit() -- return the max recursion depth for the interpreter\n",
      "getsizeof() -- return the size of an object in bytes\n",
      "gettrace() -- get the global debug tracing function\n",
      "setcheckinterval() -- control how often the interpreter checks for events\n",
      "setdlopenflags() -- set the flags to be used for dlopen() calls\n",
      "setprofile() -- set the global profiling function\n",
      "setrecursionlimit() -- set the max recursion depth for the interpreter\n",
      "settrace() -- set the global debug tracing function\n",
      "\n"
     ]
    }
   ],
   "source": [
    "print(sys.__doc__)"
   ]
  },
  {
   "cell_type": "code",
   "execution_count": 5,
   "metadata": {
    "scrolled": true
   },
   "outputs": [
    {
     "name": "stdout",
     "output_type": "stream",
     "text": [
      "OS routines for NT or Posix depending on what system we're on.\n",
      "\n",
      "This exports:\n",
      "  - all functions from posix or nt, e.g. unlink, stat, etc.\n",
      "  - os.path is either posixpath or ntpath\n",
      "  - os.name is either 'posix' or 'nt'\n",
      "  - os.curdir is a string representing the current directory (always '.')\n",
      "  - os.pardir is a string representing the parent directory (always '..')\n",
      "  - os.sep is the (or a most common) pathname separator ('/' or '\\\\')\n",
      "  - os.extsep is the extension separator (always '.')\n",
      "  - os.altsep is the alternate pathname separator (None or '/')\n",
      "  - os.pathsep is the component separator used in $PATH etc\n",
      "  - os.linesep is the line separator in text files ('\\r' or '\\n' or '\\r\\n')\n",
      "  - os.defpath is the default search path for executables\n",
      "  - os.devnull is the file path of the null device ('/dev/null', etc.)\n",
      "\n",
      "Programs that import and use 'os' stand a better chance of being\n",
      "portable between different platforms.  Of course, they must then\n",
      "only use functions that are defined by all platforms (e.g., unlink\n",
      "and opendir), and leave all pathname manipulation to os.path\n",
      "(e.g., split and join).\n",
      "\n"
     ]
    }
   ],
   "source": [
    "print(os.__doc__)"
   ]
  },
  {
   "cell_type": "code",
   "execution_count": 10,
   "metadata": {},
   "outputs": [],
   "source": [
    "def more(text, numlines = 10):\n",
    "    lines = text.splitlines()\n",
    "    while lines:\n",
    "        chunk = lines[:numlines]\n",
    "        lines = lines[numlines:]\n",
    "        for line in chunk:\n",
    "            print(line)\n",
    "        if lines and input('More? (y/n) ') in 'nN':\n",
    "            break"
   ]
  },
  {
   "cell_type": "code",
   "execution_count": 11,
   "metadata": {},
   "outputs": [
    {
     "name": "stdout",
     "output_type": "stream",
     "text": [
      "This module provides access to some objects used or maintained by the\n",
      "interpreter and to functions that interact strongly with the interpreter.\n",
      "\n",
      "Dynamic objects:\n",
      "\n",
      "argv -- command line arguments; argv[0] is the script pathname if known\n",
      "path -- module search path; path[0] is the script directory, else ''\n",
      "modules -- dictionary of loaded modules\n",
      "\n",
      "displayhook -- called to show results in an interactive session\n",
      "More? (y/n) n\n"
     ]
    }
   ],
   "source": [
    "more(sys.__doc__)"
   ]
  },
  {
   "cell_type": "code",
   "execution_count": 20,
   "metadata": {},
   "outputs": [
    {
     "name": "stdout",
     "output_type": "stream",
     "text": [
      "Äè\n",
      "Äè\n",
      "b'abc'\n",
      "b'\\xc4\\xe8'\n",
      "b'\\\\u00c4\\\\u00e8'\n",
      "Ä\n"
     ]
    }
   ],
   "source": [
    "print('\\xc4\\xe8')\n",
    "print('\\u00c4\\u00e8')\n",
    "print(b'abc')\n",
    "print(b'\\xc4\\xe8')\n",
    "print(b'\\u00c4\\u00e8')\n",
    "print(chr(16*12 + 4)) # 'c' = 12"
   ]
  },
  {
   "cell_type": "markdown",
   "metadata": {},
   "source": [
    "- page 83\n",
    "    - need to follow up on `\\u`, `\\x`, `b`\n",
    "    - python docs: https://docs.python.org/3/reference/lexical_analysis.html#string-and-bytes-literals"
   ]
  },
  {
   "cell_type": "code",
   "execution_count": 21,
   "metadata": {},
   "outputs": [
    {
     "data": {
      "text/plain": [
       "65536"
      ]
     },
     "execution_count": 21,
     "metadata": {},
     "output_type": "execute_result"
    }
   ],
   "source": [
    "2**16"
   ]
  },
  {
   "cell_type": "markdown",
   "metadata": {},
   "source": [
    "## Random thoughts:\n",
    "- page 79\n",
    "    - Q: can I write a script to read a `.py` file and write the code to the screen? can the script read itself (i.e. can a running file open a copy of itself and read it?)\n",
    "    - A: yes, it works. :-) (see read_code.py)"
   ]
  },
  {
   "cell_type": "code",
   "execution_count": 7,
   "metadata": {},
   "outputs": [
    {
     "name": "stdout",
     "output_type": "stream",
     "text": [
      "['abc']\n",
      "['abc', 'a']\n",
      "['abc', 'a', 'b\\ta', 'c']\n"
     ]
    }
   ],
   "source": [
    "a = ['abc', 'abc\\na', 'abc\\na\\nb\\ta\\nc']\n",
    "for _ in a:\n",
    "    print(_.splitlines())"
   ]
  },
  {
   "cell_type": "code",
   "execution_count": 24,
   "metadata": {},
   "outputs": [],
   "source": [
    "a = '12345678353i4u5ouihse9'"
   ]
  },
  {
   "cell_type": "code",
   "execution_count": null,
   "metadata": {},
   "outputs": [],
   "source": []
  },
  {
   "cell_type": "code",
   "execution_count": 27,
   "metadata": {},
   "outputs": [],
   "source": [
    "def paging(string, num):\n",
    "    print_now = string[:num]\n",
    "    if print_now:\n",
    "        for char in print_now:\n",
    "            print(char)\n",
    "        remaining = string[num:]\n",
    "        if remaining and input('More (y/n): ') == 'y':\n",
    "            paging(remaining, num)\n"
   ]
  },
  {
   "cell_type": "code",
   "execution_count": 28,
   "metadata": {},
   "outputs": [
    {
     "name": "stdout",
     "output_type": "stream",
     "text": [
      "1\n",
      "2\n",
      "3\n",
      "More (y/n): y\n",
      "4\n",
      "5\n",
      "6\n",
      "More (y/n): y\n",
      "7\n",
      "8\n",
      "3\n",
      "More (y/n): y\n",
      "5\n",
      "3\n",
      "i\n",
      "More (y/n): n\n"
     ]
    }
   ],
   "source": [
    "paging(a, 3)"
   ]
  },
  {
   "cell_type": "code",
   "execution_count": 21,
   "metadata": {},
   "outputs": [],
   "source": [
    "!touch test.py"
   ]
  },
  {
   "cell_type": "markdown",
   "metadata": {},
   "source": [
    "## The `sys` module <small>(p.86)</small>"
   ]
  },
  {
   "cell_type": "code",
   "execution_count": 2,
   "metadata": {},
   "outputs": [
    {
     "data": {
      "text/plain": [
       "('darwin',\n",
       " 9223372036854775807,\n",
       " '3.7.7 (default, Mar 26 2020, 10:32:53) \\n[Clang 4.0.1 (tags/RELEASE_401/final)]')"
      ]
     },
     "execution_count": 2,
     "metadata": {},
     "output_type": "execute_result"
    }
   ],
   "source": [
    "sys.platform, sys.maxsize, sys.version"
   ]
  },
  {
   "cell_type": "code",
   "execution_count": 5,
   "metadata": {
    "scrolled": true
   },
   "outputs": [
    {
     "name": "stdout",
     "output_type": "stream",
     "text": [
      "__breakpointhook__\n",
      "__displayhook__\n",
      "__doc__\n",
      "__excepthook__\n",
      "__interactivehook__\n",
      "__loader__\n",
      "__name__\n",
      "__package__\n",
      "__spec__\n",
      "__stderr__\n",
      "__stdin__\n",
      "__stdout__\n",
      "_clear_type_cache\n",
      "_current_frames\n",
      "_debugmallocstats\n",
      "_framework\n",
      "_getframe\n",
      "_git\n",
      "_home\n",
      "_xoptions\n",
      "abiflags\n",
      "api_version\n",
      "argv\n",
      "base_exec_prefix\n",
      "base_prefix\n",
      "breakpointhook\n",
      "builtin_module_names\n",
      "byteorder\n",
      "call_tracing\n",
      "callstats\n",
      "copyright\n",
      "displayhook\n",
      "dont_write_bytecode\n",
      "exc_info\n",
      "excepthook\n",
      "exec_prefix\n",
      "executable\n",
      "exit\n",
      "flags\n",
      "float_info\n",
      "float_repr_style\n",
      "get_asyncgen_hooks\n",
      "get_coroutine_origin_tracking_depth\n",
      "get_coroutine_wrapper\n",
      "getallocatedblocks\n",
      "getcheckinterval\n",
      "getdefaultencoding\n",
      "getdlopenflags\n",
      "getfilesystemencodeerrors\n",
      "getfilesystemencoding\n",
      "getprofile\n",
      "getrecursionlimit\n",
      "getrefcount\n",
      "getsizeof\n",
      "getswitchinterval\n",
      "gettrace\n",
      "hash_info\n",
      "hexversion\n",
      "implementation\n",
      "int_info\n",
      "intern\n",
      "is_finalizing\n",
      "maxsize\n",
      "maxunicode\n",
      "meta_path\n",
      "modules\n",
      "path\n",
      "path_hooks\n",
      "path_importer_cache\n",
      "platform\n",
      "prefix\n",
      "ps1\n",
      "ps2\n",
      "ps3\n",
      "set_asyncgen_hooks\n",
      "set_coroutine_origin_tracking_depth\n",
      "set_coroutine_wrapper\n",
      "setcheckinterval\n",
      "setdlopenflags\n",
      "setprofile\n",
      "setrecursionlimit\n",
      "setswitchinterval\n",
      "settrace\n",
      "stderr\n",
      "stdin\n",
      "stdout\n",
      "thread_info\n",
      "version\n",
      "version_info\n",
      "warnoptions\n"
     ]
    }
   ],
   "source": [
    "for attr in dir(sys):\n",
    "    if not callable(attr):\n",
    "        print(attr)"
   ]
  },
  {
   "cell_type": "code",
   "execution_count": 10,
   "metadata": {},
   "outputs": [
    {
     "data": {
      "text/plain": [
       "['/Users/biancaaguglia/temp_for_offline/bianca_aguglia/projects_wip/BA_notes_assignments_projects/notes/book_lutz_programming_python/ch_02_system_tools',\n",
       " '/Users/biancaaguglia/opt/anaconda3/envs/tf/lib/python37.zip',\n",
       " '/Users/biancaaguglia/opt/anaconda3/envs/tf/lib/python3.7',\n",
       " '/Users/biancaaguglia/opt/anaconda3/envs/tf/lib/python3.7/lib-dynload',\n",
       " '',\n",
       " '/Users/biancaaguglia/opt/anaconda3/envs/tf/lib/python3.7/site-packages',\n",
       " '/Users/biancaaguglia/opt/anaconda3/envs/tf/lib/python3.7/site-packages/IPython/extensions',\n",
       " '/Users/biancaaguglia/.ipython']"
      ]
     },
     "execution_count": 10,
     "metadata": {},
     "output_type": "execute_result"
    }
   ],
   "source": [
    "sys.path"
   ]
  },
  {
   "cell_type": "code",
   "execution_count": 14,
   "metadata": {},
   "outputs": [
    {
     "name": "stdout",
     "output_type": "stream",
     "text": [
      "\\n\\tb\n"
     ]
    },
    {
     "data": {
      "text/plain": [
       "'\\\\n\\\\tb'"
      ]
     },
     "execution_count": 14,
     "metadata": {},
     "output_type": "execute_result"
    }
   ],
   "source": [
    "s = r'\\n\\tb'\n",
    "print(s)\n",
    "s"
   ]
  },
  {
   "cell_type": "code",
   "execution_count": 16,
   "metadata": {},
   "outputs": [
    {
     "name": "stdout",
     "output_type": "stream",
     "text": [
      "761\n"
     ]
    },
    {
     "data": {
      "text/plain": [
       "{'sys': <module 'sys' (built-in)>,\n",
       " 'builtins': <module 'builtins' (built-in)>,\n",
       " '_frozen_importlib': <module 'importlib._bootstrap' (frozen)>,\n",
       " '_imp': <module '_imp' (built-in)>,\n",
       " '_thread': <module '_thread' (built-in)>,\n",
       " '_warnings': <module '_warnings' (built-in)>,\n",
       " '_weakref': <module '_weakref' (built-in)>,\n",
       " 'zipimport': <module 'zipimport' (built-in)>,\n",
       " '_frozen_importlib_external': <module 'importlib._bootstrap_external' (frozen)>,\n",
       " '_io': <module 'io' (built-in)>,\n",
       " 'marshal': <module 'marshal' (built-in)>,\n",
       " 'posix': <module 'posix' (built-in)>,\n",
       " 'encodings': <module 'encodings' from '/Users/biancaaguglia/opt/anaconda3/envs/tf/lib/python3.7/encodings/__init__.py'>,\n",
       " 'codecs': <module 'codecs' from '/Users/biancaaguglia/opt/anaconda3/envs/tf/lib/python3.7/codecs.py'>,\n",
       " '_codecs': <module '_codecs' (built-in)>,\n",
       " 'encodings.aliases': <module 'encodings.aliases' from '/Users/biancaaguglia/opt/anaconda3/envs/tf/lib/python3.7/encodings/aliases.py'>,\n",
       " 'encodings.utf_8': <module 'encodings.utf_8' from '/Users/biancaaguglia/opt/anaconda3/envs/tf/lib/python3.7/encodings/utf_8.py'>,\n",
       " '_signal': <module '_signal' (built-in)>,\n",
       " '__main__': <module '__main__'>,\n",
       " 'encodings.latin_1': <module 'encodings.latin_1' from '/Users/biancaaguglia/opt/anaconda3/envs/tf/lib/python3.7/encodings/latin_1.py'>,\n",
       " 'io': <module 'io' from '/Users/biancaaguglia/opt/anaconda3/envs/tf/lib/python3.7/io.py'>,\n",
       " 'abc': <module 'abc' from '/Users/biancaaguglia/opt/anaconda3/envs/tf/lib/python3.7/abc.py'>,\n",
       " '_abc': <module '_abc' (built-in)>,\n",
       " '_bootlocale': <module '_bootlocale' from '/Users/biancaaguglia/opt/anaconda3/envs/tf/lib/python3.7/_bootlocale.py'>,\n",
       " '_locale': <module '_locale' (built-in)>,\n",
       " 'site': <module 'site' from '/Users/biancaaguglia/opt/anaconda3/envs/tf/lib/python3.7/site.py'>,\n",
       " 'os': <module 'os' from '/Users/biancaaguglia/opt/anaconda3/envs/tf/lib/python3.7/os.py'>,\n",
       " 'stat': <module 'stat' from '/Users/biancaaguglia/opt/anaconda3/envs/tf/lib/python3.7/stat.py'>,\n",
       " '_stat': <module '_stat' (built-in)>,\n",
       " '_collections_abc': <module '_collections_abc' from '/Users/biancaaguglia/opt/anaconda3/envs/tf/lib/python3.7/_collections_abc.py'>,\n",
       " 'posixpath': <module 'posixpath' from '/Users/biancaaguglia/opt/anaconda3/envs/tf/lib/python3.7/posixpath.py'>,\n",
       " 'genericpath': <module 'genericpath' from '/Users/biancaaguglia/opt/anaconda3/envs/tf/lib/python3.7/genericpath.py'>,\n",
       " 'os.path': <module 'posixpath' from '/Users/biancaaguglia/opt/anaconda3/envs/tf/lib/python3.7/posixpath.py'>,\n",
       " '_sitebuiltins': <module '_sitebuiltins' from '/Users/biancaaguglia/opt/anaconda3/envs/tf/lib/python3.7/_sitebuiltins.py'>,\n",
       " 'types': <module 'types' from '/Users/biancaaguglia/opt/anaconda3/envs/tf/lib/python3.7/types.py'>,\n",
       " 'importlib': <module 'importlib' from '/Users/biancaaguglia/opt/anaconda3/envs/tf/lib/python3.7/importlib/__init__.py'>,\n",
       " 'importlib._bootstrap': <module 'importlib._bootstrap' (frozen)>,\n",
       " 'importlib._bootstrap_external': <module 'importlib._bootstrap_external' (frozen)>,\n",
       " 'warnings': <module 'warnings' from '/Users/biancaaguglia/opt/anaconda3/envs/tf/lib/python3.7/warnings.py'>,\n",
       " 'importlib.util': <module 'importlib.util' from '/Users/biancaaguglia/opt/anaconda3/envs/tf/lib/python3.7/importlib/util.py'>,\n",
       " 'importlib.abc': <module 'importlib.abc' from '/Users/biancaaguglia/opt/anaconda3/envs/tf/lib/python3.7/importlib/abc.py'>,\n",
       " 'importlib.machinery': <module 'importlib.machinery' from '/Users/biancaaguglia/opt/anaconda3/envs/tf/lib/python3.7/importlib/machinery.py'>,\n",
       " 'contextlib': <module 'contextlib' from '/Users/biancaaguglia/opt/anaconda3/envs/tf/lib/python3.7/contextlib.py'>,\n",
       " 'collections': <module 'collections' from '/Users/biancaaguglia/opt/anaconda3/envs/tf/lib/python3.7/collections/__init__.py'>,\n",
       " 'operator': <module 'operator' from '/Users/biancaaguglia/opt/anaconda3/envs/tf/lib/python3.7/operator.py'>,\n",
       " '_operator': <module '_operator' (built-in)>,\n",
       " 'keyword': <module 'keyword' from '/Users/biancaaguglia/opt/anaconda3/envs/tf/lib/python3.7/keyword.py'>,\n",
       " 'heapq': <module 'heapq' from '/Users/biancaaguglia/opt/anaconda3/envs/tf/lib/python3.7/heapq.py'>,\n",
       " '_heapq': <module '_heapq' from '/Users/biancaaguglia/opt/anaconda3/envs/tf/lib/python3.7/lib-dynload/_heapq.cpython-37m-darwin.so'>,\n",
       " 'itertools': <module 'itertools' (built-in)>,\n",
       " 'reprlib': <module 'reprlib' from '/Users/biancaaguglia/opt/anaconda3/envs/tf/lib/python3.7/reprlib.py'>,\n",
       " '_collections': <module '_collections' (built-in)>,\n",
       " 'functools': <module 'functools' from '/Users/biancaaguglia/opt/anaconda3/envs/tf/lib/python3.7/functools.py'>,\n",
       " '_functools': <module '_functools' (built-in)>,\n",
       " 'mpl_toolkits': <module 'mpl_toolkits' (namespace)>,\n",
       " 'google': <module 'google' (namespace)>,\n",
       " 'PyObjCTools': <module 'PyObjCTools' (namespace)>,\n",
       " 'runpy': <module 'runpy' from '/Users/biancaaguglia/opt/anaconda3/envs/tf/lib/python3.7/runpy.py'>,\n",
       " 'pkgutil': <module 'pkgutil' from '/Users/biancaaguglia/opt/anaconda3/envs/tf/lib/python3.7/pkgutil.py'>,\n",
       " 'weakref': <module 'weakref' from '/Users/biancaaguglia/opt/anaconda3/envs/tf/lib/python3.7/weakref.py'>,\n",
       " '_weakrefset': <module '_weakrefset' from '/Users/biancaaguglia/opt/anaconda3/envs/tf/lib/python3.7/_weakrefset.py'>,\n",
       " 'ipykernel': <module 'ipykernel' from '/Users/biancaaguglia/opt/anaconda3/envs/tf/lib/python3.7/site-packages/ipykernel/__init__.py'>,\n",
       " 'ipykernel._version': <module 'ipykernel._version' from '/Users/biancaaguglia/opt/anaconda3/envs/tf/lib/python3.7/site-packages/ipykernel/_version.py'>,\n",
       " 'ipykernel.connect': <module 'ipykernel.connect' from '/Users/biancaaguglia/opt/anaconda3/envs/tf/lib/python3.7/site-packages/ipykernel/connect.py'>,\n",
       " '__future__': <module '__future__' from '/Users/biancaaguglia/opt/anaconda3/envs/tf/lib/python3.7/__future__.py'>,\n",
       " 'json': <module 'json' from '/Users/biancaaguglia/opt/anaconda3/envs/tf/lib/python3.7/json/__init__.py'>,\n",
       " 'json.decoder': <module 'json.decoder' from '/Users/biancaaguglia/opt/anaconda3/envs/tf/lib/python3.7/json/decoder.py'>,\n",
       " 're': <module 're' from '/Users/biancaaguglia/opt/anaconda3/envs/tf/lib/python3.7/re.py'>,\n",
       " 'enum': <module 'enum' from '/Users/biancaaguglia/opt/anaconda3/envs/tf/lib/python3.7/enum.py'>,\n",
       " 'sre_compile': <module 'sre_compile' from '/Users/biancaaguglia/opt/anaconda3/envs/tf/lib/python3.7/sre_compile.py'>,\n",
       " '_sre': <module '_sre' (built-in)>,\n",
       " 'sre_parse': <module 'sre_parse' from '/Users/biancaaguglia/opt/anaconda3/envs/tf/lib/python3.7/sre_parse.py'>,\n",
       " 'sre_constants': <module 'sre_constants' from '/Users/biancaaguglia/opt/anaconda3/envs/tf/lib/python3.7/sre_constants.py'>,\n",
       " 'copyreg': <module 'copyreg' from '/Users/biancaaguglia/opt/anaconda3/envs/tf/lib/python3.7/copyreg.py'>,\n",
       " 'json.scanner': <module 'json.scanner' from '/Users/biancaaguglia/opt/anaconda3/envs/tf/lib/python3.7/json/scanner.py'>,\n",
       " '_json': <module '_json' from '/Users/biancaaguglia/opt/anaconda3/envs/tf/lib/python3.7/lib-dynload/_json.cpython-37m-darwin.so'>,\n",
       " 'json.encoder': <module 'json.encoder' from '/Users/biancaaguglia/opt/anaconda3/envs/tf/lib/python3.7/json/encoder.py'>,\n",
       " 'subprocess': <module 'subprocess' from '/Users/biancaaguglia/opt/anaconda3/envs/tf/lib/python3.7/subprocess.py'>,\n",
       " 'time': <module 'time' (built-in)>,\n",
       " 'signal': <module 'signal' from '/Users/biancaaguglia/opt/anaconda3/envs/tf/lib/python3.7/signal.py'>,\n",
       " 'errno': <module 'errno' (built-in)>,\n",
       " '_posixsubprocess': <module '_posixsubprocess' from '/Users/biancaaguglia/opt/anaconda3/envs/tf/lib/python3.7/lib-dynload/_posixsubprocess.cpython-37m-darwin.so'>,\n",
       " 'select': <module 'select' from '/Users/biancaaguglia/opt/anaconda3/envs/tf/lib/python3.7/lib-dynload/select.cpython-37m-darwin.so'>,\n",
       " 'selectors': <module 'selectors' from '/Users/biancaaguglia/opt/anaconda3/envs/tf/lib/python3.7/selectors.py'>,\n",
       " 'collections.abc': <module 'collections.abc' from '/Users/biancaaguglia/opt/anaconda3/envs/tf/lib/python3.7/collections/abc.py'>,\n",
       " 'math': <module 'math' from '/Users/biancaaguglia/opt/anaconda3/envs/tf/lib/python3.7/lib-dynload/math.cpython-37m-darwin.so'>,\n",
       " 'threading': <module 'threading' from '/Users/biancaaguglia/opt/anaconda3/envs/tf/lib/python3.7/threading.py'>,\n",
       " 'traceback': <module 'traceback' from '/Users/biancaaguglia/opt/anaconda3/envs/tf/lib/python3.7/traceback.py'>,\n",
       " 'linecache': <module 'linecache' from '/Users/biancaaguglia/opt/anaconda3/envs/tf/lib/python3.7/linecache.py'>,\n",
       " 'tokenize': <module 'tokenize' from '/Users/biancaaguglia/opt/anaconda3/envs/tf/lib/python3.7/tokenize.py'>,\n",
       " 'token': <module 'token' from '/Users/biancaaguglia/opt/anaconda3/envs/tf/lib/python3.7/token.py'>,\n",
       " 'IPython': <module 'IPython' from '/Users/biancaaguglia/opt/anaconda3/envs/tf/lib/python3.7/site-packages/IPython/__init__.py'>,\n",
       " 'IPython.core': <module 'IPython.core' from '/Users/biancaaguglia/opt/anaconda3/envs/tf/lib/python3.7/site-packages/IPython/core/__init__.py'>,\n",
       " 'IPython.core.getipython': <module 'IPython.core.getipython' from '/Users/biancaaguglia/opt/anaconda3/envs/tf/lib/python3.7/site-packages/IPython/core/getipython.py'>,\n",
       " 'IPython.core.release': <module 'IPython.core.release' from '/Users/biancaaguglia/opt/anaconda3/envs/tf/lib/python3.7/site-packages/IPython/core/release.py'>,\n",
       " 'IPython.core.application': <module 'IPython.core.application' from '/Users/biancaaguglia/opt/anaconda3/envs/tf/lib/python3.7/site-packages/IPython/core/application.py'>,\n",
       " 'atexit': <module 'atexit' (built-in)>,\n",
       " 'copy': <module 'copy' from '/Users/biancaaguglia/opt/anaconda3/envs/tf/lib/python3.7/copy.py'>,\n",
       " 'glob': <module 'glob' from '/Users/biancaaguglia/opt/anaconda3/envs/tf/lib/python3.7/glob.py'>,\n",
       " 'fnmatch': <module 'fnmatch' from '/Users/biancaaguglia/opt/anaconda3/envs/tf/lib/python3.7/fnmatch.py'>,\n",
       " 'logging': <module 'logging' from '/Users/biancaaguglia/opt/anaconda3/envs/tf/lib/python3.7/logging/__init__.py'>,\n",
       " 'string': <module 'string' from '/Users/biancaaguglia/opt/anaconda3/envs/tf/lib/python3.7/string.py'>,\n",
       " '_string': <module '_string' (built-in)>,\n",
       " 'shutil': <module 'shutil' from '/Users/biancaaguglia/opt/anaconda3/envs/tf/lib/python3.7/shutil.py'>,\n",
       " 'zlib': <module 'zlib' from '/Users/biancaaguglia/opt/anaconda3/envs/tf/lib/python3.7/lib-dynload/zlib.cpython-37m-darwin.so'>,\n",
       " 'bz2': <module 'bz2' from '/Users/biancaaguglia/opt/anaconda3/envs/tf/lib/python3.7/bz2.py'>,\n",
       " '_compression': <module '_compression' from '/Users/biancaaguglia/opt/anaconda3/envs/tf/lib/python3.7/_compression.py'>,\n",
       " '_bz2': <module '_bz2' from '/Users/biancaaguglia/opt/anaconda3/envs/tf/lib/python3.7/lib-dynload/_bz2.cpython-37m-darwin.so'>,\n",
       " 'lzma': <module 'lzma' from '/Users/biancaaguglia/opt/anaconda3/envs/tf/lib/python3.7/lzma.py'>,\n",
       " '_lzma': <module '_lzma' from '/Users/biancaaguglia/opt/anaconda3/envs/tf/lib/python3.7/lib-dynload/_lzma.cpython-37m-darwin.so'>,\n",
       " 'pwd': <module 'pwd' (built-in)>,\n",
       " 'grp': <module 'grp' from '/Users/biancaaguglia/opt/anaconda3/envs/tf/lib/python3.7/lib-dynload/grp.cpython-37m-darwin.so'>,\n",
       " 'traitlets': <module 'traitlets' from '/Users/biancaaguglia/opt/anaconda3/envs/tf/lib/python3.7/site-packages/traitlets/__init__.py'>,\n",
       " 'traitlets.traitlets': <module 'traitlets.traitlets' from '/Users/biancaaguglia/opt/anaconda3/envs/tf/lib/python3.7/site-packages/traitlets/traitlets.py'>,\n",
       " 'ast': <module 'ast' from '/Users/biancaaguglia/opt/anaconda3/envs/tf/lib/python3.7/ast.py'>,\n",
       " '_ast': <module '_ast' (built-in)>,\n",
       " 'inspect': <module 'inspect' from '/Users/biancaaguglia/opt/anaconda3/envs/tf/lib/python3.7/inspect.py'>,\n",
       " 'dis': <module 'dis' from '/Users/biancaaguglia/opt/anaconda3/envs/tf/lib/python3.7/dis.py'>,\n",
       " 'opcode': <module 'opcode' from '/Users/biancaaguglia/opt/anaconda3/envs/tf/lib/python3.7/opcode.py'>,\n",
       " '_opcode': <module '_opcode' from '/Users/biancaaguglia/opt/anaconda3/envs/tf/lib/python3.7/lib-dynload/_opcode.cpython-37m-darwin.so'>,\n",
       " 'traitlets.utils': <module 'traitlets.utils' from '/Users/biancaaguglia/opt/anaconda3/envs/tf/lib/python3.7/site-packages/traitlets/utils/__init__.py'>,\n",
       " 'traitlets.utils.getargspec': <module 'traitlets.utils.getargspec' from '/Users/biancaaguglia/opt/anaconda3/envs/tf/lib/python3.7/site-packages/traitlets/utils/getargspec.py'>,\n",
       " 'traitlets.utils.importstring': <module 'traitlets.utils.importstring' from '/Users/biancaaguglia/opt/anaconda3/envs/tf/lib/python3.7/site-packages/traitlets/utils/importstring.py'>,\n",
       " 'traitlets.utils.sentinel': <module 'traitlets.utils.sentinel' from '/Users/biancaaguglia/opt/anaconda3/envs/tf/lib/python3.7/site-packages/traitlets/utils/sentinel.py'>,\n",
       " 'traitlets.utils.bunch': <module 'traitlets.utils.bunch' from '/Users/biancaaguglia/opt/anaconda3/envs/tf/lib/python3.7/site-packages/traitlets/utils/bunch.py'>,\n",
       " 'traitlets.utils.descriptions': <module 'traitlets.utils.descriptions' from '/Users/biancaaguglia/opt/anaconda3/envs/tf/lib/python3.7/site-packages/traitlets/utils/descriptions.py'>,\n",
       " 'traitlets.utils.decorators': <module 'traitlets.utils.decorators' from '/Users/biancaaguglia/opt/anaconda3/envs/tf/lib/python3.7/site-packages/traitlets/utils/decorators.py'>,\n",
       " 'traitlets._version': <module 'traitlets._version' from '/Users/biancaaguglia/opt/anaconda3/envs/tf/lib/python3.7/site-packages/traitlets/_version.py'>,\n",
       " 'traitlets.config': <module 'traitlets.config' from '/Users/biancaaguglia/opt/anaconda3/envs/tf/lib/python3.7/site-packages/traitlets/config/__init__.py'>,\n",
       " 'traitlets.config.application': <module 'traitlets.config.application' from '/Users/biancaaguglia/opt/anaconda3/envs/tf/lib/python3.7/site-packages/traitlets/config/application.py'>,\n",
       " 'pprint': <module 'pprint' from '/Users/biancaaguglia/opt/anaconda3/envs/tf/lib/python3.7/pprint.py'>,\n",
       " 'traitlets.config.configurable': <module 'traitlets.config.configurable' from '/Users/biancaaguglia/opt/anaconda3/envs/tf/lib/python3.7/site-packages/traitlets/config/configurable.py'>,\n",
       " 'traitlets.config.loader': <module 'traitlets.config.loader' from '/Users/biancaaguglia/opt/anaconda3/envs/tf/lib/python3.7/site-packages/traitlets/config/loader.py'>,\n",
       " 'argparse': <module 'argparse' from '/Users/biancaaguglia/opt/anaconda3/envs/tf/lib/python3.7/argparse.py'>,\n",
       " 'gettext': <module 'gettext' from '/Users/biancaaguglia/opt/anaconda3/envs/tf/lib/python3.7/gettext.py'>,\n",
       " 'locale': <module 'locale' from '/Users/biancaaguglia/opt/anaconda3/envs/tf/lib/python3.7/locale.py'>,\n",
       " 'ipython_genutils': <module 'ipython_genutils' from '/Users/biancaaguglia/opt/anaconda3/envs/tf/lib/python3.7/site-packages/ipython_genutils/__init__.py'>,\n",
       " 'ipython_genutils._version': <module 'ipython_genutils._version' from '/Users/biancaaguglia/opt/anaconda3/envs/tf/lib/python3.7/site-packages/ipython_genutils/_version.py'>,\n",
       " 'ipython_genutils.path': <module 'ipython_genutils.path' from '/Users/biancaaguglia/opt/anaconda3/envs/tf/lib/python3.7/site-packages/ipython_genutils/path.py'>,\n",
       " 'random': <module 'random' from '/Users/biancaaguglia/opt/anaconda3/envs/tf/lib/python3.7/random.py'>,\n",
       " 'hashlib': <module 'hashlib' from '/Users/biancaaguglia/opt/anaconda3/envs/tf/lib/python3.7/hashlib.py'>,\n",
       " '_hashlib': <module '_hashlib' from '/Users/biancaaguglia/opt/anaconda3/envs/tf/lib/python3.7/lib-dynload/_hashlib.cpython-37m-darwin.so'>,\n",
       " '_blake2': <module '_blake2' from '/Users/biancaaguglia/opt/anaconda3/envs/tf/lib/python3.7/lib-dynload/_blake2.cpython-37m-darwin.so'>,\n",
       " '_sha3': <module '_sha3' from '/Users/biancaaguglia/opt/anaconda3/envs/tf/lib/python3.7/lib-dynload/_sha3.cpython-37m-darwin.so'>,\n",
       " 'bisect': <module 'bisect' from '/Users/biancaaguglia/opt/anaconda3/envs/tf/lib/python3.7/bisect.py'>,\n",
       " '_bisect': <module '_bisect' from '/Users/biancaaguglia/opt/anaconda3/envs/tf/lib/python3.7/lib-dynload/_bisect.cpython-37m-darwin.so'>,\n",
       " '_random': <module '_random' from '/Users/biancaaguglia/opt/anaconda3/envs/tf/lib/python3.7/lib-dynload/_random.cpython-37m-darwin.so'>,\n",
       " 'ipython_genutils.py3compat': <module 'ipython_genutils.py3compat' from '/Users/biancaaguglia/opt/anaconda3/envs/tf/lib/python3.7/site-packages/ipython_genutils/py3compat.py'>,\n",
       " 'ipython_genutils.encoding': <module 'ipython_genutils.encoding' from '/Users/biancaaguglia/opt/anaconda3/envs/tf/lib/python3.7/site-packages/ipython_genutils/encoding.py'>,\n",
       " 'platform': <module 'platform' from '/Users/biancaaguglia/opt/anaconda3/envs/tf/lib/python3.7/platform.py'>,\n",
       " 'ipython_genutils.text': <module 'ipython_genutils.text' from '/Users/biancaaguglia/opt/anaconda3/envs/tf/lib/python3.7/site-packages/ipython_genutils/text.py'>,\n",
       " 'textwrap': <module 'textwrap' from '/Users/biancaaguglia/opt/anaconda3/envs/tf/lib/python3.7/textwrap.py'>,\n",
       " 'IPython.core.crashhandler': <module 'IPython.core.crashhandler' from '/Users/biancaaguglia/opt/anaconda3/envs/tf/lib/python3.7/site-packages/IPython/core/crashhandler.py'>,\n",
       " 'IPython.core.ultratb': <module 'IPython.core.ultratb' from '/Users/biancaaguglia/opt/anaconda3/envs/tf/lib/python3.7/site-packages/IPython/core/ultratb.py'>,\n",
       " 'pydoc': <module 'pydoc' from '/Users/biancaaguglia/opt/anaconda3/envs/tf/lib/python3.7/pydoc.py'>,\n",
       " 'sysconfig': <module 'sysconfig' from '/Users/biancaaguglia/opt/anaconda3/envs/tf/lib/python3.7/sysconfig.py'>,\n",
       " 'urllib': <module 'urllib' from '/Users/biancaaguglia/opt/anaconda3/envs/tf/lib/python3.7/urllib/__init__.py'>,\n",
       " 'urllib.parse': <module 'urllib.parse' from '/Users/biancaaguglia/opt/anaconda3/envs/tf/lib/python3.7/urllib/parse.py'>,\n",
       " '_sysconfigdata_m_darwin_darwin': <module '_sysconfigdata_m_darwin_darwin' from '/Users/biancaaguglia/opt/anaconda3/envs/tf/lib/python3.7/_sysconfigdata_m_darwin_darwin.py'>,\n",
       " '_osx_support': <module '_osx_support' from '/Users/biancaaguglia/opt/anaconda3/envs/tf/lib/python3.7/_osx_support.py'>,\n",
       " 'IPython.core.debugger': <module 'IPython.core.debugger' from '/Users/biancaaguglia/opt/anaconda3/envs/tf/lib/python3.7/site-packages/IPython/core/debugger.py'>,\n",
       " 'bdb': <module 'bdb' from '/Users/biancaaguglia/opt/anaconda3/envs/tf/lib/python3.7/bdb.py'>,\n",
       " 'IPython.utils': <module 'IPython.utils' from '/Users/biancaaguglia/opt/anaconda3/envs/tf/lib/python3.7/site-packages/IPython/utils/__init__.py'>,\n",
       " 'IPython.utils.PyColorize': <module 'IPython.utils.PyColorize' from '/Users/biancaaguglia/opt/anaconda3/envs/tf/lib/python3.7/site-packages/IPython/utils/PyColorize.py'>,\n",
       " 'IPython.utils.coloransi': <module 'IPython.utils.coloransi' from '/Users/biancaaguglia/opt/anaconda3/envs/tf/lib/python3.7/site-packages/IPython/utils/coloransi.py'>,\n",
       " 'IPython.utils.ipstruct': <module 'IPython.utils.ipstruct' from '/Users/biancaaguglia/opt/anaconda3/envs/tf/lib/python3.7/site-packages/IPython/utils/ipstruct.py'>,\n",
       " 'IPython.utils.colorable': <module 'IPython.utils.colorable' from '/Users/biancaaguglia/opt/anaconda3/envs/tf/lib/python3.7/site-packages/IPython/utils/colorable.py'>,\n",
       " 'pygments': <module 'pygments' from '/Users/biancaaguglia/opt/anaconda3/envs/tf/lib/python3.7/site-packages/pygments/__init__.py'>,\n",
       " 'IPython.utils.py3compat': <module 'IPython.utils.py3compat' from '/Users/biancaaguglia/opt/anaconda3/envs/tf/lib/python3.7/site-packages/IPython/utils/py3compat.py'>,\n",
       " 'IPython.utils.encoding': <module 'IPython.utils.encoding' from '/Users/biancaaguglia/opt/anaconda3/envs/tf/lib/python3.7/site-packages/IPython/utils/encoding.py'>,\n",
       " 'IPython.core.excolors': <module 'IPython.core.excolors' from '/Users/biancaaguglia/opt/anaconda3/envs/tf/lib/python3.7/site-packages/IPython/core/excolors.py'>,\n",
       " 'IPython.testing': <module 'IPython.testing' from '/Users/biancaaguglia/opt/anaconda3/envs/tf/lib/python3.7/site-packages/IPython/testing/__init__.py'>,\n",
       " 'IPython.testing.skipdoctest': <module 'IPython.testing.skipdoctest' from '/Users/biancaaguglia/opt/anaconda3/envs/tf/lib/python3.7/site-packages/IPython/testing/skipdoctest.py'>,\n",
       " 'pdb': <module 'pdb' from '/Users/biancaaguglia/opt/anaconda3/envs/tf/lib/python3.7/pdb.py'>,\n",
       " 'cmd': <module 'cmd' from '/Users/biancaaguglia/opt/anaconda3/envs/tf/lib/python3.7/cmd.py'>,\n",
       " 'code': <module 'code' from '/Users/biancaaguglia/opt/anaconda3/envs/tf/lib/python3.7/code.py'>,\n",
       " 'codeop': <module 'codeop' from '/Users/biancaaguglia/opt/anaconda3/envs/tf/lib/python3.7/codeop.py'>,\n",
       " 'IPython.core.display_trap': <module 'IPython.core.display_trap' from '/Users/biancaaguglia/opt/anaconda3/envs/tf/lib/python3.7/site-packages/IPython/core/display_trap.py'>,\n",
       " 'IPython.utils.path': <module 'IPython.utils.path' from '/Users/biancaaguglia/opt/anaconda3/envs/tf/lib/python3.7/site-packages/IPython/utils/path.py'>,\n",
       " 'IPython.utils.process': <module 'IPython.utils.process' from '/Users/biancaaguglia/opt/anaconda3/envs/tf/lib/python3.7/site-packages/IPython/utils/process.py'>,\n",
       " 'IPython.utils._process_posix': <module 'IPython.utils._process_posix' from '/Users/biancaaguglia/opt/anaconda3/envs/tf/lib/python3.7/site-packages/IPython/utils/_process_posix.py'>,\n",
       " 'pexpect': <module 'pexpect' from '/Users/biancaaguglia/opt/anaconda3/envs/tf/lib/python3.7/site-packages/pexpect/__init__.py'>,\n",
       " 'pexpect.exceptions': <module 'pexpect.exceptions' from '/Users/biancaaguglia/opt/anaconda3/envs/tf/lib/python3.7/site-packages/pexpect/exceptions.py'>,\n",
       " 'pexpect.utils': <module 'pexpect.utils' from '/Users/biancaaguglia/opt/anaconda3/envs/tf/lib/python3.7/site-packages/pexpect/utils.py'>,\n",
       " 'pexpect.expect': <module 'pexpect.expect' from '/Users/biancaaguglia/opt/anaconda3/envs/tf/lib/python3.7/site-packages/pexpect/expect.py'>,\n",
       " 'pexpect.pty_spawn': <module 'pexpect.pty_spawn' from '/Users/biancaaguglia/opt/anaconda3/envs/tf/lib/python3.7/site-packages/pexpect/pty_spawn.py'>,\n",
       " 'pty': <module 'pty' from '/Users/biancaaguglia/opt/anaconda3/envs/tf/lib/python3.7/pty.py'>,\n",
       " 'tty': <module 'tty' from '/Users/biancaaguglia/opt/anaconda3/envs/tf/lib/python3.7/tty.py'>,\n",
       " 'termios': <module 'termios' from '/Users/biancaaguglia/opt/anaconda3/envs/tf/lib/python3.7/lib-dynload/termios.cpython-37m-darwin.so'>,\n",
       " 'ptyprocess': <module 'ptyprocess' from '/Users/biancaaguglia/opt/anaconda3/envs/tf/lib/python3.7/site-packages/ptyprocess/__init__.py'>,\n",
       " 'ptyprocess.ptyprocess': <module 'ptyprocess.ptyprocess' from '/Users/biancaaguglia/opt/anaconda3/envs/tf/lib/python3.7/site-packages/ptyprocess/ptyprocess.py'>,\n",
       " 'fcntl': <module 'fcntl' from '/Users/biancaaguglia/opt/anaconda3/envs/tf/lib/python3.7/lib-dynload/fcntl.cpython-37m-darwin.so'>,\n",
       " 'resource': <module 'resource' from '/Users/biancaaguglia/opt/anaconda3/envs/tf/lib/python3.7/lib-dynload/resource.cpython-37m-darwin.so'>,\n",
       " 'struct': <module 'struct' from '/Users/biancaaguglia/opt/anaconda3/envs/tf/lib/python3.7/struct.py'>,\n",
       " '_struct': <module '_struct' from '/Users/biancaaguglia/opt/anaconda3/envs/tf/lib/python3.7/lib-dynload/_struct.cpython-37m-darwin.so'>,\n",
       " 'ptyprocess.util': <module 'ptyprocess.util' from '/Users/biancaaguglia/opt/anaconda3/envs/tf/lib/python3.7/site-packages/ptyprocess/util.py'>,\n",
       " 'pexpect.spawnbase': <module 'pexpect.spawnbase' from '/Users/biancaaguglia/opt/anaconda3/envs/tf/lib/python3.7/site-packages/pexpect/spawnbase.py'>,\n",
       " 'pexpect.run': <module 'pexpect.run' from '/Users/biancaaguglia/opt/anaconda3/envs/tf/lib/python3.7/site-packages/pexpect/run.py'>,\n",
       " 'IPython.utils._process_common': <module 'IPython.utils._process_common' from '/Users/biancaaguglia/opt/anaconda3/envs/tf/lib/python3.7/site-packages/IPython/utils/_process_common.py'>,\n",
       " 'shlex': <module 'shlex' from '/Users/biancaaguglia/opt/anaconda3/envs/tf/lib/python3.7/shlex.py'>,\n",
       " 'IPython.utils.decorators': <module 'IPython.utils.decorators' from '/Users/biancaaguglia/opt/anaconda3/envs/tf/lib/python3.7/site-packages/IPython/utils/decorators.py'>,\n",
       " 'IPython.utils.data': <module 'IPython.utils.data' from '/Users/biancaaguglia/opt/anaconda3/envs/tf/lib/python3.7/site-packages/IPython/utils/data.py'>,\n",
       " 'IPython.utils.terminal': <module 'IPython.utils.terminal' from '/Users/biancaaguglia/opt/anaconda3/envs/tf/lib/python3.7/site-packages/IPython/utils/terminal.py'>,\n",
       " 'IPython.utils.sysinfo': <module 'IPython.utils.sysinfo' from '/Users/biancaaguglia/opt/anaconda3/envs/tf/lib/python3.7/site-packages/IPython/utils/sysinfo.py'>,\n",
       " 'IPython.utils._sysinfo': <module 'IPython.utils._sysinfo' from '/Users/biancaaguglia/opt/anaconda3/envs/tf/lib/python3.7/site-packages/IPython/utils/_sysinfo.py'>,\n",
       " 'IPython.core.profiledir': <module 'IPython.core.profiledir' from '/Users/biancaaguglia/opt/anaconda3/envs/tf/lib/python3.7/site-packages/IPython/core/profiledir.py'>,\n",
       " 'IPython.paths': <module 'IPython.paths' from '/Users/biancaaguglia/opt/anaconda3/envs/tf/lib/python3.7/site-packages/IPython/paths.py'>,\n",
       " 'tempfile': <module 'tempfile' from '/Users/biancaaguglia/opt/anaconda3/envs/tf/lib/python3.7/tempfile.py'>,\n",
       " 'IPython.utils.importstring': <module 'IPython.utils.importstring' from '/Users/biancaaguglia/opt/anaconda3/envs/tf/lib/python3.7/site-packages/IPython/utils/importstring.py'>,\n",
       " 'IPython.terminal': <module 'IPython.terminal' from '/Users/biancaaguglia/opt/anaconda3/envs/tf/lib/python3.7/site-packages/IPython/terminal/__init__.py'>,\n",
       " 'IPython.terminal.embed': <module 'IPython.terminal.embed' from '/Users/biancaaguglia/opt/anaconda3/envs/tf/lib/python3.7/site-packages/IPython/terminal/embed.py'>,\n",
       " 'IPython.core.compilerop': <module 'IPython.core.compilerop' from '/Users/biancaaguglia/opt/anaconda3/envs/tf/lib/python3.7/site-packages/IPython/core/compilerop.py'>,\n",
       " 'IPython.core.magic_arguments': <module 'IPython.core.magic_arguments' from '/Users/biancaaguglia/opt/anaconda3/envs/tf/lib/python3.7/site-packages/IPython/core/magic_arguments.py'>,\n",
       " 'IPython.core.error': <module 'IPython.core.error' from '/Users/biancaaguglia/opt/anaconda3/envs/tf/lib/python3.7/site-packages/IPython/core/error.py'>,\n",
       " 'IPython.utils.text': <module 'IPython.utils.text' from '/Users/biancaaguglia/opt/anaconda3/envs/tf/lib/python3.7/site-packages/IPython/utils/text.py'>,\n",
       " 'pathlib': <module 'pathlib' from '/Users/biancaaguglia/opt/anaconda3/envs/tf/lib/python3.7/pathlib.py'>,\n",
       " 'ntpath': <module 'ntpath' from '/Users/biancaaguglia/opt/anaconda3/envs/tf/lib/python3.7/ntpath.py'>,\n",
       " 'IPython.core.magic': <module 'IPython.core.magic' from '/Users/biancaaguglia/opt/anaconda3/envs/tf/lib/python3.7/site-packages/IPython/core/magic.py'>,\n",
       " 'getopt': <module 'getopt' from '/Users/biancaaguglia/opt/anaconda3/envs/tf/lib/python3.7/getopt.py'>,\n",
       " 'IPython.core.oinspect': <module 'IPython.core.oinspect' from '/Users/biancaaguglia/opt/anaconda3/envs/tf/lib/python3.7/site-packages/IPython/core/oinspect.py'>,\n",
       " 'typing': <module 'typing' from '/Users/biancaaguglia/opt/anaconda3/envs/tf/lib/python3.7/typing.py'>,\n",
       " 'typing.io': typing.io,\n",
       " 'typing.re': typing.re,\n",
       " 'IPython.core.page': <module 'IPython.core.page' from '/Users/biancaaguglia/opt/anaconda3/envs/tf/lib/python3.7/site-packages/IPython/core/page.py'>,\n",
       " 'IPython.core.display': <module 'IPython.core.display' from '/Users/biancaaguglia/opt/anaconda3/envs/tf/lib/python3.7/site-packages/IPython/core/display.py'>,\n",
       " 'binascii': <module 'binascii' from '/Users/biancaaguglia/opt/anaconda3/envs/tf/lib/python3.7/lib-dynload/binascii.cpython-37m-darwin.so'>,\n",
       " 'mimetypes': <module 'mimetypes' from '/Users/biancaaguglia/opt/anaconda3/envs/tf/lib/python3.7/mimetypes.py'>,\n",
       " 'IPython.lib': <module 'IPython.lib' from '/Users/biancaaguglia/opt/anaconda3/envs/tf/lib/python3.7/site-packages/IPython/lib/__init__.py'>,\n",
       " 'IPython.lib.security': <module 'IPython.lib.security' from '/Users/biancaaguglia/opt/anaconda3/envs/tf/lib/python3.7/site-packages/IPython/lib/security.py'>,\n",
       " 'getpass': <module 'getpass' from '/Users/biancaaguglia/opt/anaconda3/envs/tf/lib/python3.7/getpass.py'>,\n",
       " 'IPython.lib.pretty': <module 'IPython.lib.pretty' from '/Users/biancaaguglia/opt/anaconda3/envs/tf/lib/python3.7/site-packages/IPython/lib/pretty.py'>,\n",
       " 'datetime': <module 'datetime' from '/Users/biancaaguglia/opt/anaconda3/envs/tf/lib/python3.7/datetime.py'>,\n",
       " '_datetime': <module '_datetime' from '/Users/biancaaguglia/opt/anaconda3/envs/tf/lib/python3.7/lib-dynload/_datetime.cpython-37m-darwin.so'>,\n",
       " 'IPython.utils.openpy': <module 'IPython.utils.openpy' from '/Users/biancaaguglia/opt/anaconda3/envs/tf/lib/python3.7/site-packages/IPython/utils/openpy.py'>,\n",
       " 'IPython.utils.dir2': <module 'IPython.utils.dir2' from '/Users/biancaaguglia/opt/anaconda3/envs/tf/lib/python3.7/site-packages/IPython/utils/dir2.py'>,\n",
       " 'IPython.utils.wildcard': <module 'IPython.utils.wildcard' from '/Users/biancaaguglia/opt/anaconda3/envs/tf/lib/python3.7/site-packages/IPython/utils/wildcard.py'>,\n",
       " 'pygments.lexers': <module 'pygments.lexers' from '/Users/biancaaguglia/opt/anaconda3/envs/tf/lib/python3.7/site-packages/pygments/lexers/__init__.py'>,\n",
       " 'pygments.lexers._mapping': <module 'pygments.lexers._mapping' from '/Users/biancaaguglia/opt/anaconda3/envs/tf/lib/python3.7/site-packages/pygments/lexers/_mapping.py'>,\n",
       " 'pygments.modeline': <module 'pygments.modeline' from '/Users/biancaaguglia/opt/anaconda3/envs/tf/lib/python3.7/site-packages/pygments/modeline.py'>,\n",
       " 'pygments.plugin': <module 'pygments.plugin' from '/Users/biancaaguglia/opt/anaconda3/envs/tf/lib/python3.7/site-packages/pygments/plugin.py'>,\n",
       " 'pygments.util': <module 'pygments.util' from '/Users/biancaaguglia/opt/anaconda3/envs/tf/lib/python3.7/site-packages/pygments/util.py'>,\n",
       " 'pygments.lexers.python': <module 'pygments.lexers.python' from '/Users/biancaaguglia/opt/anaconda3/envs/tf/lib/python3.7/site-packages/pygments/lexers/python.py'>,\n",
       " 'pygments.lexer': <module 'pygments.lexer' from '/Users/biancaaguglia/opt/anaconda3/envs/tf/lib/python3.7/site-packages/pygments/lexer.py'>,\n",
       " 'pygments.filter': <module 'pygments.filter' from '/Users/biancaaguglia/opt/anaconda3/envs/tf/lib/python3.7/site-packages/pygments/filter.py'>,\n",
       " 'pygments.filters': <module 'pygments.filters' from '/Users/biancaaguglia/opt/anaconda3/envs/tf/lib/python3.7/site-packages/pygments/filters/__init__.py'>,\n",
       " 'pygments.token': <module 'pygments.token' from '/Users/biancaaguglia/opt/anaconda3/envs/tf/lib/python3.7/site-packages/pygments/token.py'>,\n",
       " 'pygments.regexopt': <module 'pygments.regexopt' from '/Users/biancaaguglia/opt/anaconda3/envs/tf/lib/python3.7/site-packages/pygments/regexopt.py'>,\n",
       " 'pygments.unistring': <module 'pygments.unistring' from '/Users/biancaaguglia/opt/anaconda3/envs/tf/lib/python3.7/site-packages/pygments/unistring.py'>,\n",
       " 'pygments.formatters': <module 'pygments.formatters' from '/Users/biancaaguglia/opt/anaconda3/envs/tf/lib/python3.7/site-packages/pygments/formatters/__init__.py'>,\n",
       " 'pygments.formatters._mapping': <module 'pygments.formatters._mapping' from '/Users/biancaaguglia/opt/anaconda3/envs/tf/lib/python3.7/site-packages/pygments/formatters/_mapping.py'>,\n",
       " 'pygments.formatters.html': <module 'pygments.formatters.html' from '/Users/biancaaguglia/opt/anaconda3/envs/tf/lib/python3.7/site-packages/pygments/formatters/html.py'>,\n",
       " 'pygments.formatter': <module 'pygments.formatter' from '/Users/biancaaguglia/opt/anaconda3/envs/tf/lib/python3.7/site-packages/pygments/formatter.py'>,\n",
       " 'pygments.styles': <module 'pygments.styles' from '/Users/biancaaguglia/opt/anaconda3/envs/tf/lib/python3.7/site-packages/pygments/styles/__init__.py'>,\n",
       " 'IPython.core.inputtransformer2': <module 'IPython.core.inputtransformer2' from '/Users/biancaaguglia/opt/anaconda3/envs/tf/lib/python3.7/site-packages/IPython/core/inputtransformer2.py'>,\n",
       " 'decorator': <module 'decorator' from '/Users/biancaaguglia/opt/anaconda3/envs/tf/lib/python3.7/site-packages/decorator.py'>,\n",
       " 'IPython.core.interactiveshell': <module 'IPython.core.interactiveshell' from '/Users/biancaaguglia/opt/anaconda3/envs/tf/lib/python3.7/site-packages/IPython/core/interactiveshell.py'>,\n",
       " 'pickleshare': <module 'pickleshare' from '/Users/biancaaguglia/opt/anaconda3/envs/tf/lib/python3.7/site-packages/pickleshare.py'>,\n",
       " 'pickle': <module 'pickle' from '/Users/biancaaguglia/opt/anaconda3/envs/tf/lib/python3.7/pickle.py'>,\n",
       " '_compat_pickle': <module '_compat_pickle' from '/Users/biancaaguglia/opt/anaconda3/envs/tf/lib/python3.7/_compat_pickle.py'>,\n",
       " '_pickle': <module '_pickle' from '/Users/biancaaguglia/opt/anaconda3/envs/tf/lib/python3.7/lib-dynload/_pickle.cpython-37m-darwin.so'>,\n",
       " 'IPython.core.prefilter': <module 'IPython.core.prefilter' from '/Users/biancaaguglia/opt/anaconda3/envs/tf/lib/python3.7/site-packages/IPython/core/prefilter.py'>,\n",
       " 'IPython.core.autocall': <module 'IPython.core.autocall' from '/Users/biancaaguglia/opt/anaconda3/envs/tf/lib/python3.7/site-packages/IPython/core/autocall.py'>,\n",
       " 'IPython.core.macro': <module 'IPython.core.macro' from '/Users/biancaaguglia/opt/anaconda3/envs/tf/lib/python3.7/site-packages/IPython/core/macro.py'>,\n",
       " 'IPython.core.splitinput': <module 'IPython.core.splitinput' from '/Users/biancaaguglia/opt/anaconda3/envs/tf/lib/python3.7/site-packages/IPython/core/splitinput.py'>,\n",
       " 'IPython.core.alias': <module 'IPython.core.alias' from '/Users/biancaaguglia/opt/anaconda3/envs/tf/lib/python3.7/site-packages/IPython/core/alias.py'>,\n",
       " 'IPython.core.builtin_trap': <module 'IPython.core.builtin_trap' from '/Users/biancaaguglia/opt/anaconda3/envs/tf/lib/python3.7/site-packages/IPython/core/builtin_trap.py'>,\n",
       " 'IPython.core.events': <module 'IPython.core.events' from '/Users/biancaaguglia/opt/anaconda3/envs/tf/lib/python3.7/site-packages/IPython/core/events.py'>,\n",
       " 'backcall': <module 'backcall' from '/Users/biancaaguglia/opt/anaconda3/envs/tf/lib/python3.7/site-packages/backcall/__init__.py'>,\n",
       " 'backcall.backcall': <module 'backcall.backcall' from '/Users/biancaaguglia/opt/anaconda3/envs/tf/lib/python3.7/site-packages/backcall/backcall.py'>,\n",
       " 'IPython.core.displayhook': <module 'IPython.core.displayhook' from '/Users/biancaaguglia/opt/anaconda3/envs/tf/lib/python3.7/site-packages/IPython/core/displayhook.py'>,\n",
       " 'IPython.core.displaypub': <module 'IPython.core.displaypub' from '/Users/biancaaguglia/opt/anaconda3/envs/tf/lib/python3.7/site-packages/IPython/core/displaypub.py'>,\n",
       " 'IPython.core.extensions': <module 'IPython.core.extensions' from '/Users/biancaaguglia/opt/anaconda3/envs/tf/lib/python3.7/site-packages/IPython/core/extensions.py'>,\n",
       " 'IPython.core.formatters': <module 'IPython.core.formatters' from '/Users/biancaaguglia/opt/anaconda3/envs/tf/lib/python3.7/site-packages/IPython/core/formatters.py'>,\n",
       " 'IPython.utils.sentinel': <module 'IPython.utils.sentinel' from '/Users/biancaaguglia/opt/anaconda3/envs/tf/lib/python3.7/site-packages/IPython/utils/sentinel.py'>,\n",
       " 'IPython.core.history': <module 'IPython.core.history' from '/Users/biancaaguglia/opt/anaconda3/envs/tf/lib/python3.7/site-packages/IPython/core/history.py'>,\n",
       " 'sqlite3': <module 'sqlite3' from '/Users/biancaaguglia/opt/anaconda3/envs/tf/lib/python3.7/sqlite3/__init__.py'>,\n",
       " 'sqlite3.dbapi2': <module 'sqlite3.dbapi2' from '/Users/biancaaguglia/opt/anaconda3/envs/tf/lib/python3.7/sqlite3/dbapi2.py'>,\n",
       " '_sqlite3': <module '_sqlite3' from '/Users/biancaaguglia/opt/anaconda3/envs/tf/lib/python3.7/lib-dynload/_sqlite3.cpython-37m-darwin.so'>,\n",
       " 'IPython.core.logger': <module 'IPython.core.logger' from '/Users/biancaaguglia/opt/anaconda3/envs/tf/lib/python3.7/site-packages/IPython/core/logger.py'>,\n",
       " 'IPython.core.payload': <module 'IPython.core.payload' from '/Users/biancaaguglia/opt/anaconda3/envs/tf/lib/python3.7/site-packages/IPython/core/payload.py'>,\n",
       " 'IPython.core.usage': <module 'IPython.core.usage' from '/Users/biancaaguglia/opt/anaconda3/envs/tf/lib/python3.7/site-packages/IPython/core/usage.py'>,\n",
       " 'IPython.display': <module 'IPython.display' from '/Users/biancaaguglia/opt/anaconda3/envs/tf/lib/python3.7/site-packages/IPython/display.py'>,\n",
       " 'IPython.lib.display': <module 'IPython.lib.display' from '/Users/biancaaguglia/opt/anaconda3/envs/tf/lib/python3.7/site-packages/IPython/lib/display.py'>,\n",
       " 'html': <module 'html' from '/Users/biancaaguglia/opt/anaconda3/envs/tf/lib/python3.7/html/__init__.py'>,\n",
       " 'html.entities': <module 'html.entities' from '/Users/biancaaguglia/opt/anaconda3/envs/tf/lib/python3.7/html/entities.py'>,\n",
       " 'IPython.utils.io': <module 'IPython.utils.io' from '/Users/biancaaguglia/opt/anaconda3/envs/tf/lib/python3.7/site-packages/IPython/utils/io.py'>,\n",
       " 'IPython.utils.capture': <module 'IPython.utils.capture' from '/Users/biancaaguglia/opt/anaconda3/envs/tf/lib/python3.7/site-packages/IPython/utils/capture.py'>,\n",
       " 'IPython.utils.strdispatch': <module 'IPython.utils.strdispatch' from '/Users/biancaaguglia/opt/anaconda3/envs/tf/lib/python3.7/site-packages/IPython/utils/strdispatch.py'>,\n",
       " 'IPython.core.hooks': <module 'IPython.core.hooks' from '/Users/biancaaguglia/opt/anaconda3/envs/tf/lib/python3.7/site-packages/IPython/core/hooks.py'>,\n",
       " 'IPython.utils.syspathcontext': <module 'IPython.utils.syspathcontext' from '/Users/biancaaguglia/opt/anaconda3/envs/tf/lib/python3.7/site-packages/IPython/utils/syspathcontext.py'>,\n",
       " 'IPython.utils.tempdir': <module 'IPython.utils.tempdir' from '/Users/biancaaguglia/opt/anaconda3/envs/tf/lib/python3.7/site-packages/IPython/utils/tempdir.py'>,\n",
       " 'IPython.utils.contexts': <module 'IPython.utils.contexts' from '/Users/biancaaguglia/opt/anaconda3/envs/tf/lib/python3.7/site-packages/IPython/utils/contexts.py'>,\n",
       " 'IPython.core.async_helpers': <module 'IPython.core.async_helpers' from '/Users/biancaaguglia/opt/anaconda3/envs/tf/lib/python3.7/site-packages/IPython/core/async_helpers.py'>,\n",
       " 'IPython.terminal.interactiveshell': <module 'IPython.terminal.interactiveshell' from '/Users/biancaaguglia/opt/anaconda3/envs/tf/lib/python3.7/site-packages/IPython/terminal/interactiveshell.py'>,\n",
       " 'asyncio': <module 'asyncio' from '/Users/biancaaguglia/opt/anaconda3/envs/tf/lib/python3.7/asyncio/__init__.py'>,\n",
       " 'asyncio.base_events': <module 'asyncio.base_events' from '/Users/biancaaguglia/opt/anaconda3/envs/tf/lib/python3.7/asyncio/base_events.py'>,\n",
       " 'concurrent': <module 'concurrent' from '/Users/biancaaguglia/opt/anaconda3/envs/tf/lib/python3.7/concurrent/__init__.py'>,\n",
       " 'concurrent.futures': <module 'concurrent.futures' from '/Users/biancaaguglia/opt/anaconda3/envs/tf/lib/python3.7/concurrent/futures/__init__.py'>,\n",
       " 'concurrent.futures._base': <module 'concurrent.futures._base' from '/Users/biancaaguglia/opt/anaconda3/envs/tf/lib/python3.7/concurrent/futures/_base.py'>,\n",
       " 'socket': <module 'socket' from '/Users/biancaaguglia/opt/anaconda3/envs/tf/lib/python3.7/socket.py'>,\n",
       " '_socket': <module '_socket' from '/Users/biancaaguglia/opt/anaconda3/envs/tf/lib/python3.7/lib-dynload/_socket.cpython-37m-darwin.so'>,\n",
       " 'ssl': <module 'ssl' from '/Users/biancaaguglia/opt/anaconda3/envs/tf/lib/python3.7/ssl.py'>,\n",
       " '_ssl': <module '_ssl' from '/Users/biancaaguglia/opt/anaconda3/envs/tf/lib/python3.7/lib-dynload/_ssl.cpython-37m-darwin.so'>,\n",
       " 'base64': <module 'base64' from '/Users/biancaaguglia/opt/anaconda3/envs/tf/lib/python3.7/base64.py'>,\n",
       " 'asyncio.constants': <module 'asyncio.constants' from '/Users/biancaaguglia/opt/anaconda3/envs/tf/lib/python3.7/asyncio/constants.py'>,\n",
       " 'asyncio.coroutines': <module 'asyncio.coroutines' from '/Users/biancaaguglia/opt/anaconda3/envs/tf/lib/python3.7/asyncio/coroutines.py'>,\n",
       " 'asyncio.base_futures': <module 'asyncio.base_futures' from '/Users/biancaaguglia/opt/anaconda3/envs/tf/lib/python3.7/asyncio/base_futures.py'>,\n",
       " 'asyncio.format_helpers': <module 'asyncio.format_helpers' from '/Users/biancaaguglia/opt/anaconda3/envs/tf/lib/python3.7/asyncio/format_helpers.py'>,\n",
       " 'asyncio.log': <module 'asyncio.log' from '/Users/biancaaguglia/opt/anaconda3/envs/tf/lib/python3.7/asyncio/log.py'>,\n",
       " 'asyncio.events': <module 'asyncio.events' from '/Users/biancaaguglia/opt/anaconda3/envs/tf/lib/python3.7/asyncio/events.py'>,\n",
       " 'contextvars': <module 'contextvars' from '/Users/biancaaguglia/opt/anaconda3/envs/tf/lib/python3.7/contextvars.py'>,\n",
       " '_contextvars': <module '_contextvars' from '/Users/biancaaguglia/opt/anaconda3/envs/tf/lib/python3.7/lib-dynload/_contextvars.cpython-37m-darwin.so'>,\n",
       " 'asyncio.base_tasks': <module 'asyncio.base_tasks' from '/Users/biancaaguglia/opt/anaconda3/envs/tf/lib/python3.7/asyncio/base_tasks.py'>,\n",
       " '_asyncio': <module '_asyncio' from '/Users/biancaaguglia/opt/anaconda3/envs/tf/lib/python3.7/lib-dynload/_asyncio.cpython-37m-darwin.so'>,\n",
       " 'asyncio.futures': <module 'asyncio.futures' from '/Users/biancaaguglia/opt/anaconda3/envs/tf/lib/python3.7/asyncio/futures.py'>,\n",
       " 'asyncio.protocols': <module 'asyncio.protocols' from '/Users/biancaaguglia/opt/anaconda3/envs/tf/lib/python3.7/asyncio/protocols.py'>,\n",
       " 'asyncio.sslproto': <module 'asyncio.sslproto' from '/Users/biancaaguglia/opt/anaconda3/envs/tf/lib/python3.7/asyncio/sslproto.py'>,\n",
       " 'asyncio.transports': <module 'asyncio.transports' from '/Users/biancaaguglia/opt/anaconda3/envs/tf/lib/python3.7/asyncio/transports.py'>,\n",
       " 'asyncio.tasks': <module 'asyncio.tasks' from '/Users/biancaaguglia/opt/anaconda3/envs/tf/lib/python3.7/asyncio/tasks.py'>,\n",
       " 'asyncio.locks': <module 'asyncio.locks' from '/Users/biancaaguglia/opt/anaconda3/envs/tf/lib/python3.7/asyncio/locks.py'>,\n",
       " 'asyncio.runners': <module 'asyncio.runners' from '/Users/biancaaguglia/opt/anaconda3/envs/tf/lib/python3.7/asyncio/runners.py'>,\n",
       " 'asyncio.queues': <module 'asyncio.queues' from '/Users/biancaaguglia/opt/anaconda3/envs/tf/lib/python3.7/asyncio/queues.py'>,\n",
       " 'asyncio.streams': <module 'asyncio.streams' from '/Users/biancaaguglia/opt/anaconda3/envs/tf/lib/python3.7/asyncio/streams.py'>,\n",
       " 'asyncio.subprocess': <module 'asyncio.subprocess' from '/Users/biancaaguglia/opt/anaconda3/envs/tf/lib/python3.7/asyncio/subprocess.py'>,\n",
       " 'asyncio.unix_events': <module 'asyncio.unix_events' from '/Users/biancaaguglia/opt/anaconda3/envs/tf/lib/python3.7/asyncio/unix_events.py'>,\n",
       " 'asyncio.base_subprocess': <module 'asyncio.base_subprocess' from '/Users/biancaaguglia/opt/anaconda3/envs/tf/lib/python3.7/asyncio/base_subprocess.py'>,\n",
       " 'asyncio.selector_events': <module 'asyncio.selector_events' from '/Users/biancaaguglia/opt/anaconda3/envs/tf/lib/python3.7/asyncio/selector_events.py'>,\n",
       " 'prompt_toolkit': <module 'prompt_toolkit' from '/Users/biancaaguglia/opt/anaconda3/envs/tf/lib/python3.7/site-packages/prompt_toolkit/__init__.py'>,\n",
       " 'prompt_toolkit.application': <module 'prompt_toolkit.application' from '/Users/biancaaguglia/opt/anaconda3/envs/tf/lib/python3.7/site-packages/prompt_toolkit/application/__init__.py'>,\n",
       " 'prompt_toolkit.application.application': <module 'prompt_toolkit.application.application' from '/Users/biancaaguglia/opt/anaconda3/envs/tf/lib/python3.7/site-packages/prompt_toolkit/application/application.py'>,\n",
       " 'prompt_toolkit.buffer': <module 'prompt_toolkit.buffer' from '/Users/biancaaguglia/opt/anaconda3/envs/tf/lib/python3.7/site-packages/prompt_toolkit/buffer.py'>,\n",
       " 'prompt_toolkit.application.current': <module 'prompt_toolkit.application.current' from '/Users/biancaaguglia/opt/anaconda3/envs/tf/lib/python3.7/site-packages/prompt_toolkit/application/current.py'>,\n",
       " 'prompt_toolkit.application.run_in_terminal': <module 'prompt_toolkit.application.run_in_terminal' from '/Users/biancaaguglia/opt/anaconda3/envs/tf/lib/python3.7/site-packages/prompt_toolkit/application/run_in_terminal.py'>,\n",
       " 'prompt_toolkit.eventloop': <module 'prompt_toolkit.eventloop' from '/Users/biancaaguglia/opt/anaconda3/envs/tf/lib/python3.7/site-packages/prompt_toolkit/eventloop/__init__.py'>,\n",
       " 'prompt_toolkit.eventloop.async_generator': <module 'prompt_toolkit.eventloop.async_generator' from '/Users/biancaaguglia/opt/anaconda3/envs/tf/lib/python3.7/site-packages/prompt_toolkit/eventloop/async_generator.py'>,\n",
       " 'prompt_toolkit.eventloop.utils': <module 'prompt_toolkit.eventloop.utils' from '/Users/biancaaguglia/opt/anaconda3/envs/tf/lib/python3.7/site-packages/prompt_toolkit/eventloop/utils.py'>,\n",
       " 'prompt_toolkit.eventloop.inputhook': <module 'prompt_toolkit.eventloop.inputhook' from '/Users/biancaaguglia/opt/anaconda3/envs/tf/lib/python3.7/site-packages/prompt_toolkit/eventloop/inputhook.py'>,\n",
       " 'prompt_toolkit.utils': <module 'prompt_toolkit.utils' from '/Users/biancaaguglia/opt/anaconda3/envs/tf/lib/python3.7/site-packages/prompt_toolkit/utils.py'>,\n",
       " 'wcwidth': <module 'wcwidth' from '/Users/biancaaguglia/opt/anaconda3/envs/tf/lib/python3.7/site-packages/wcwidth/__init__.py'>,\n",
       " 'wcwidth.wcwidth': <module 'wcwidth.wcwidth' from '/Users/biancaaguglia/opt/anaconda3/envs/tf/lib/python3.7/site-packages/wcwidth/wcwidth.py'>,\n",
       " 'wcwidth.table_wide': <module 'wcwidth.table_wide' from '/Users/biancaaguglia/opt/anaconda3/envs/tf/lib/python3.7/site-packages/wcwidth/table_wide.py'>,\n",
       " 'wcwidth.table_zero': <module 'wcwidth.table_zero' from '/Users/biancaaguglia/opt/anaconda3/envs/tf/lib/python3.7/site-packages/wcwidth/table_zero.py'>,\n",
       " 'wcwidth.unicode_versions': <module 'wcwidth.unicode_versions' from '/Users/biancaaguglia/opt/anaconda3/envs/tf/lib/python3.7/site-packages/wcwidth/unicode_versions.py'>,\n",
       " 'prompt_toolkit.auto_suggest': <module 'prompt_toolkit.auto_suggest' from '/Users/biancaaguglia/opt/anaconda3/envs/tf/lib/python3.7/site-packages/prompt_toolkit/auto_suggest.py'>,\n",
       " 'prompt_toolkit.document': <module 'prompt_toolkit.document' from '/Users/biancaaguglia/opt/anaconda3/envs/tf/lib/python3.7/site-packages/prompt_toolkit/document.py'>,\n",
       " 'prompt_toolkit.clipboard': <module 'prompt_toolkit.clipboard' from '/Users/biancaaguglia/opt/anaconda3/envs/tf/lib/python3.7/site-packages/prompt_toolkit/clipboard/__init__.py'>,\n",
       " 'prompt_toolkit.clipboard.base': <module 'prompt_toolkit.clipboard.base' from '/Users/biancaaguglia/opt/anaconda3/envs/tf/lib/python3.7/site-packages/prompt_toolkit/clipboard/base.py'>,\n",
       " 'prompt_toolkit.selection': <module 'prompt_toolkit.selection' from '/Users/biancaaguglia/opt/anaconda3/envs/tf/lib/python3.7/site-packages/prompt_toolkit/selection.py'>,\n",
       " 'prompt_toolkit.clipboard.in_memory': <module 'prompt_toolkit.clipboard.in_memory' from '/Users/biancaaguglia/opt/anaconda3/envs/tf/lib/python3.7/site-packages/prompt_toolkit/clipboard/in_memory.py'>,\n",
       " 'prompt_toolkit.filters': <module 'prompt_toolkit.filters' from '/Users/biancaaguglia/opt/anaconda3/envs/tf/lib/python3.7/site-packages/prompt_toolkit/filters/__init__.py'>,\n",
       " 'prompt_toolkit.filters.app': <module 'prompt_toolkit.filters.app' from '/Users/biancaaguglia/opt/anaconda3/envs/tf/lib/python3.7/site-packages/prompt_toolkit/filters/app.py'>,\n",
       " 'prompt_toolkit.cache': <module 'prompt_toolkit.cache' from '/Users/biancaaguglia/opt/anaconda3/envs/tf/lib/python3.7/site-packages/prompt_toolkit/cache.py'>,\n",
       " 'prompt_toolkit.enums': <module 'prompt_toolkit.enums' from '/Users/biancaaguglia/opt/anaconda3/envs/tf/lib/python3.7/site-packages/prompt_toolkit/enums.py'>,\n",
       " 'prompt_toolkit.filters.base': <module 'prompt_toolkit.filters.base' from '/Users/biancaaguglia/opt/anaconda3/envs/tf/lib/python3.7/site-packages/prompt_toolkit/filters/base.py'>,\n",
       " 'prompt_toolkit.filters.cli': <module 'prompt_toolkit.filters.cli' from '/Users/biancaaguglia/opt/anaconda3/envs/tf/lib/python3.7/site-packages/prompt_toolkit/filters/cli.py'>,\n",
       " 'prompt_toolkit.filters.utils': <module 'prompt_toolkit.filters.utils' from '/Users/biancaaguglia/opt/anaconda3/envs/tf/lib/python3.7/site-packages/prompt_toolkit/filters/utils.py'>,\n",
       " 'prompt_toolkit.completion': <module 'prompt_toolkit.completion' from '/Users/biancaaguglia/opt/anaconda3/envs/tf/lib/python3.7/site-packages/prompt_toolkit/completion/__init__.py'>,\n",
       " 'prompt_toolkit.completion.base': <module 'prompt_toolkit.completion.base' from '/Users/biancaaguglia/opt/anaconda3/envs/tf/lib/python3.7/site-packages/prompt_toolkit/completion/base.py'>,\n",
       " 'prompt_toolkit.formatted_text': <module 'prompt_toolkit.formatted_text' from '/Users/biancaaguglia/opt/anaconda3/envs/tf/lib/python3.7/site-packages/prompt_toolkit/formatted_text/__init__.py'>,\n",
       " 'prompt_toolkit.formatted_text.ansi': <module 'prompt_toolkit.formatted_text.ansi' from '/Users/biancaaguglia/opt/anaconda3/envs/tf/lib/python3.7/site-packages/prompt_toolkit/formatted_text/ansi.py'>,\n",
       " 'prompt_toolkit.output': <module 'prompt_toolkit.output' from '/Users/biancaaguglia/opt/anaconda3/envs/tf/lib/python3.7/site-packages/prompt_toolkit/output/__init__.py'>,\n",
       " 'prompt_toolkit.output.base': <module 'prompt_toolkit.output.base' from '/Users/biancaaguglia/opt/anaconda3/envs/tf/lib/python3.7/site-packages/prompt_toolkit/output/base.py'>,\n",
       " 'prompt_toolkit.data_structures': <module 'prompt_toolkit.data_structures' from '/Users/biancaaguglia/opt/anaconda3/envs/tf/lib/python3.7/site-packages/prompt_toolkit/data_structures.py'>,\n",
       " 'prompt_toolkit.styles': <module 'prompt_toolkit.styles' from '/Users/biancaaguglia/opt/anaconda3/envs/tf/lib/python3.7/site-packages/prompt_toolkit/styles/__init__.py'>,\n",
       " 'prompt_toolkit.styles.base': <module 'prompt_toolkit.styles.base' from '/Users/biancaaguglia/opt/anaconda3/envs/tf/lib/python3.7/site-packages/prompt_toolkit/styles/base.py'>,\n",
       " 'prompt_toolkit.styles.defaults': <module 'prompt_toolkit.styles.defaults' from '/Users/biancaaguglia/opt/anaconda3/envs/tf/lib/python3.7/site-packages/prompt_toolkit/styles/defaults.py'>,\n",
       " 'prompt_toolkit.styles.named_colors': <module 'prompt_toolkit.styles.named_colors' from '/Users/biancaaguglia/opt/anaconda3/envs/tf/lib/python3.7/site-packages/prompt_toolkit/styles/named_colors.py'>,\n",
       " 'prompt_toolkit.styles.style': <module 'prompt_toolkit.styles.style' from '/Users/biancaaguglia/opt/anaconda3/envs/tf/lib/python3.7/site-packages/prompt_toolkit/styles/style.py'>,\n",
       " 'prompt_toolkit.styles.pygments': <module 'prompt_toolkit.styles.pygments' from '/Users/biancaaguglia/opt/anaconda3/envs/tf/lib/python3.7/site-packages/prompt_toolkit/styles/pygments.py'>,\n",
       " 'prompt_toolkit.styles.style_transformation': <module 'prompt_toolkit.styles.style_transformation' from '/Users/biancaaguglia/opt/anaconda3/envs/tf/lib/python3.7/site-packages/prompt_toolkit/styles/style_transformation.py'>,\n",
       " 'colorsys': <module 'colorsys' from '/Users/biancaaguglia/opt/anaconda3/envs/tf/lib/python3.7/colorsys.py'>,\n",
       " 'prompt_toolkit.output.color_depth': <module 'prompt_toolkit.output.color_depth' from '/Users/biancaaguglia/opt/anaconda3/envs/tf/lib/python3.7/site-packages/prompt_toolkit/output/color_depth.py'>,\n",
       " 'prompt_toolkit.output.defaults': <module 'prompt_toolkit.output.defaults' from '/Users/biancaaguglia/opt/anaconda3/envs/tf/lib/python3.7/site-packages/prompt_toolkit/output/defaults.py'>,\n",
       " 'prompt_toolkit.patch_stdout': <module 'prompt_toolkit.patch_stdout' from '/Users/biancaaguglia/opt/anaconda3/envs/tf/lib/python3.7/site-packages/prompt_toolkit/patch_stdout.py'>,\n",
       " 'prompt_toolkit.output.vt100': <module 'prompt_toolkit.output.vt100' from '/Users/biancaaguglia/opt/anaconda3/envs/tf/lib/python3.7/site-packages/prompt_toolkit/output/vt100.py'>,\n",
       " 'array': <module 'array' from '/Users/biancaaguglia/opt/anaconda3/envs/tf/lib/python3.7/lib-dynload/array.cpython-37m-darwin.so'>,\n",
       " 'prompt_toolkit.formatted_text.base': <module 'prompt_toolkit.formatted_text.base' from '/Users/biancaaguglia/opt/anaconda3/envs/tf/lib/python3.7/site-packages/prompt_toolkit/formatted_text/base.py'>,\n",
       " 'prompt_toolkit.mouse_events': <module 'prompt_toolkit.mouse_events' from '/Users/biancaaguglia/opt/anaconda3/envs/tf/lib/python3.7/site-packages/prompt_toolkit/mouse_events.py'>,\n",
       " 'prompt_toolkit.formatted_text.html': <module 'prompt_toolkit.formatted_text.html' from '/Users/biancaaguglia/opt/anaconda3/envs/tf/lib/python3.7/site-packages/prompt_toolkit/formatted_text/html.py'>,\n",
       " 'xml': <module 'xml' from '/Users/biancaaguglia/opt/anaconda3/envs/tf/lib/python3.7/xml/__init__.py'>,\n",
       " 'xml.dom': <module 'xml.dom' from '/Users/biancaaguglia/opt/anaconda3/envs/tf/lib/python3.7/xml/dom/__init__.py'>,\n",
       " 'xml.dom.domreg': <module 'xml.dom.domreg' from '/Users/biancaaguglia/opt/anaconda3/envs/tf/lib/python3.7/xml/dom/domreg.py'>,\n",
       " 'xml.dom.minidom': <module 'xml.dom.minidom' from '/Users/biancaaguglia/opt/anaconda3/envs/tf/lib/python3.7/xml/dom/minidom.py'>,\n",
       " 'xml.dom.minicompat': <module 'xml.dom.minicompat' from '/Users/biancaaguglia/opt/anaconda3/envs/tf/lib/python3.7/xml/dom/minicompat.py'>,\n",
       " 'xml.dom.xmlbuilder': <module 'xml.dom.xmlbuilder' from '/Users/biancaaguglia/opt/anaconda3/envs/tf/lib/python3.7/xml/dom/xmlbuilder.py'>,\n",
       " 'xml.dom.NodeFilter': <module 'xml.dom.NodeFilter' from '/Users/biancaaguglia/opt/anaconda3/envs/tf/lib/python3.7/xml/dom/NodeFilter.py'>,\n",
       " 'prompt_toolkit.formatted_text.pygments': <module 'prompt_toolkit.formatted_text.pygments' from '/Users/biancaaguglia/opt/anaconda3/envs/tf/lib/python3.7/site-packages/prompt_toolkit/formatted_text/pygments.py'>,\n",
       " 'prompt_toolkit.formatted_text.utils': <module 'prompt_toolkit.formatted_text.utils' from '/Users/biancaaguglia/opt/anaconda3/envs/tf/lib/python3.7/site-packages/prompt_toolkit/formatted_text/utils.py'>,\n",
       " 'prompt_toolkit.completion.filesystem': <module 'prompt_toolkit.completion.filesystem' from '/Users/biancaaguglia/opt/anaconda3/envs/tf/lib/python3.7/site-packages/prompt_toolkit/completion/filesystem.py'>,\n",
       " 'prompt_toolkit.completion.fuzzy_completer': <module 'prompt_toolkit.completion.fuzzy_completer' from '/Users/biancaaguglia/opt/anaconda3/envs/tf/lib/python3.7/site-packages/prompt_toolkit/completion/fuzzy_completer.py'>,\n",
       " 'prompt_toolkit.completion.word_completer': <module 'prompt_toolkit.completion.word_completer' from '/Users/biancaaguglia/opt/anaconda3/envs/tf/lib/python3.7/site-packages/prompt_toolkit/completion/word_completer.py'>,\n",
       " 'prompt_toolkit.completion.nested': <module 'prompt_toolkit.completion.nested' from '/Users/biancaaguglia/opt/anaconda3/envs/tf/lib/python3.7/site-packages/prompt_toolkit/completion/nested.py'>,\n",
       " 'prompt_toolkit.history': <module 'prompt_toolkit.history' from '/Users/biancaaguglia/opt/anaconda3/envs/tf/lib/python3.7/site-packages/prompt_toolkit/history.py'>,\n",
       " 'prompt_toolkit.search': <module 'prompt_toolkit.search' from '/Users/biancaaguglia/opt/anaconda3/envs/tf/lib/python3.7/site-packages/prompt_toolkit/search.py'>,\n",
       " 'prompt_toolkit.key_binding': <module 'prompt_toolkit.key_binding' from '/Users/biancaaguglia/opt/anaconda3/envs/tf/lib/python3.7/site-packages/prompt_toolkit/key_binding/__init__.py'>,\n",
       " 'prompt_toolkit.key_binding.key_bindings': <module 'prompt_toolkit.key_binding.key_bindings' from '/Users/biancaaguglia/opt/anaconda3/envs/tf/lib/python3.7/site-packages/prompt_toolkit/key_binding/key_bindings.py'>,\n",
       " 'prompt_toolkit.keys': <module 'prompt_toolkit.keys' from '/Users/biancaaguglia/opt/anaconda3/envs/tf/lib/python3.7/site-packages/prompt_toolkit/keys.py'>,\n",
       " 'prompt_toolkit.key_binding.key_processor': <module 'prompt_toolkit.key_binding.key_processor' from '/Users/biancaaguglia/opt/anaconda3/envs/tf/lib/python3.7/site-packages/prompt_toolkit/key_binding/key_processor.py'>,\n",
       " 'prompt_toolkit.key_binding.vi_state': <module 'prompt_toolkit.key_binding.vi_state' from '/Users/biancaaguglia/opt/anaconda3/envs/tf/lib/python3.7/site-packages/prompt_toolkit/key_binding/vi_state.py'>,\n",
       " 'prompt_toolkit.validation': <module 'prompt_toolkit.validation' from '/Users/biancaaguglia/opt/anaconda3/envs/tf/lib/python3.7/site-packages/prompt_toolkit/validation.py'>,\n",
       " 'prompt_toolkit.input': <module 'prompt_toolkit.input' from '/Users/biancaaguglia/opt/anaconda3/envs/tf/lib/python3.7/site-packages/prompt_toolkit/input/__init__.py'>,\n",
       " 'prompt_toolkit.input.base': <module 'prompt_toolkit.input.base' from '/Users/biancaaguglia/opt/anaconda3/envs/tf/lib/python3.7/site-packages/prompt_toolkit/input/base.py'>,\n",
       " 'prompt_toolkit.input.defaults': <module 'prompt_toolkit.input.defaults' from '/Users/biancaaguglia/opt/anaconda3/envs/tf/lib/python3.7/site-packages/prompt_toolkit/input/defaults.py'>,\n",
       " 'prompt_toolkit.input.typeahead': <module 'prompt_toolkit.input.typeahead' from '/Users/biancaaguglia/opt/anaconda3/envs/tf/lib/python3.7/site-packages/prompt_toolkit/input/typeahead.py'>,\n",
       " 'prompt_toolkit.key_binding.bindings': <module 'prompt_toolkit.key_binding.bindings' from '/Users/biancaaguglia/opt/anaconda3/envs/tf/lib/python3.7/site-packages/prompt_toolkit/key_binding/bindings/__init__.py'>,\n",
       " 'prompt_toolkit.key_binding.bindings.page_navigation': <module 'prompt_toolkit.key_binding.bindings.page_navigation' from '/Users/biancaaguglia/opt/anaconda3/envs/tf/lib/python3.7/site-packages/prompt_toolkit/key_binding/bindings/page_navigation.py'>,\n",
       " 'prompt_toolkit.key_binding.bindings.scroll': <module 'prompt_toolkit.key_binding.bindings.scroll' from '/Users/biancaaguglia/opt/anaconda3/envs/tf/lib/python3.7/site-packages/prompt_toolkit/key_binding/bindings/scroll.py'>,\n",
       " 'prompt_toolkit.key_binding.defaults': <module 'prompt_toolkit.key_binding.defaults' from '/Users/biancaaguglia/opt/anaconda3/envs/tf/lib/python3.7/site-packages/prompt_toolkit/key_binding/defaults.py'>,\n",
       " 'prompt_toolkit.key_binding.bindings.basic': <module 'prompt_toolkit.key_binding.bindings.basic' from '/Users/biancaaguglia/opt/anaconda3/envs/tf/lib/python3.7/site-packages/prompt_toolkit/key_binding/bindings/basic.py'>,\n",
       " 'prompt_toolkit.key_binding.bindings.named_commands': <module 'prompt_toolkit.key_binding.bindings.named_commands' from '/Users/biancaaguglia/opt/anaconda3/envs/tf/lib/python3.7/site-packages/prompt_toolkit/key_binding/bindings/named_commands.py'>,\n",
       " 'prompt_toolkit.layout': <module 'prompt_toolkit.layout' from '/Users/biancaaguglia/opt/anaconda3/envs/tf/lib/python3.7/site-packages/prompt_toolkit/layout/__init__.py'>,\n",
       " 'prompt_toolkit.layout.containers': <module 'prompt_toolkit.layout.containers' from '/Users/biancaaguglia/opt/anaconda3/envs/tf/lib/python3.7/site-packages/prompt_toolkit/layout/containers.py'>,\n",
       " 'prompt_toolkit.layout.controls': <module 'prompt_toolkit.layout.controls' from '/Users/biancaaguglia/opt/anaconda3/envs/tf/lib/python3.7/site-packages/prompt_toolkit/layout/controls.py'>,\n",
       " 'prompt_toolkit.lexers': <module 'prompt_toolkit.lexers' from '/Users/biancaaguglia/opt/anaconda3/envs/tf/lib/python3.7/site-packages/prompt_toolkit/lexers/__init__.py'>,\n",
       " 'prompt_toolkit.lexers.base': <module 'prompt_toolkit.lexers.base' from '/Users/biancaaguglia/opt/anaconda3/envs/tf/lib/python3.7/site-packages/prompt_toolkit/lexers/base.py'>,\n",
       " 'prompt_toolkit.lexers.pygments': <module 'prompt_toolkit.lexers.pygments' from '/Users/biancaaguglia/opt/anaconda3/envs/tf/lib/python3.7/site-packages/prompt_toolkit/lexers/pygments.py'>,\n",
       " 'prompt_toolkit.layout.processors': <module 'prompt_toolkit.layout.processors' from '/Users/biancaaguglia/opt/anaconda3/envs/tf/lib/python3.7/site-packages/prompt_toolkit/layout/processors.py'>,\n",
       " 'prompt_toolkit.layout.utils': <module 'prompt_toolkit.layout.utils' from '/Users/biancaaguglia/opt/anaconda3/envs/tf/lib/python3.7/site-packages/prompt_toolkit/layout/utils.py'>,\n",
       " 'prompt_toolkit.layout.dimension': <module 'prompt_toolkit.layout.dimension' from '/Users/biancaaguglia/opt/anaconda3/envs/tf/lib/python3.7/site-packages/prompt_toolkit/layout/dimension.py'>,\n",
       " 'prompt_toolkit.layout.margins': <module 'prompt_toolkit.layout.margins' from '/Users/biancaaguglia/opt/anaconda3/envs/tf/lib/python3.7/site-packages/prompt_toolkit/layout/margins.py'>,\n",
       " 'prompt_toolkit.layout.mouse_handlers': <module 'prompt_toolkit.layout.mouse_handlers' from '/Users/biancaaguglia/opt/anaconda3/envs/tf/lib/python3.7/site-packages/prompt_toolkit/layout/mouse_handlers.py'>,\n",
       " 'prompt_toolkit.layout.screen': <module 'prompt_toolkit.layout.screen' from '/Users/biancaaguglia/opt/anaconda3/envs/tf/lib/python3.7/site-packages/prompt_toolkit/layout/screen.py'>,\n",
       " 'prompt_toolkit.layout.layout': <module 'prompt_toolkit.layout.layout' from '/Users/biancaaguglia/opt/anaconda3/envs/tf/lib/python3.7/site-packages/prompt_toolkit/layout/layout.py'>,\n",
       " 'prompt_toolkit.layout.menus': <module 'prompt_toolkit.layout.menus' from '/Users/biancaaguglia/opt/anaconda3/envs/tf/lib/python3.7/site-packages/prompt_toolkit/layout/menus.py'>,\n",
       " 'prompt_toolkit.key_binding.bindings.completion': <module 'prompt_toolkit.key_binding.bindings.completion' from '/Users/biancaaguglia/opt/anaconda3/envs/tf/lib/python3.7/site-packages/prompt_toolkit/key_binding/bindings/completion.py'>,\n",
       " 'prompt_toolkit.key_binding.bindings.cpr': <module 'prompt_toolkit.key_binding.bindings.cpr' from '/Users/biancaaguglia/opt/anaconda3/envs/tf/lib/python3.7/site-packages/prompt_toolkit/key_binding/bindings/cpr.py'>,\n",
       " 'prompt_toolkit.key_binding.bindings.emacs': <module 'prompt_toolkit.key_binding.bindings.emacs' from '/Users/biancaaguglia/opt/anaconda3/envs/tf/lib/python3.7/site-packages/prompt_toolkit/key_binding/bindings/emacs.py'>,\n",
       " 'prompt_toolkit.key_binding.bindings.mouse': <module 'prompt_toolkit.key_binding.bindings.mouse' from '/Users/biancaaguglia/opt/anaconda3/envs/tf/lib/python3.7/site-packages/prompt_toolkit/key_binding/bindings/mouse.py'>,\n",
       " 'prompt_toolkit.key_binding.bindings.vi': <module 'prompt_toolkit.key_binding.bindings.vi' from '/Users/biancaaguglia/opt/anaconda3/envs/tf/lib/python3.7/site-packages/prompt_toolkit/key_binding/bindings/vi.py'>,\n",
       " 'prompt_toolkit.input.vt100_parser': <module 'prompt_toolkit.input.vt100_parser' from '/Users/biancaaguglia/opt/anaconda3/envs/tf/lib/python3.7/site-packages/prompt_toolkit/input/vt100_parser.py'>,\n",
       " 'prompt_toolkit.input.ansi_escape_sequences': <module 'prompt_toolkit.input.ansi_escape_sequences' from '/Users/biancaaguglia/opt/anaconda3/envs/tf/lib/python3.7/site-packages/prompt_toolkit/input/ansi_escape_sequences.py'>,\n",
       " 'prompt_toolkit.key_binding.digraphs': <module 'prompt_toolkit.key_binding.digraphs' from '/Users/biancaaguglia/opt/anaconda3/envs/tf/lib/python3.7/site-packages/prompt_toolkit/key_binding/digraphs.py'>,\n",
       " 'prompt_toolkit.key_binding.emacs_state': <module 'prompt_toolkit.key_binding.emacs_state' from '/Users/biancaaguglia/opt/anaconda3/envs/tf/lib/python3.7/site-packages/prompt_toolkit/key_binding/emacs_state.py'>,\n",
       " 'prompt_toolkit.layout.dummy': <module 'prompt_toolkit.layout.dummy' from '/Users/biancaaguglia/opt/anaconda3/envs/tf/lib/python3.7/site-packages/prompt_toolkit/layout/dummy.py'>,\n",
       " 'prompt_toolkit.renderer': <module 'prompt_toolkit.renderer' from '/Users/biancaaguglia/opt/anaconda3/envs/tf/lib/python3.7/site-packages/prompt_toolkit/renderer.py'>,\n",
       " 'prompt_toolkit.application.dummy': <module 'prompt_toolkit.application.dummy' from '/Users/biancaaguglia/opt/anaconda3/envs/tf/lib/python3.7/site-packages/prompt_toolkit/application/dummy.py'>,\n",
       " 'prompt_toolkit.shortcuts': <module 'prompt_toolkit.shortcuts' from '/Users/biancaaguglia/opt/anaconda3/envs/tf/lib/python3.7/site-packages/prompt_toolkit/shortcuts/__init__.py'>,\n",
       " 'prompt_toolkit.shortcuts.dialogs': <module 'prompt_toolkit.shortcuts.dialogs' from '/Users/biancaaguglia/opt/anaconda3/envs/tf/lib/python3.7/site-packages/prompt_toolkit/shortcuts/dialogs.py'>,\n",
       " 'prompt_toolkit.key_binding.bindings.focus': <module 'prompt_toolkit.key_binding.bindings.focus' from '/Users/biancaaguglia/opt/anaconda3/envs/tf/lib/python3.7/site-packages/prompt_toolkit/key_binding/bindings/focus.py'>,\n",
       " 'prompt_toolkit.widgets': <module 'prompt_toolkit.widgets' from '/Users/biancaaguglia/opt/anaconda3/envs/tf/lib/python3.7/site-packages/prompt_toolkit/widgets/__init__.py'>,\n",
       " 'prompt_toolkit.widgets.base': <module 'prompt_toolkit.widgets.base' from '/Users/biancaaguglia/opt/anaconda3/envs/tf/lib/python3.7/site-packages/prompt_toolkit/widgets/base.py'>,\n",
       " 'prompt_toolkit.widgets.toolbars': <module 'prompt_toolkit.widgets.toolbars' from '/Users/biancaaguglia/opt/anaconda3/envs/tf/lib/python3.7/site-packages/prompt_toolkit/widgets/toolbars.py'>,\n",
       " 'prompt_toolkit.widgets.dialogs': <module 'prompt_toolkit.widgets.dialogs' from '/Users/biancaaguglia/opt/anaconda3/envs/tf/lib/python3.7/site-packages/prompt_toolkit/widgets/dialogs.py'>,\n",
       " 'prompt_toolkit.widgets.menus': <module 'prompt_toolkit.widgets.menus' from '/Users/biancaaguglia/opt/anaconda3/envs/tf/lib/python3.7/site-packages/prompt_toolkit/widgets/menus.py'>,\n",
       " 'prompt_toolkit.shortcuts.progress_bar': <module 'prompt_toolkit.shortcuts.progress_bar' from '/Users/biancaaguglia/opt/anaconda3/envs/tf/lib/python3.7/site-packages/prompt_toolkit/shortcuts/progress_bar/__init__.py'>,\n",
       " 'prompt_toolkit.shortcuts.progress_bar.base': <module 'prompt_toolkit.shortcuts.progress_bar.base' from '/Users/biancaaguglia/opt/anaconda3/envs/tf/lib/python3.7/site-packages/prompt_toolkit/shortcuts/progress_bar/base.py'>,\n",
       " 'prompt_toolkit.shortcuts.progress_bar.formatters': <module 'prompt_toolkit.shortcuts.progress_bar.formatters' from '/Users/biancaaguglia/opt/anaconda3/envs/tf/lib/python3.7/site-packages/prompt_toolkit/shortcuts/progress_bar/formatters.py'>,\n",
       " 'prompt_toolkit.shortcuts.prompt': <module 'prompt_toolkit.shortcuts.prompt' from '/Users/biancaaguglia/opt/anaconda3/envs/tf/lib/python3.7/site-packages/prompt_toolkit/shortcuts/prompt.py'>,\n",
       " 'prompt_toolkit.key_binding.bindings.auto_suggest': <module 'prompt_toolkit.key_binding.bindings.auto_suggest' from '/Users/biancaaguglia/opt/anaconda3/envs/tf/lib/python3.7/site-packages/prompt_toolkit/key_binding/bindings/auto_suggest.py'>,\n",
       " 'prompt_toolkit.key_binding.bindings.open_in_editor': <module 'prompt_toolkit.key_binding.bindings.open_in_editor' from '/Users/biancaaguglia/opt/anaconda3/envs/tf/lib/python3.7/site-packages/prompt_toolkit/key_binding/bindings/open_in_editor.py'>,\n",
       " 'prompt_toolkit.shortcuts.utils': <module 'prompt_toolkit.shortcuts.utils' from '/Users/biancaaguglia/opt/anaconda3/envs/tf/lib/python3.7/site-packages/prompt_toolkit/shortcuts/utils.py'>,\n",
       " 'pygments.style': <module 'pygments.style' from '/Users/biancaaguglia/opt/anaconda3/envs/tf/lib/python3.7/site-packages/pygments/style.py'>,\n",
       " 'IPython.terminal.debugger': <module 'IPython.terminal.debugger' from '/Users/biancaaguglia/opt/anaconda3/envs/tf/lib/python3.7/site-packages/IPython/terminal/debugger.py'>,\n",
       " 'IPython.core.completer': <module 'IPython.core.completer' from '/Users/biancaaguglia/opt/anaconda3/envs/tf/lib/python3.7/site-packages/IPython/core/completer.py'>,\n",
       " 'unicodedata': <module 'unicodedata' from '/Users/biancaaguglia/opt/anaconda3/envs/tf/lib/python3.7/lib-dynload/unicodedata.cpython-37m-darwin.so'>,\n",
       " 'IPython.core.latex_symbols': <module 'IPython.core.latex_symbols' from '/Users/biancaaguglia/opt/anaconda3/envs/tf/lib/python3.7/site-packages/IPython/core/latex_symbols.py'>,\n",
       " 'IPython.utils.generics': <module 'IPython.utils.generics' from '/Users/biancaaguglia/opt/anaconda3/envs/tf/lib/python3.7/site-packages/IPython/utils/generics.py'>,\n",
       " 'jedi': <module 'jedi' from '/Users/biancaaguglia/opt/anaconda3/envs/tf/lib/python3.7/site-packages/jedi/__init__.py'>,\n",
       " 'jedi.api': <module 'jedi.api' from '/Users/biancaaguglia/opt/anaconda3/envs/tf/lib/python3.7/site-packages/jedi/api/__init__.py'>,\n",
       " 'parso': <module 'parso' from '/Users/biancaaguglia/opt/anaconda3/envs/tf/lib/python3.7/site-packages/parso/__init__.py'>,\n",
       " 'parso.parser': <module 'parso.parser' from '/Users/biancaaguglia/opt/anaconda3/envs/tf/lib/python3.7/site-packages/parso/parser.py'>,\n",
       " 'parso.tree': <module 'parso.tree' from '/Users/biancaaguglia/opt/anaconda3/envs/tf/lib/python3.7/site-packages/parso/tree.py'>,\n",
       " 'parso._compatibility': <module 'parso._compatibility' from '/Users/biancaaguglia/opt/anaconda3/envs/tf/lib/python3.7/site-packages/parso/_compatibility.py'>,\n",
       " 'parso.utils': <module 'parso.utils' from '/Users/biancaaguglia/opt/anaconda3/envs/tf/lib/python3.7/site-packages/parso/utils.py'>,\n",
       " 'parso.pgen2': <module 'parso.pgen2' from '/Users/biancaaguglia/opt/anaconda3/envs/tf/lib/python3.7/site-packages/parso/pgen2/__init__.py'>,\n",
       " 'parso.pgen2.generator': <module 'parso.pgen2.generator' from '/Users/biancaaguglia/opt/anaconda3/envs/tf/lib/python3.7/site-packages/parso/pgen2/generator.py'>,\n",
       " 'parso.pgen2.grammar_parser': <module 'parso.pgen2.grammar_parser' from '/Users/biancaaguglia/opt/anaconda3/envs/tf/lib/python3.7/site-packages/parso/pgen2/grammar_parser.py'>,\n",
       " 'parso.python': <module 'parso.python' from '/Users/biancaaguglia/opt/anaconda3/envs/tf/lib/python3.7/site-packages/parso/python/__init__.py'>,\n",
       " 'parso.python.tokenize': <module 'parso.python.tokenize' from '/Users/biancaaguglia/opt/anaconda3/envs/tf/lib/python3.7/site-packages/parso/python/tokenize.py'>,\n",
       " 'parso.python.token': <module 'parso.python.token' from '/Users/biancaaguglia/opt/anaconda3/envs/tf/lib/python3.7/site-packages/parso/python/token.py'>,\n",
       " 'parso.grammar': <module 'parso.grammar' from '/Users/biancaaguglia/opt/anaconda3/envs/tf/lib/python3.7/site-packages/parso/grammar.py'>,\n",
       " 'parso.python.diff': <module 'parso.python.diff' from '/Users/biancaaguglia/opt/anaconda3/envs/tf/lib/python3.7/site-packages/parso/python/diff.py'>,\n",
       " 'difflib': <module 'difflib' from '/Users/biancaaguglia/opt/anaconda3/envs/tf/lib/python3.7/difflib.py'>,\n",
       " 'parso.python.parser': <module 'parso.python.parser' from '/Users/biancaaguglia/opt/anaconda3/envs/tf/lib/python3.7/site-packages/parso/python/parser.py'>,\n",
       " 'parso.python.tree': <module 'parso.python.tree' from '/Users/biancaaguglia/opt/anaconda3/envs/tf/lib/python3.7/site-packages/parso/python/tree.py'>,\n",
       " 'parso.python.prefix': <module 'parso.python.prefix' from '/Users/biancaaguglia/opt/anaconda3/envs/tf/lib/python3.7/site-packages/parso/python/prefix.py'>,\n",
       " 'parso.cache': <module 'parso.cache' from '/Users/biancaaguglia/opt/anaconda3/envs/tf/lib/python3.7/site-packages/parso/cache.py'>,\n",
       " 'gc': <module 'gc' (built-in)>,\n",
       " 'parso.python.errors': <module 'parso.python.errors' from '/Users/biancaaguglia/opt/anaconda3/envs/tf/lib/python3.7/site-packages/parso/python/errors.py'>,\n",
       " 'parso.normalizer': <module 'parso.normalizer' from '/Users/biancaaguglia/opt/anaconda3/envs/tf/lib/python3.7/site-packages/parso/normalizer.py'>,\n",
       " 'parso.python.pep8': <module 'parso.python.pep8' from '/Users/biancaaguglia/opt/anaconda3/envs/tf/lib/python3.7/site-packages/parso/python/pep8.py'>,\n",
       " 'parso.file_io': <module 'parso.file_io' from '/Users/biancaaguglia/opt/anaconda3/envs/tf/lib/python3.7/site-packages/parso/file_io.py'>,\n",
       " 'jedi._compatibility': <module 'jedi._compatibility' from '/Users/biancaaguglia/opt/anaconda3/envs/tf/lib/python3.7/site-packages/jedi/_compatibility.py'>,\n",
       " 'jedi.file_io': <module 'jedi.file_io' from '/Users/biancaaguglia/opt/anaconda3/envs/tf/lib/python3.7/site-packages/jedi/file_io.py'>,\n",
       " 'queue': <module 'queue' from '/Users/biancaaguglia/opt/anaconda3/envs/tf/lib/python3.7/queue.py'>,\n",
       " '_queue': <module '_queue' from '/Users/biancaaguglia/opt/anaconda3/envs/tf/lib/python3.7/lib-dynload/_queue.cpython-37m-darwin.so'>,\n",
       " 'jedi.parser_utils': <module 'jedi.parser_utils' from '/Users/biancaaguglia/opt/anaconda3/envs/tf/lib/python3.7/site-packages/jedi/parser_utils.py'>,\n",
       " 'jedi.debug': <module 'jedi.debug' from '/Users/biancaaguglia/opt/anaconda3/envs/tf/lib/python3.7/site-packages/jedi/debug.py'>,\n",
       " 'jedi.settings': <module 'jedi.settings' from '/Users/biancaaguglia/opt/anaconda3/envs/tf/lib/python3.7/site-packages/jedi/settings.py'>,\n",
       " 'jedi.cache': <module 'jedi.cache' from '/Users/biancaaguglia/opt/anaconda3/envs/tf/lib/python3.7/site-packages/jedi/cache.py'>,\n",
       " 'jedi.api.classes': <module 'jedi.api.classes' from '/Users/biancaaguglia/opt/anaconda3/envs/tf/lib/python3.7/site-packages/jedi/api/classes.py'>,\n",
       " 'jedi.inference': <module 'jedi.inference' from '/Users/biancaaguglia/opt/anaconda3/envs/tf/lib/python3.7/site-packages/jedi/inference/__init__.py'>,\n",
       " 'jedi.inference.imports': <module 'jedi.inference.imports' from '/Users/biancaaguglia/opt/anaconda3/envs/tf/lib/python3.7/site-packages/jedi/inference/imports.py'>,\n",
       " 'jedi.inference.sys_path': <module 'jedi.inference.sys_path' from '/Users/biancaaguglia/opt/anaconda3/envs/tf/lib/python3.7/site-packages/jedi/inference/sys_path.py'>,\n",
       " 'jedi.inference.cache': <module 'jedi.inference.cache' from '/Users/biancaaguglia/opt/anaconda3/envs/tf/lib/python3.7/site-packages/jedi/inference/cache.py'>,\n",
       " 'jedi.inference.base_value': <module 'jedi.inference.base_value' from '/Users/biancaaguglia/opt/anaconda3/envs/tf/lib/python3.7/site-packages/jedi/inference/base_value.py'>,\n",
       " 'jedi.inference.helpers': <module 'jedi.inference.helpers' from '/Users/biancaaguglia/opt/anaconda3/envs/tf/lib/python3.7/site-packages/jedi/inference/helpers.py'>,\n",
       " 'jedi.inference.utils': <module 'jedi.inference.utils' from '/Users/biancaaguglia/opt/anaconda3/envs/tf/lib/python3.7/site-packages/jedi/inference/utils.py'>,\n",
       " 'jedi.common': <module 'jedi.common' from '/Users/biancaaguglia/opt/anaconda3/envs/tf/lib/python3.7/site-packages/jedi/common.py'>,\n",
       " 'jedi.inference.compiled': <module 'jedi.inference.compiled' from '/Users/biancaaguglia/opt/anaconda3/envs/tf/lib/python3.7/site-packages/jedi/inference/compiled/__init__.py'>,\n",
       " 'jedi.inference.compiled.value': <module 'jedi.inference.compiled.value' from '/Users/biancaaguglia/opt/anaconda3/envs/tf/lib/python3.7/site-packages/jedi/inference/compiled/value.py'>,\n",
       " 'jedi.inference.filters': <module 'jedi.inference.filters' from '/Users/biancaaguglia/opt/anaconda3/envs/tf/lib/python3.7/site-packages/jedi/inference/filters.py'>,\n",
       " 'jedi.inference.flow_analysis': <module 'jedi.inference.flow_analysis' from '/Users/biancaaguglia/opt/anaconda3/envs/tf/lib/python3.7/site-packages/jedi/inference/flow_analysis.py'>,\n",
       " 'jedi.inference.recursion': <module 'jedi.inference.recursion' from '/Users/biancaaguglia/opt/anaconda3/envs/tf/lib/python3.7/site-packages/jedi/inference/recursion.py'>,\n",
       " 'jedi.inference.names': <module 'jedi.inference.names' from '/Users/biancaaguglia/opt/anaconda3/envs/tf/lib/python3.7/site-packages/jedi/inference/names.py'>,\n",
       " 'jedi.inference.docstrings': <module 'jedi.inference.docstrings' from '/Users/biancaaguglia/opt/anaconda3/envs/tf/lib/python3.7/site-packages/jedi/inference/docstrings.py'>,\n",
       " 'jedi.inference.lazy_value': <module 'jedi.inference.lazy_value' from '/Users/biancaaguglia/opt/anaconda3/envs/tf/lib/python3.7/site-packages/jedi/inference/lazy_value.py'>,\n",
       " 'jedi.plugins': <module 'jedi.plugins' from '/Users/biancaaguglia/opt/anaconda3/envs/tf/lib/python3.7/site-packages/jedi/plugins/__init__.py'>,\n",
       " 'jedi.inference.compiled.access': <module 'jedi.inference.compiled.access' from '/Users/biancaaguglia/opt/anaconda3/envs/tf/lib/python3.7/site-packages/jedi/inference/compiled/access.py'>,\n",
       " 'jedi.inference.compiled.getattr_static': <module 'jedi.inference.compiled.getattr_static' from '/Users/biancaaguglia/opt/anaconda3/envs/tf/lib/python3.7/site-packages/jedi/inference/compiled/getattr_static.py'>,\n",
       " 'jedi.inference.signature': <module 'jedi.inference.signature' from '/Users/biancaaguglia/opt/anaconda3/envs/tf/lib/python3.7/site-packages/jedi/inference/signature.py'>,\n",
       " 'jedi.inference.context': <module 'jedi.inference.context' from '/Users/biancaaguglia/opt/anaconda3/envs/tf/lib/python3.7/site-packages/jedi/inference/context.py'>,\n",
       " 'jedi.inference.analysis': <module 'jedi.inference.analysis' from '/Users/biancaaguglia/opt/anaconda3/envs/tf/lib/python3.7/site-packages/jedi/inference/analysis.py'>,\n",
       " 'jedi.inference.gradual': <module 'jedi.inference.gradual' from '/Users/biancaaguglia/opt/anaconda3/envs/tf/lib/python3.7/site-packages/jedi/inference/gradual/__init__.py'>,\n",
       " 'jedi.inference.gradual.typeshed': <module 'jedi.inference.gradual.typeshed' from '/Users/biancaaguglia/opt/anaconda3/envs/tf/lib/python3.7/site-packages/jedi/inference/gradual/typeshed.py'>,\n",
       " 'jedi.inference.gradual.stub_value': <module 'jedi.inference.gradual.stub_value' from '/Users/biancaaguglia/opt/anaconda3/envs/tf/lib/python3.7/site-packages/jedi/inference/gradual/stub_value.py'>,\n",
       " 'jedi.inference.value': <module 'jedi.inference.value' from '/Users/biancaaguglia/opt/anaconda3/envs/tf/lib/python3.7/site-packages/jedi/inference/value/__init__.py'>,\n",
       " 'jedi.inference.value.module': <module 'jedi.inference.value.module' from '/Users/biancaaguglia/opt/anaconda3/envs/tf/lib/python3.7/site-packages/jedi/inference/value/module.py'>,\n",
       " 'jedi.inference.value.klass': <module 'jedi.inference.value.klass' from '/Users/biancaaguglia/opt/anaconda3/envs/tf/lib/python3.7/site-packages/jedi/inference/value/klass.py'>,\n",
       " 'jedi.inference.arguments': <module 'jedi.inference.arguments' from '/Users/biancaaguglia/opt/anaconda3/envs/tf/lib/python3.7/site-packages/jedi/inference/arguments.py'>,\n",
       " 'jedi.inference.value.iterable': <module 'jedi.inference.value.iterable' from '/Users/biancaaguglia/opt/anaconda3/envs/tf/lib/python3.7/site-packages/jedi/inference/value/iterable.py'>,\n",
       " 'jedi.inference.value.dynamic_arrays': <module 'jedi.inference.value.dynamic_arrays' from '/Users/biancaaguglia/opt/anaconda3/envs/tf/lib/python3.7/site-packages/jedi/inference/value/dynamic_arrays.py'>,\n",
       " 'jedi.inference.value.function': <module 'jedi.inference.value.function' from '/Users/biancaaguglia/opt/anaconda3/envs/tf/lib/python3.7/site-packages/jedi/inference/value/function.py'>,\n",
       " 'jedi.inference.parser_cache': <module 'jedi.inference.parser_cache' from '/Users/biancaaguglia/opt/anaconda3/envs/tf/lib/python3.7/site-packages/jedi/inference/parser_cache.py'>,\n",
       " 'jedi.inference.gradual.generics': <module 'jedi.inference.gradual.generics' from '/Users/biancaaguglia/opt/anaconda3/envs/tf/lib/python3.7/site-packages/jedi/inference/gradual/generics.py'>,\n",
       " 'jedi.inference.value.instance': <module 'jedi.inference.value.instance' from '/Users/biancaaguglia/opt/anaconda3/envs/tf/lib/python3.7/site-packages/jedi/inference/value/instance.py'>,\n",
       " 'jedi.inference.gradual.typing': <module 'jedi.inference.gradual.typing' from '/Users/biancaaguglia/opt/anaconda3/envs/tf/lib/python3.7/site-packages/jedi/inference/gradual/typing.py'>,\n",
       " 'jedi.inference.gradual.base': <module 'jedi.inference.gradual.base' from '/Users/biancaaguglia/opt/anaconda3/envs/tf/lib/python3.7/site-packages/jedi/inference/gradual/base.py'>,\n",
       " 'jedi.inference.gradual.type_var': <module 'jedi.inference.gradual.type_var' from '/Users/biancaaguglia/opt/anaconda3/envs/tf/lib/python3.7/site-packages/jedi/inference/gradual/type_var.py'>,\n",
       " 'jedi.inference.syntax_tree': <module 'jedi.inference.syntax_tree' from '/Users/biancaaguglia/opt/anaconda3/envs/tf/lib/python3.7/site-packages/jedi/inference/syntax_tree.py'>,\n",
       " 'jedi.inference.gradual.annotation': <module 'jedi.inference.gradual.annotation' from '/Users/biancaaguglia/opt/anaconda3/envs/tf/lib/python3.7/site-packages/jedi/inference/gradual/annotation.py'>,\n",
       " 'jedi.inference.param': <module 'jedi.inference.param' from '/Users/biancaaguglia/opt/anaconda3/envs/tf/lib/python3.7/site-packages/jedi/inference/param.py'>,\n",
       " 'jedi.inference.value.decorator': <module 'jedi.inference.value.decorator' from '/Users/biancaaguglia/opt/anaconda3/envs/tf/lib/python3.7/site-packages/jedi/inference/value/decorator.py'>,\n",
       " 'jedi.inference.compiled.mixed': <module 'jedi.inference.compiled.mixed' from '/Users/biancaaguglia/opt/anaconda3/envs/tf/lib/python3.7/site-packages/jedi/inference/compiled/mixed.py'>,\n",
       " 'jedi.inference.gradual.conversion': <module 'jedi.inference.gradual.conversion' from '/Users/biancaaguglia/opt/anaconda3/envs/tf/lib/python3.7/site-packages/jedi/inference/gradual/conversion.py'>,\n",
       " 'jedi.api.keywords': <module 'jedi.api.keywords' from '/Users/biancaaguglia/opt/anaconda3/envs/tf/lib/python3.7/site-packages/jedi/api/keywords.py'>,\n",
       " 'pydoc_data': <module 'pydoc_data' from '/Users/biancaaguglia/opt/anaconda3/envs/tf/lib/python3.7/pydoc_data/__init__.py'>,\n",
       " 'pydoc_data.topics': <module 'pydoc_data.topics' from '/Users/biancaaguglia/opt/anaconda3/envs/tf/lib/python3.7/pydoc_data/topics.py'>,\n",
       " 'jedi.api.completion_cache': <module 'jedi.api.completion_cache' from '/Users/biancaaguglia/opt/anaconda3/envs/tf/lib/python3.7/site-packages/jedi/api/completion_cache.py'>,\n",
       " 'jedi.api.helpers': <module 'jedi.api.helpers' from '/Users/biancaaguglia/opt/anaconda3/envs/tf/lib/python3.7/site-packages/jedi/api/helpers.py'>,\n",
       " 'jedi.api.interpreter': <module 'jedi.api.interpreter' from '/Users/biancaaguglia/opt/anaconda3/envs/tf/lib/python3.7/site-packages/jedi/api/interpreter.py'>,\n",
       " 'jedi.api.completion': <module 'jedi.api.completion' from '/Users/biancaaguglia/opt/anaconda3/envs/tf/lib/python3.7/site-packages/jedi/api/completion.py'>,\n",
       " 'jedi.api.strings': <module 'jedi.api.strings' from '/Users/biancaaguglia/opt/anaconda3/envs/tf/lib/python3.7/site-packages/jedi/api/strings.py'>,\n",
       " 'jedi.api.file_name': <module 'jedi.api.file_name' from '/Users/biancaaguglia/opt/anaconda3/envs/tf/lib/python3.7/site-packages/jedi/api/file_name.py'>,\n",
       " 'jedi.api.environment': <module 'jedi.api.environment' from '/Users/biancaaguglia/opt/anaconda3/envs/tf/lib/python3.7/site-packages/jedi/api/environment.py'>,\n",
       " 'filecmp': <module 'filecmp' from '/Users/biancaaguglia/opt/anaconda3/envs/tf/lib/python3.7/filecmp.py'>,\n",
       " 'jedi.inference.compiled.subprocess': <module 'jedi.inference.compiled.subprocess' from '/Users/biancaaguglia/opt/anaconda3/envs/tf/lib/python3.7/site-packages/jedi/inference/compiled/subprocess/__init__.py'>,\n",
       " 'jedi.inference.compiled.subprocess.functions': <module 'jedi.inference.compiled.subprocess.functions' from '/Users/biancaaguglia/opt/anaconda3/envs/tf/lib/python3.7/site-packages/jedi/inference/compiled/subprocess/functions.py'>,\n",
       " 'jedi.api.exceptions': <module 'jedi.api.exceptions' from '/Users/biancaaguglia/opt/anaconda3/envs/tf/lib/python3.7/site-packages/jedi/api/exceptions.py'>,\n",
       " 'jedi.api.project': <module 'jedi.api.project' from '/Users/biancaaguglia/opt/anaconda3/envs/tf/lib/python3.7/site-packages/jedi/api/project.py'>,\n",
       " 'jedi.inference.references': <module 'jedi.inference.references' from '/Users/biancaaguglia/opt/anaconda3/envs/tf/lib/python3.7/site-packages/jedi/inference/references.py'>,\n",
       " 'jedi.api.errors': <module 'jedi.api.errors' from '/Users/biancaaguglia/opt/anaconda3/envs/tf/lib/python3.7/site-packages/jedi/api/errors.py'>,\n",
       " 'jedi.api.refactoring': <module 'jedi.api.refactoring' from '/Users/biancaaguglia/opt/anaconda3/envs/tf/lib/python3.7/site-packages/jedi/api/refactoring/__init__.py'>,\n",
       " 'jedi.api.refactoring.extract': <module 'jedi.api.refactoring.extract' from '/Users/biancaaguglia/opt/anaconda3/envs/tf/lib/python3.7/site-packages/jedi/api/refactoring/extract.py'>,\n",
       " 'jedi.inference.gradual.utils': <module 'jedi.inference.gradual.utils' from '/Users/biancaaguglia/opt/anaconda3/envs/tf/lib/python3.7/site-packages/jedi/inference/gradual/utils.py'>,\n",
       " 'jedi.plugins.registry': <module 'jedi.plugins.registry' from '/Users/biancaaguglia/opt/anaconda3/envs/tf/lib/python3.7/site-packages/jedi/plugins/registry.py'>,\n",
       " 'jedi.plugins.stdlib': <module 'jedi.plugins.stdlib' from '/Users/biancaaguglia/opt/anaconda3/envs/tf/lib/python3.7/site-packages/jedi/plugins/stdlib.py'>,\n",
       " 'jedi.plugins.flask': <module 'jedi.plugins.flask' from '/Users/biancaaguglia/opt/anaconda3/envs/tf/lib/python3.7/site-packages/jedi/plugins/flask.py'>,\n",
       " 'jedi.plugins.pytest': <module 'jedi.plugins.pytest' from '/Users/biancaaguglia/opt/anaconda3/envs/tf/lib/python3.7/site-packages/jedi/plugins/pytest.py'>,\n",
       " 'jedi.plugins.django': <module 'jedi.plugins.django' from '/Users/biancaaguglia/opt/anaconda3/envs/tf/lib/python3.7/site-packages/jedi/plugins/django.py'>,\n",
       " 'IPython.terminal.ptutils': <module 'IPython.terminal.ptutils' from '/Users/biancaaguglia/opt/anaconda3/envs/tf/lib/python3.7/site-packages/IPython/terminal/ptutils.py'>,\n",
       " 'IPython.terminal.shortcuts': <module 'IPython.terminal.shortcuts' from '/Users/biancaaguglia/opt/anaconda3/envs/tf/lib/python3.7/site-packages/IPython/terminal/shortcuts.py'>,\n",
       " 'IPython.terminal.magics': <module 'IPython.terminal.magics' from '/Users/biancaaguglia/opt/anaconda3/envs/tf/lib/python3.7/site-packages/IPython/terminal/magics.py'>,\n",
       " 'IPython.lib.clipboard': <module 'IPython.lib.clipboard' from '/Users/biancaaguglia/opt/anaconda3/envs/tf/lib/python3.7/site-packages/IPython/lib/clipboard.py'>,\n",
       " 'IPython.terminal.pt_inputhooks': <module 'IPython.terminal.pt_inputhooks' from '/Users/biancaaguglia/opt/anaconda3/envs/tf/lib/python3.7/site-packages/IPython/terminal/pt_inputhooks/__init__.py'>,\n",
       " 'IPython.terminal.prompts': <module 'IPython.terminal.prompts' from '/Users/biancaaguglia/opt/anaconda3/envs/tf/lib/python3.7/site-packages/IPython/terminal/prompts.py'>,\n",
       " 'IPython.terminal.ipapp': <module 'IPython.terminal.ipapp' from '/Users/biancaaguglia/opt/anaconda3/envs/tf/lib/python3.7/site-packages/IPython/terminal/ipapp.py'>,\n",
       " 'IPython.core.magics': <module 'IPython.core.magics' from '/Users/biancaaguglia/opt/anaconda3/envs/tf/lib/python3.7/site-packages/IPython/core/magics/__init__.py'>,\n",
       " 'IPython.core.magics.auto': <module 'IPython.core.magics.auto' from '/Users/biancaaguglia/opt/anaconda3/envs/tf/lib/python3.7/site-packages/IPython/core/magics/auto.py'>,\n",
       " 'IPython.core.magics.basic': <module 'IPython.core.magics.basic' from '/Users/biancaaguglia/opt/anaconda3/envs/tf/lib/python3.7/site-packages/IPython/core/magics/basic.py'>,\n",
       " 'IPython.core.magics.code': <module 'IPython.core.magics.code' from '/Users/biancaaguglia/opt/anaconda3/envs/tf/lib/python3.7/site-packages/IPython/core/magics/code.py'>,\n",
       " 'urllib.request': <module 'urllib.request' from '/Users/biancaaguglia/opt/anaconda3/envs/tf/lib/python3.7/urllib/request.py'>,\n",
       " 'email': <module 'email' from '/Users/biancaaguglia/opt/anaconda3/envs/tf/lib/python3.7/email/__init__.py'>,\n",
       " 'http': <module 'http' from '/Users/biancaaguglia/opt/anaconda3/envs/tf/lib/python3.7/http/__init__.py'>,\n",
       " 'http.client': <module 'http.client' from '/Users/biancaaguglia/opt/anaconda3/envs/tf/lib/python3.7/http/client.py'>,\n",
       " 'email.parser': <module 'email.parser' from '/Users/biancaaguglia/opt/anaconda3/envs/tf/lib/python3.7/email/parser.py'>,\n",
       " 'email.feedparser': <module 'email.feedparser' from '/Users/biancaaguglia/opt/anaconda3/envs/tf/lib/python3.7/email/feedparser.py'>,\n",
       " 'email.errors': <module 'email.errors' from '/Users/biancaaguglia/opt/anaconda3/envs/tf/lib/python3.7/email/errors.py'>,\n",
       " 'email._policybase': <module 'email._policybase' from '/Users/biancaaguglia/opt/anaconda3/envs/tf/lib/python3.7/email/_policybase.py'>,\n",
       " 'email.header': <module 'email.header' from '/Users/biancaaguglia/opt/anaconda3/envs/tf/lib/python3.7/email/header.py'>,\n",
       " 'email.quoprimime': <module 'email.quoprimime' from '/Users/biancaaguglia/opt/anaconda3/envs/tf/lib/python3.7/email/quoprimime.py'>,\n",
       " 'email.base64mime': <module 'email.base64mime' from '/Users/biancaaguglia/opt/anaconda3/envs/tf/lib/python3.7/email/base64mime.py'>,\n",
       " 'email.charset': <module 'email.charset' from '/Users/biancaaguglia/opt/anaconda3/envs/tf/lib/python3.7/email/charset.py'>,\n",
       " 'email.encoders': <module 'email.encoders' from '/Users/biancaaguglia/opt/anaconda3/envs/tf/lib/python3.7/email/encoders.py'>,\n",
       " 'quopri': <module 'quopri' from '/Users/biancaaguglia/opt/anaconda3/envs/tf/lib/python3.7/quopri.py'>,\n",
       " 'email.utils': <module 'email.utils' from '/Users/biancaaguglia/opt/anaconda3/envs/tf/lib/python3.7/email/utils.py'>,\n",
       " 'email._parseaddr': <module 'email._parseaddr' from '/Users/biancaaguglia/opt/anaconda3/envs/tf/lib/python3.7/email/_parseaddr.py'>,\n",
       " 'calendar': <module 'calendar' from '/Users/biancaaguglia/opt/anaconda3/envs/tf/lib/python3.7/calendar.py'>,\n",
       " 'email.message': <module 'email.message' from '/Users/biancaaguglia/opt/anaconda3/envs/tf/lib/python3.7/email/message.py'>,\n",
       " 'uu': <module 'uu' from '/Users/biancaaguglia/opt/anaconda3/envs/tf/lib/python3.7/uu.py'>,\n",
       " 'email._encoded_words': <module 'email._encoded_words' from '/Users/biancaaguglia/opt/anaconda3/envs/tf/lib/python3.7/email/_encoded_words.py'>,\n",
       " 'email.iterators': <module 'email.iterators' from '/Users/biancaaguglia/opt/anaconda3/envs/tf/lib/python3.7/email/iterators.py'>,\n",
       " 'urllib.error': <module 'urllib.error' from '/Users/biancaaguglia/opt/anaconda3/envs/tf/lib/python3.7/urllib/error.py'>,\n",
       " 'urllib.response': <module 'urllib.response' from '/Users/biancaaguglia/opt/anaconda3/envs/tf/lib/python3.7/urllib/response.py'>,\n",
       " '_scproxy': <module '_scproxy' from '/Users/biancaaguglia/opt/anaconda3/envs/tf/lib/python3.7/lib-dynload/_scproxy.cpython-37m-darwin.so'>,\n",
       " 'IPython.core.magics.config': <module 'IPython.core.magics.config' from '/Users/biancaaguglia/opt/anaconda3/envs/tf/lib/python3.7/site-packages/IPython/core/magics/config.py'>,\n",
       " 'IPython.core.magics.display': <module 'IPython.core.magics.display' from '/Users/biancaaguglia/opt/anaconda3/envs/tf/lib/python3.7/site-packages/IPython/core/magics/display.py'>,\n",
       " 'IPython.core.magics.execution': <module 'IPython.core.magics.execution' from '/Users/biancaaguglia/opt/anaconda3/envs/tf/lib/python3.7/site-packages/IPython/core/magics/execution.py'>,\n",
       " 'timeit': <module 'timeit' from '/Users/biancaaguglia/opt/anaconda3/envs/tf/lib/python3.7/timeit.py'>,\n",
       " 'cProfile': <module 'cProfile' from '/Users/biancaaguglia/opt/anaconda3/envs/tf/lib/python3.7/cProfile.py'>,\n",
       " '_lsprof': <module '_lsprof' from '/Users/biancaaguglia/opt/anaconda3/envs/tf/lib/python3.7/lib-dynload/_lsprof.cpython-37m-darwin.so'>,\n",
       " 'profile': <module 'profile' from '/Users/biancaaguglia/opt/anaconda3/envs/tf/lib/python3.7/profile.py'>,\n",
       " 'pstats': <module 'pstats' from '/Users/biancaaguglia/opt/anaconda3/envs/tf/lib/python3.7/pstats.py'>,\n",
       " 'IPython.utils.module_paths': <module 'IPython.utils.module_paths' from '/Users/biancaaguglia/opt/anaconda3/envs/tf/lib/python3.7/site-packages/IPython/utils/module_paths.py'>,\n",
       " 'IPython.utils.timing': <module 'IPython.utils.timing' from '/Users/biancaaguglia/opt/anaconda3/envs/tf/lib/python3.7/site-packages/IPython/utils/timing.py'>,\n",
       " 'IPython.core.magics.extension': <module 'IPython.core.magics.extension' from '/Users/biancaaguglia/opt/anaconda3/envs/tf/lib/python3.7/site-packages/IPython/core/magics/extension.py'>,\n",
       " 'IPython.core.magics.history': <module 'IPython.core.magics.history' from '/Users/biancaaguglia/opt/anaconda3/envs/tf/lib/python3.7/site-packages/IPython/core/magics/history.py'>,\n",
       " 'IPython.core.magics.logging': <module 'IPython.core.magics.logging' from '/Users/biancaaguglia/opt/anaconda3/envs/tf/lib/python3.7/site-packages/IPython/core/magics/logging.py'>,\n",
       " 'IPython.core.magics.namespace': <module 'IPython.core.magics.namespace' from '/Users/biancaaguglia/opt/anaconda3/envs/tf/lib/python3.7/site-packages/IPython/core/magics/namespace.py'>,\n",
       " 'IPython.core.magics.osm': <module 'IPython.core.magics.osm' from '/Users/biancaaguglia/opt/anaconda3/envs/tf/lib/python3.7/site-packages/IPython/core/magics/osm.py'>,\n",
       " 'IPython.core.magics.packaging': <module 'IPython.core.magics.packaging' from '/Users/biancaaguglia/opt/anaconda3/envs/tf/lib/python3.7/site-packages/IPython/core/magics/packaging.py'>,\n",
       " 'IPython.core.magics.pylab': <module 'IPython.core.magics.pylab' from '/Users/biancaaguglia/opt/anaconda3/envs/tf/lib/python3.7/site-packages/IPython/core/magics/pylab.py'>,\n",
       " 'IPython.core.pylabtools': <module 'IPython.core.pylabtools' from '/Users/biancaaguglia/opt/anaconda3/envs/tf/lib/python3.7/site-packages/IPython/core/pylabtools.py'>,\n",
       " 'IPython.core.magics.script': <module 'IPython.core.magics.script' from '/Users/biancaaguglia/opt/anaconda3/envs/tf/lib/python3.7/site-packages/IPython/core/magics/script.py'>,\n",
       " 'IPython.lib.backgroundjobs': <module 'IPython.lib.backgroundjobs' from '/Users/biancaaguglia/opt/anaconda3/envs/tf/lib/python3.7/site-packages/IPython/lib/backgroundjobs.py'>,\n",
       " 'IPython.core.shellapp': <module 'IPython.core.shellapp' from '/Users/biancaaguglia/opt/anaconda3/envs/tf/lib/python3.7/site-packages/IPython/core/shellapp.py'>,\n",
       " 'IPython.extensions': <module 'IPython.extensions' from '/Users/biancaaguglia/opt/anaconda3/envs/tf/lib/python3.7/site-packages/IPython/extensions/__init__.py'>,\n",
       " 'IPython.extensions.storemagic': <module 'IPython.extensions.storemagic' from '/Users/biancaaguglia/opt/anaconda3/envs/tf/lib/python3.7/site-packages/IPython/extensions/storemagic.py'>,\n",
       " 'IPython.utils.frame': <module 'IPython.utils.frame' from '/Users/biancaaguglia/opt/anaconda3/envs/tf/lib/python3.7/site-packages/IPython/utils/frame.py'>,\n",
       " 'jupyter_client': <module 'jupyter_client' from '/Users/biancaaguglia/opt/anaconda3/envs/tf/lib/python3.7/site-packages/jupyter_client/__init__.py'>,\n",
       " 'jupyter_client._version': <module 'jupyter_client._version' from '/Users/biancaaguglia/opt/anaconda3/envs/tf/lib/python3.7/site-packages/jupyter_client/_version.py'>,\n",
       " 'jupyter_client.connect': <module 'jupyter_client.connect' from '/Users/biancaaguglia/opt/anaconda3/envs/tf/lib/python3.7/site-packages/jupyter_client/connect.py'>,\n",
       " 'zmq': <module 'zmq' from '/Users/biancaaguglia/opt/anaconda3/envs/tf/lib/python3.7/site-packages/zmq/__init__.py'>,\n",
       " 'ctypes': <module 'ctypes' from '/Users/biancaaguglia/opt/anaconda3/envs/tf/lib/python3.7/ctypes/__init__.py'>,\n",
       " '_ctypes': <module '_ctypes' from '/Users/biancaaguglia/opt/anaconda3/envs/tf/lib/python3.7/lib-dynload/_ctypes.cpython-37m-darwin.so'>,\n",
       " 'ctypes._endian': <module 'ctypes._endian' from '/Users/biancaaguglia/opt/anaconda3/envs/tf/lib/python3.7/ctypes/_endian.py'>,\n",
       " 'zmq.backend': <module 'zmq.backend' from '/Users/biancaaguglia/opt/anaconda3/envs/tf/lib/python3.7/site-packages/zmq/backend/__init__.py'>,\n",
       " 'zmq.backend.select': <module 'zmq.backend.select' from '/Users/biancaaguglia/opt/anaconda3/envs/tf/lib/python3.7/site-packages/zmq/backend/select.py'>,\n",
       " 'zmq.backend.cython': <module 'zmq.backend.cython' from '/Users/biancaaguglia/opt/anaconda3/envs/tf/lib/python3.7/site-packages/zmq/backend/cython/__init__.py'>,\n",
       " 'zmq.backend.cython.constants': <module 'zmq.backend.cython.constants' from '/Users/biancaaguglia/opt/anaconda3/envs/tf/lib/python3.7/site-packages/zmq/backend/cython/constants.cpython-37m-darwin.so'>,\n",
       " 'cython_runtime': <module 'cython_runtime'>,\n",
       " 'zmq.backend.cython.error': <module 'zmq.backend.cython.error' from '/Users/biancaaguglia/opt/anaconda3/envs/tf/lib/python3.7/site-packages/zmq/backend/cython/error.cpython-37m-darwin.so'>,\n",
       " '_cython_0_29_21': <module '_cython_0_29_21'>,\n",
       " 'zmq.backend.cython.message': <module 'zmq.backend.cython.message' from '/Users/biancaaguglia/opt/anaconda3/envs/tf/lib/python3.7/site-packages/zmq/backend/cython/message.cpython-37m-darwin.so'>,\n",
       " 'zmq.error': <module 'zmq.error' from '/Users/biancaaguglia/opt/anaconda3/envs/tf/lib/python3.7/site-packages/zmq/error.py'>,\n",
       " 'zmq.backend.cython.context': <module 'zmq.backend.cython.context' from '/Users/biancaaguglia/opt/anaconda3/envs/tf/lib/python3.7/site-packages/zmq/backend/cython/context.cpython-37m-darwin.so'>,\n",
       " 'zmq.backend.cython.socket': <module 'zmq.backend.cython.socket' from '/Users/biancaaguglia/opt/anaconda3/envs/tf/lib/python3.7/site-packages/zmq/backend/cython/socket.cpython-37m-darwin.so'>,\n",
       " 'zmq.backend.cython.utils': <module 'zmq.backend.cython.utils' from '/Users/biancaaguglia/opt/anaconda3/envs/tf/lib/python3.7/site-packages/zmq/backend/cython/utils.cpython-37m-darwin.so'>,\n",
       " 'zmq.backend.cython._poll': <module 'zmq.backend.cython._poll' from '/Users/biancaaguglia/opt/anaconda3/envs/tf/lib/python3.7/site-packages/zmq/backend/cython/_poll.cpython-37m-darwin.so'>,\n",
       " 'zmq.backend.cython._version': <module 'zmq.backend.cython._version' from '/Users/biancaaguglia/opt/anaconda3/envs/tf/lib/python3.7/site-packages/zmq/backend/cython/_version.cpython-37m-darwin.so'>,\n",
       " 'zmq.backend.cython._device': <module 'zmq.backend.cython._device' from '/Users/biancaaguglia/opt/anaconda3/envs/tf/lib/python3.7/site-packages/zmq/backend/cython/_device.cpython-37m-darwin.so'>,\n",
       " 'zmq.backend.cython._proxy_steerable': <module 'zmq.backend.cython._proxy_steerable' from '/Users/biancaaguglia/opt/anaconda3/envs/tf/lib/python3.7/site-packages/zmq/backend/cython/_proxy_steerable.cpython-37m-darwin.so'>,\n",
       " 'zmq.sugar': <module 'zmq.sugar' from '/Users/biancaaguglia/opt/anaconda3/envs/tf/lib/python3.7/site-packages/zmq/sugar/__init__.py'>,\n",
       " 'zmq.sugar.constants': <module 'zmq.sugar.constants' from '/Users/biancaaguglia/opt/anaconda3/envs/tf/lib/python3.7/site-packages/zmq/sugar/constants.py'>,\n",
       " 'zmq.utils': <module 'zmq.utils' from '/Users/biancaaguglia/opt/anaconda3/envs/tf/lib/python3.7/site-packages/zmq/utils/__init__.py'>,\n",
       " 'zmq.utils.constant_names': <module 'zmq.utils.constant_names' from '/Users/biancaaguglia/opt/anaconda3/envs/tf/lib/python3.7/site-packages/zmq/utils/constant_names.py'>,\n",
       " 'zmq.sugar.context': <module 'zmq.sugar.context' from '/Users/biancaaguglia/opt/anaconda3/envs/tf/lib/python3.7/site-packages/zmq/sugar/context.py'>,\n",
       " 'zmq.sugar.attrsettr': <module 'zmq.sugar.attrsettr' from '/Users/biancaaguglia/opt/anaconda3/envs/tf/lib/python3.7/site-packages/zmq/sugar/attrsettr.py'>,\n",
       " 'zmq.sugar.socket': <module 'zmq.sugar.socket' from '/Users/biancaaguglia/opt/anaconda3/envs/tf/lib/python3.7/site-packages/zmq/sugar/socket.py'>,\n",
       " 'zmq.sugar.poll': <module 'zmq.sugar.poll' from '/Users/biancaaguglia/opt/anaconda3/envs/tf/lib/python3.7/site-packages/zmq/sugar/poll.py'>,\n",
       " 'zmq.utils.jsonapi': <module 'zmq.utils.jsonapi' from '/Users/biancaaguglia/opt/anaconda3/envs/tf/lib/python3.7/site-packages/zmq/utils/jsonapi.py'>,\n",
       " 'zmq.utils.strtypes': <module 'zmq.utils.strtypes' from '/Users/biancaaguglia/opt/anaconda3/envs/tf/lib/python3.7/site-packages/zmq/utils/strtypes.py'>,\n",
       " 'zmq.sugar.frame': <module 'zmq.sugar.frame' from '/Users/biancaaguglia/opt/anaconda3/envs/tf/lib/python3.7/site-packages/zmq/sugar/frame.py'>,\n",
       " 'zmq.sugar.tracker': <module 'zmq.sugar.tracker' from '/Users/biancaaguglia/opt/anaconda3/envs/tf/lib/python3.7/site-packages/zmq/sugar/tracker.py'>,\n",
       " 'zmq.sugar.version': <module 'zmq.sugar.version' from '/Users/biancaaguglia/opt/anaconda3/envs/tf/lib/python3.7/site-packages/zmq/sugar/version.py'>,\n",
       " 'zmq.sugar.stopwatch': <module 'zmq.sugar.stopwatch' from '/Users/biancaaguglia/opt/anaconda3/envs/tf/lib/python3.7/site-packages/zmq/sugar/stopwatch.py'>,\n",
       " 'jupyter_client.localinterfaces': <module 'jupyter_client.localinterfaces' from '/Users/biancaaguglia/opt/anaconda3/envs/tf/lib/python3.7/site-packages/jupyter_client/localinterfaces.py'>,\n",
       " 'jupyter_core': <module 'jupyter_core' from '/Users/biancaaguglia/opt/anaconda3/envs/tf/lib/python3.7/site-packages/jupyter_core/__init__.py'>,\n",
       " 'jupyter_core.version': <module 'jupyter_core.version' from '/Users/biancaaguglia/opt/anaconda3/envs/tf/lib/python3.7/site-packages/jupyter_core/version.py'>,\n",
       " 'jupyter_core.paths': <module 'jupyter_core.paths' from '/Users/biancaaguglia/opt/anaconda3/envs/tf/lib/python3.7/site-packages/jupyter_core/paths.py'>,\n",
       " 'jupyter_client.launcher': <module 'jupyter_client.launcher' from '/Users/biancaaguglia/opt/anaconda3/envs/tf/lib/python3.7/site-packages/jupyter_client/launcher.py'>,\n",
       " 'traitlets.log': <module 'traitlets.log' from '/Users/biancaaguglia/opt/anaconda3/envs/tf/lib/python3.7/site-packages/traitlets/log.py'>,\n",
       " 'jupyter_client.client': <module 'jupyter_client.client' from '/Users/biancaaguglia/opt/anaconda3/envs/tf/lib/python3.7/site-packages/jupyter_client/client.py'>,\n",
       " 'jupyter_client.channels': <module 'jupyter_client.channels' from '/Users/biancaaguglia/opt/anaconda3/envs/tf/lib/python3.7/site-packages/jupyter_client/channels.py'>,\n",
       " 'jupyter_client.channelsabc': <module 'jupyter_client.channelsabc' from '/Users/biancaaguglia/opt/anaconda3/envs/tf/lib/python3.7/site-packages/jupyter_client/channelsabc.py'>,\n",
       " 'jupyter_client.clientabc': <module 'jupyter_client.clientabc' from '/Users/biancaaguglia/opt/anaconda3/envs/tf/lib/python3.7/site-packages/jupyter_client/clientabc.py'>,\n",
       " 'jupyter_client.manager': <module 'jupyter_client.manager' from '/Users/biancaaguglia/opt/anaconda3/envs/tf/lib/python3.7/site-packages/jupyter_client/manager.py'>,\n",
       " 'ipython_genutils.importstring': <module 'ipython_genutils.importstring' from '/Users/biancaaguglia/opt/anaconda3/envs/tf/lib/python3.7/site-packages/ipython_genutils/importstring.py'>,\n",
       " 'jupyter_client.kernelspec': <module 'jupyter_client.kernelspec' from '/Users/biancaaguglia/opt/anaconda3/envs/tf/lib/python3.7/site-packages/jupyter_client/kernelspec.py'>,\n",
       " 'jupyter_client.managerabc': <module 'jupyter_client.managerabc' from '/Users/biancaaguglia/opt/anaconda3/envs/tf/lib/python3.7/site-packages/jupyter_client/managerabc.py'>,\n",
       " 'jupyter_client.blocking': <module 'jupyter_client.blocking' from '/Users/biancaaguglia/opt/anaconda3/envs/tf/lib/python3.7/site-packages/jupyter_client/blocking/__init__.py'>,\n",
       " 'jupyter_client.blocking.client': <module 'jupyter_client.blocking.client' from '/Users/biancaaguglia/opt/anaconda3/envs/tf/lib/python3.7/site-packages/jupyter_client/blocking/client.py'>,\n",
       " 'jupyter_client.blocking.channels': <module 'jupyter_client.blocking.channels' from '/Users/biancaaguglia/opt/anaconda3/envs/tf/lib/python3.7/site-packages/jupyter_client/blocking/channels.py'>,\n",
       " 'jupyter_client.asynchronous': <module 'jupyter_client.asynchronous' from '/Users/biancaaguglia/opt/anaconda3/envs/tf/lib/python3.7/site-packages/jupyter_client/asynchronous/__init__.py'>,\n",
       " 'jupyter_client.asynchronous.client': <module 'jupyter_client.asynchronous.client' from '/Users/biancaaguglia/opt/anaconda3/envs/tf/lib/python3.7/site-packages/jupyter_client/asynchronous/client.py'>,\n",
       " 'zmq.asyncio': <module 'zmq.asyncio' from '/Users/biancaaguglia/opt/anaconda3/envs/tf/lib/python3.7/site-packages/zmq/asyncio.py'>,\n",
       " 'zmq._future': <module 'zmq._future' from '/Users/biancaaguglia/opt/anaconda3/envs/tf/lib/python3.7/site-packages/zmq/_future.py'>,\n",
       " 'jupyter_client.asynchronous.channels': <module 'jupyter_client.asynchronous.channels' from '/Users/biancaaguglia/opt/anaconda3/envs/tf/lib/python3.7/site-packages/jupyter_client/asynchronous/channels.py'>,\n",
       " 'jupyter_client.multikernelmanager': <module 'jupyter_client.multikernelmanager' from '/Users/biancaaguglia/opt/anaconda3/envs/tf/lib/python3.7/site-packages/jupyter_client/multikernelmanager.py'>,\n",
       " 'uuid': <module 'uuid' from '/Users/biancaaguglia/opt/anaconda3/envs/tf/lib/python3.7/uuid.py'>,\n",
       " '_uuid': <module '_uuid' from '/Users/biancaaguglia/opt/anaconda3/envs/tf/lib/python3.7/lib-dynload/_uuid.cpython-37m-darwin.so'>,\n",
       " 'ipykernel.kernelapp': <module 'ipykernel.kernelapp' from '/Users/biancaaguglia/opt/anaconda3/envs/tf/lib/python3.7/site-packages/ipykernel/kernelapp.py'>,\n",
       " 'tornado': <module 'tornado' from '/Users/biancaaguglia/opt/anaconda3/envs/tf/lib/python3.7/site-packages/tornado/__init__.py'>,\n",
       " 'tornado.ioloop': <module 'tornado.ioloop' from '/Users/biancaaguglia/opt/anaconda3/envs/tf/lib/python3.7/site-packages/tornado/ioloop.py'>,\n",
       " 'numbers': <module 'numbers' from '/Users/biancaaguglia/opt/anaconda3/envs/tf/lib/python3.7/numbers.py'>,\n",
       " 'tornado.concurrent': <module 'tornado.concurrent' from '/Users/biancaaguglia/opt/anaconda3/envs/tf/lib/python3.7/site-packages/tornado/concurrent.py'>,\n",
       " 'tornado.log': <module 'tornado.log' from '/Users/biancaaguglia/opt/anaconda3/envs/tf/lib/python3.7/site-packages/tornado/log.py'>,\n",
       " 'logging.handlers': <module 'logging.handlers' from '/Users/biancaaguglia/opt/anaconda3/envs/tf/lib/python3.7/logging/handlers.py'>,\n",
       " 'tornado.escape': <module 'tornado.escape' from '/Users/biancaaguglia/opt/anaconda3/envs/tf/lib/python3.7/site-packages/tornado/escape.py'>,\n",
       " 'tornado.util': <module 'tornado.util' from '/Users/biancaaguglia/opt/anaconda3/envs/tf/lib/python3.7/site-packages/tornado/util.py'>,\n",
       " 'tornado.speedups': <module 'tornado.speedups' from '/Users/biancaaguglia/opt/anaconda3/envs/tf/lib/python3.7/site-packages/tornado/speedups.cpython-37m-darwin.so'>,\n",
       " 'curses': <module 'curses' from '/Users/biancaaguglia/opt/anaconda3/envs/tf/lib/python3.7/curses/__init__.py'>,\n",
       " '_curses': <module '_curses' from '/Users/biancaaguglia/opt/anaconda3/envs/tf/lib/python3.7/lib-dynload/_curses.cpython-37m-darwin.so'>,\n",
       " 'zmq.eventloop': <module 'zmq.eventloop' from '/Users/biancaaguglia/opt/anaconda3/envs/tf/lib/python3.7/site-packages/zmq/eventloop/__init__.py'>,\n",
       " 'zmq.eventloop.ioloop': <module 'zmq.eventloop.ioloop' from '/Users/biancaaguglia/opt/anaconda3/envs/tf/lib/python3.7/site-packages/zmq/eventloop/ioloop.py'>,\n",
       " 'tornado.platform': <module 'tornado.platform' from '/Users/biancaaguglia/opt/anaconda3/envs/tf/lib/python3.7/site-packages/tornado/platform/__init__.py'>,\n",
       " 'tornado.platform.asyncio': <module 'tornado.platform.asyncio' from '/Users/biancaaguglia/opt/anaconda3/envs/tf/lib/python3.7/site-packages/tornado/platform/asyncio.py'>,\n",
       " 'tornado.gen': <module 'tornado.gen' from '/Users/biancaaguglia/opt/anaconda3/envs/tf/lib/python3.7/site-packages/tornado/gen.py'>,\n",
       " 'zmq.eventloop.zmqstream': <module 'zmq.eventloop.zmqstream' from '/Users/biancaaguglia/opt/anaconda3/envs/tf/lib/python3.7/site-packages/zmq/eventloop/zmqstream.py'>,\n",
       " 'ipykernel.iostream': <module 'ipykernel.iostream' from '/Users/biancaaguglia/opt/anaconda3/envs/tf/lib/python3.7/site-packages/ipykernel/iostream.py'>,\n",
       " 'imp': <module 'imp' from '/Users/biancaaguglia/opt/anaconda3/envs/tf/lib/python3.7/imp.py'>,\n",
       " 'jupyter_client.session': <module 'jupyter_client.session' from '/Users/biancaaguglia/opt/anaconda3/envs/tf/lib/python3.7/site-packages/jupyter_client/session.py'>,\n",
       " 'hmac': <module 'hmac' from '/Users/biancaaguglia/opt/anaconda3/envs/tf/lib/python3.7/hmac.py'>,\n",
       " 'jupyter_client.jsonutil': <module 'jupyter_client.jsonutil' from '/Users/biancaaguglia/opt/anaconda3/envs/tf/lib/python3.7/site-packages/jupyter_client/jsonutil.py'>,\n",
       " 'dateutil': <module 'dateutil' from '/Users/biancaaguglia/opt/anaconda3/envs/tf/lib/python3.7/site-packages/dateutil/__init__.py'>,\n",
       " 'dateutil._version': <module 'dateutil._version' from '/Users/biancaaguglia/opt/anaconda3/envs/tf/lib/python3.7/site-packages/dateutil/_version.py'>,\n",
       " 'dateutil.parser': <module 'dateutil.parser' from '/Users/biancaaguglia/opt/anaconda3/envs/tf/lib/python3.7/site-packages/dateutil/parser/__init__.py'>,\n",
       " 'dateutil.parser._parser': <module 'dateutil.parser._parser' from '/Users/biancaaguglia/opt/anaconda3/envs/tf/lib/python3.7/site-packages/dateutil/parser/_parser.py'>,\n",
       " 'six': <module 'six' from '/Users/biancaaguglia/opt/anaconda3/envs/tf/lib/python3.7/site-packages/six.py'>,\n",
       " 'decimal': <module 'decimal' from '/Users/biancaaguglia/opt/anaconda3/envs/tf/lib/python3.7/decimal.py'>,\n",
       " '_decimal': <module '_decimal' from '/Users/biancaaguglia/opt/anaconda3/envs/tf/lib/python3.7/lib-dynload/_decimal.cpython-37m-darwin.so'>,\n",
       " 'dateutil.relativedelta': <module 'dateutil.relativedelta' from '/Users/biancaaguglia/opt/anaconda3/envs/tf/lib/python3.7/site-packages/dateutil/relativedelta.py'>,\n",
       " 'dateutil._common': <module 'dateutil._common' from '/Users/biancaaguglia/opt/anaconda3/envs/tf/lib/python3.7/site-packages/dateutil/_common.py'>,\n",
       " 'dateutil.tz': <module 'dateutil.tz' from '/Users/biancaaguglia/opt/anaconda3/envs/tf/lib/python3.7/site-packages/dateutil/tz/__init__.py'>,\n",
       " 'dateutil.tz.tz': <module 'dateutil.tz.tz' from '/Users/biancaaguglia/opt/anaconda3/envs/tf/lib/python3.7/site-packages/dateutil/tz/tz.py'>,\n",
       " 'six.moves': <module 'six.moves' (<six._SixMetaPathImporter object at 0x7fd810448c90>)>,\n",
       " 'dateutil.tz._common': <module 'dateutil.tz._common' from '/Users/biancaaguglia/opt/anaconda3/envs/tf/lib/python3.7/site-packages/dateutil/tz/_common.py'>,\n",
       " 'dateutil.tz._factories': <module 'dateutil.tz._factories' from '/Users/biancaaguglia/opt/anaconda3/envs/tf/lib/python3.7/site-packages/dateutil/tz/_factories.py'>,\n",
       " 'dateutil.parser.isoparser': <module 'dateutil.parser.isoparser' from '/Users/biancaaguglia/opt/anaconda3/envs/tf/lib/python3.7/site-packages/dateutil/parser/isoparser.py'>,\n",
       " '_strptime': <module '_strptime' from '/Users/biancaaguglia/opt/anaconda3/envs/tf/lib/python3.7/_strptime.py'>,\n",
       " 'jupyter_client.adapter': <module 'jupyter_client.adapter' from '/Users/biancaaguglia/opt/anaconda3/envs/tf/lib/python3.7/site-packages/jupyter_client/adapter.py'>,\n",
       " 'ipykernel.heartbeat': <module 'ipykernel.heartbeat' from '/Users/biancaaguglia/opt/anaconda3/envs/tf/lib/python3.7/site-packages/ipykernel/heartbeat.py'>,\n",
       " 'ipykernel.ipkernel': <module 'ipykernel.ipkernel' from '/Users/biancaaguglia/opt/anaconda3/envs/tf/lib/python3.7/site-packages/ipykernel/ipkernel.py'>,\n",
       " 'IPython.utils.tokenutil': <module 'IPython.utils.tokenutil' from '/Users/biancaaguglia/opt/anaconda3/envs/tf/lib/python3.7/site-packages/IPython/utils/tokenutil.py'>,\n",
       " 'ipykernel.comm': <module 'ipykernel.comm' from '/Users/biancaaguglia/opt/anaconda3/envs/tf/lib/python3.7/site-packages/ipykernel/comm/__init__.py'>,\n",
       " 'ipykernel.comm.manager': <module 'ipykernel.comm.manager' from '/Users/biancaaguglia/opt/anaconda3/envs/tf/lib/python3.7/site-packages/ipykernel/comm/manager.py'>,\n",
       " 'ipykernel.comm.comm': <module 'ipykernel.comm.comm' from '/Users/biancaaguglia/opt/anaconda3/envs/tf/lib/python3.7/site-packages/ipykernel/comm/comm.py'>,\n",
       " 'ipykernel.kernelbase': <module 'ipykernel.kernelbase' from '/Users/biancaaguglia/opt/anaconda3/envs/tf/lib/python3.7/site-packages/ipykernel/kernelbase.py'>,\n",
       " 'tornado.queues': <module 'tornado.queues' from '/Users/biancaaguglia/opt/anaconda3/envs/tf/lib/python3.7/site-packages/tornado/queues.py'>,\n",
       " 'tornado.locks': <module 'tornado.locks' from '/Users/biancaaguglia/opt/anaconda3/envs/tf/lib/python3.7/site-packages/tornado/locks.py'>,\n",
       " 'ipykernel.jsonutil': <module 'ipykernel.jsonutil' from '/Users/biancaaguglia/opt/anaconda3/envs/tf/lib/python3.7/site-packages/ipykernel/jsonutil.py'>,\n",
       " 'ipykernel.zmqshell': <module 'ipykernel.zmqshell' from '/Users/biancaaguglia/opt/anaconda3/envs/tf/lib/python3.7/site-packages/ipykernel/zmqshell.py'>,\n",
       " 'IPython.core.payloadpage': <module 'IPython.core.payloadpage' from '/Users/biancaaguglia/opt/anaconda3/envs/tf/lib/python3.7/site-packages/IPython/core/payloadpage.py'>,\n",
       " 'ipykernel.displayhook': <module 'ipykernel.displayhook' from '/Users/biancaaguglia/opt/anaconda3/envs/tf/lib/python3.7/site-packages/ipykernel/displayhook.py'>,\n",
       " 'ipykernel.eventloops': <module 'ipykernel.eventloops' from '/Users/biancaaguglia/opt/anaconda3/envs/tf/lib/python3.7/site-packages/ipykernel/eventloops.py'>,\n",
       " 'distutils': <module 'distutils' from '/Users/biancaaguglia/opt/anaconda3/envs/tf/lib/python3.7/distutils/__init__.py'>,\n",
       " 'distutils.version': <module 'distutils.version' from '/Users/biancaaguglia/opt/anaconda3/envs/tf/lib/python3.7/distutils/version.py'>,\n",
       " 'ipykernel.parentpoller': <module 'ipykernel.parentpoller' from '/Users/biancaaguglia/opt/anaconda3/envs/tf/lib/python3.7/site-packages/ipykernel/parentpoller.py'>,\n",
       " 'faulthandler': <module 'faulthandler' (built-in)>,\n",
       " 'ipykernel.datapub': <module 'ipykernel.datapub' from '/Users/biancaaguglia/opt/anaconda3/envs/tf/lib/python3.7/site-packages/ipykernel/datapub.py'>,\n",
       " 'ipykernel.serialize': <module 'ipykernel.serialize' from '/Users/biancaaguglia/opt/anaconda3/envs/tf/lib/python3.7/site-packages/ipykernel/serialize.py'>,\n",
       " 'ipykernel.pickleutil': <module 'ipykernel.pickleutil' from '/Users/biancaaguglia/opt/anaconda3/envs/tf/lib/python3.7/site-packages/ipykernel/pickleutil.py'>,\n",
       " 'ipykernel.codeutil': <module 'ipykernel.codeutil' from '/Users/biancaaguglia/opt/anaconda3/envs/tf/lib/python3.7/site-packages/ipykernel/codeutil.py'>,\n",
       " 'IPython.core.completerlib': <module 'IPython.core.completerlib' from '/Users/biancaaguglia/opt/anaconda3/envs/tf/lib/python3.7/site-packages/IPython/core/completerlib.py'>,\n",
       " 'plistlib': <module 'plistlib' from '/Users/biancaaguglia/opt/anaconda3/envs/tf/lib/python3.7/plistlib.py'>,\n",
       " 'xml.parsers': <module 'xml.parsers' from '/Users/biancaaguglia/opt/anaconda3/envs/tf/lib/python3.7/xml/parsers/__init__.py'>,\n",
       " 'xml.parsers.expat': <module 'xml.parsers.expat' from '/Users/biancaaguglia/opt/anaconda3/envs/tf/lib/python3.7/xml/parsers/expat.py'>,\n",
       " 'pyexpat.errors': <module 'pyexpat.errors'>,\n",
       " 'pyexpat.model': <module 'pyexpat.model'>,\n",
       " 'pyexpat': <module 'pyexpat' from '/Users/biancaaguglia/opt/anaconda3/envs/tf/lib/python3.7/lib-dynload/pyexpat.cpython-37m-darwin.so'>,\n",
       " 'xml.parsers.expat.model': <module 'pyexpat.model'>,\n",
       " 'xml.parsers.expat.errors': <module 'pyexpat.errors'>,\n",
       " 'appnope': <module 'appnope' from '/Users/biancaaguglia/opt/anaconda3/envs/tf/lib/python3.7/site-packages/appnope/__init__.py'>,\n",
       " 'appnope._nope': <module 'appnope._nope' from '/Users/biancaaguglia/opt/anaconda3/envs/tf/lib/python3.7/site-packages/appnope/_nope.py'>,\n",
       " 'ctypes.util': <module 'ctypes.util' from '/Users/biancaaguglia/opt/anaconda3/envs/tf/lib/python3.7/ctypes/util.py'>,\n",
       " 'ctypes.macholib': <module 'ctypes.macholib' from '/Users/biancaaguglia/opt/anaconda3/envs/tf/lib/python3.7/ctypes/macholib/__init__.py'>,\n",
       " 'ctypes.macholib.dyld': <module 'ctypes.macholib.dyld' from '/Users/biancaaguglia/opt/anaconda3/envs/tf/lib/python3.7/ctypes/macholib/dyld.py'>,\n",
       " 'ctypes.macholib.framework': <module 'ctypes.macholib.framework' from '/Users/biancaaguglia/opt/anaconda3/envs/tf/lib/python3.7/ctypes/macholib/framework.py'>,\n",
       " 'ctypes.macholib.dylib': <module 'ctypes.macholib.dylib' from '/Users/biancaaguglia/opt/anaconda3/envs/tf/lib/python3.7/ctypes/macholib/dylib.py'>,\n",
       " 'storemagic': <module 'storemagic' from '/Users/biancaaguglia/opt/anaconda3/envs/tf/lib/python3.7/site-packages/IPython/extensions/storemagic.py'>,\n",
       " 'zmq.utils.garbage': <module 'zmq.utils.garbage' from '/Users/biancaaguglia/opt/anaconda3/envs/tf/lib/python3.7/site-packages/zmq/utils/garbage.py'>}"
      ]
     },
     "execution_count": 16,
     "metadata": {},
     "output_type": "execute_result"
    }
   ],
   "source": [
    "print(len(sys.modules))\n",
    "sys.modules"
   ]
  },
  {
   "cell_type": "code",
   "execution_count": 19,
   "metadata": {},
   "outputs": [
    {
     "data": {
      "text/plain": [
       "5"
      ]
     },
     "execution_count": 19,
     "metadata": {},
     "output_type": "execute_result"
    }
   ],
   "source": [
    "sys.getrefcount(s)"
   ]
  },
  {
   "cell_type": "code",
   "execution_count": 20,
   "metadata": {},
   "outputs": [
    {
     "name": "stdout",
     "output_type": "stream",
     "text": [
      "1\n"
     ]
    },
    {
     "data": {
      "text/plain": [
       "2868"
      ]
     },
     "execution_count": 20,
     "metadata": {},
     "output_type": "execute_result"
    }
   ],
   "source": [
    "a = 1\n",
    "print(a)\n",
    "sys.getrefcount(a)"
   ]
  },
  {
   "cell_type": "code",
   "execution_count": 22,
   "metadata": {},
   "outputs": [
    {
     "data": {
      "text/plain": [
       "(None, None, None)"
      ]
     },
     "execution_count": 22,
     "metadata": {},
     "output_type": "execute_result"
    }
   ],
   "source": [
    "sys.exc_info()"
   ]
  },
  {
   "cell_type": "markdown",
   "metadata": {},
   "source": [
    "## The `os` module <small>(p.90)</small>"
   ]
  },
  {
   "cell_type": "markdown",
   "metadata": {},
   "source": [
    "What's the difference between `os.path` and `sys.path`?"
   ]
  },
  {
   "cell_type": "code",
   "execution_count": 23,
   "metadata": {},
   "outputs": [
    {
     "data": {
      "text/plain": [
       "<module 'posixpath' from '/Users/biancaaguglia/opt/anaconda3/envs/tf/lib/python3.7/posixpath.py'>"
      ]
     },
     "execution_count": 23,
     "metadata": {},
     "output_type": "execute_result"
    }
   ],
   "source": [
    "os.path"
   ]
  },
  {
   "cell_type": "code",
   "execution_count": 24,
   "metadata": {},
   "outputs": [
    {
     "data": {
      "text/plain": [
       "'/Users/biancaaguglia/temp_for_offline/bianca_aguglia/projects_wip/BA_notes_assignments_projects/notes/book_lutz_programming_python/ch_02_system_tools'"
      ]
     },
     "execution_count": 24,
     "metadata": {},
     "output_type": "execute_result"
    }
   ],
   "source": [
    "os.getcwd()"
   ]
  },
  {
   "cell_type": "code",
   "execution_count": 25,
   "metadata": {},
   "outputs": [
    {
     "data": {
      "text/plain": [
       "'\\n'"
      ]
     },
     "execution_count": 25,
     "metadata": {},
     "output_type": "execute_result"
    }
   ],
   "source": [
    "os.linesep"
   ]
  },
  {
   "cell_type": "code",
   "execution_count": 26,
   "metadata": {},
   "outputs": [
    {
     "data": {
      "text/plain": [
       "'/Users/biancaaguglia/temp_for_offline/bianca_aguglia/projects_wip/BA_notes_assignments_projects/notes/book_lutz_programming_python'"
      ]
     },
     "execution_count": 26,
     "metadata": {},
     "output_type": "execute_result"
    }
   ],
   "source": [
    "os.path.dirname(os.getcwd())"
   ]
  },
  {
   "cell_type": "code",
   "execution_count": 27,
   "metadata": {},
   "outputs": [
    {
     "data": {
      "text/plain": [
       "'ch_02_system_tools'"
      ]
     },
     "execution_count": 27,
     "metadata": {},
     "output_type": "execute_result"
    }
   ],
   "source": [
    "os.path.basename(os.getcwd())"
   ]
  },
  {
   "cell_type": "code",
   "execution_count": 31,
   "metadata": {},
   "outputs": [
    {
     "data": {
      "text/plain": [
       "'/Users/biancaaguglia/temp_for_offline/bianca_aguglia/projects_wip/BA_notes_assignments_projects/notes/book_lutz_programming_python/ch_02_system_tools'"
      ]
     },
     "execution_count": 31,
     "metadata": {},
     "output_type": "execute_result"
    }
   ],
   "source": [
    "# os.path.abspath('')\n",
    "os.path.abspath(os.getcwd())"
   ]
  },
  {
   "cell_type": "code",
   "execution_count": 34,
   "metadata": {},
   "outputs": [
    {
     "name": "stdout",
     "output_type": "stream",
     "text": [
      "0\n"
     ]
    }
   ],
   "source": [
    "# works in the shell\n",
    "print(os.system('ls'))"
   ]
  },
  {
   "cell_type": "code",
   "execution_count": 33,
   "metadata": {},
   "outputs": [
    {
     "data": {
      "text/plain": [
       "0"
      ]
     },
     "execution_count": 33,
     "metadata": {},
     "output_type": "execute_result"
    }
   ],
   "source": [
    "os.system('cat test.py')"
   ]
  },
  {
   "cell_type": "code",
   "execution_count": 35,
   "metadata": {},
   "outputs": [
    {
     "data": {
      "text/plain": [
       "0"
      ]
     },
     "execution_count": 35,
     "metadata": {},
     "output_type": "execute_result"
    }
   ],
   "source": [
    "os.system('python read_code.py')"
   ]
  },
  {
   "cell_type": "code",
   "execution_count": null,
   "metadata": {},
   "outputs": [],
   "source": []
  }
 ],
 "metadata": {
  "kernelspec": {
   "display_name": "Python 3",
   "language": "python",
   "name": "python3"
  },
  "language_info": {
   "codemirror_mode": {
    "name": "ipython",
    "version": 3
   },
   "file_extension": ".py",
   "mimetype": "text/x-python",
   "name": "python",
   "nbconvert_exporter": "python",
   "pygments_lexer": "ipython3",
   "version": "3.7.7"
  }
 },
 "nbformat": 4,
 "nbformat_minor": 4
}

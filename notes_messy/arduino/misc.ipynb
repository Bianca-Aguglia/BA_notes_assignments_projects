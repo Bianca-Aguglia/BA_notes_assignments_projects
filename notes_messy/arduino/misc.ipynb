{
 "cells": [
  {
   "cell_type": "markdown",
   "id": "bdc5dc27",
   "metadata": {},
   "source": [
    "Serial plotter\n",
    "- set limits for the y-axis\n",
    "```cpp\n",
    "    Serial.print(0);\n",
    "    Serial.print(\" \");\n",
    "    Serial.print(1000);\n",
    "    Serial.print(\" \");\n",
    "    Serial.println(valueECG);\n",
    "```   \n",
    "Reference: https://forum.arduino.cc/t/fixing-the-y-axis-on-the-serial-plotter-can-it-be-done-yes-it-can-sort-of/431095/5"
   ]
  },
  {
   "cell_type": "code",
   "execution_count": null,
   "id": "b08b5418",
   "metadata": {},
   "outputs": [],
   "source": []
  }
 ],
 "metadata": {
  "kernelspec": {
   "display_name": "Python 3",
   "language": "python",
   "name": "python3"
  },
  "language_info": {
   "codemirror_mode": {
    "name": "ipython",
    "version": 3
   },
   "file_extension": ".py",
   "mimetype": "text/x-python",
   "name": "python",
   "nbconvert_exporter": "python",
   "pygments_lexer": "ipython3",
   "version": "3.7.7"
  }
 },
 "nbformat": 4,
 "nbformat_minor": 5
}

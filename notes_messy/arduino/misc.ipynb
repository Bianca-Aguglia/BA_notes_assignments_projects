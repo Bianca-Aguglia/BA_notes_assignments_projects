{
 "cells": [
  {
   "cell_type": "markdown",
   "id": "b27dc813",
   "metadata": {},
   "source": [
    "Serial plotter\n",
    "- set limits for the y-axis\n",
    "```cpp\n",
    "     Serial.print(0);\n",
    "  Serial.print(\" \");\n",
    "  Serial.print(1000);\n",
    "  Serial.print(\" \");\n",
    "  Serial.println(valueECG);"
   ]
  }
 ],
 "metadata": {
  "kernelspec": {
   "display_name": "Python 3",
   "language": "python",
   "name": "python3"
  },
  "language_info": {
   "codemirror_mode": {
    "name": "ipython",
    "version": 3
   },
   "file_extension": ".py",
   "mimetype": "text/x-python",
   "name": "python",
   "nbconvert_exporter": "python",
   "pygments_lexer": "ipython3",
   "version": "3.7.7"
  }
 },
 "nbformat": 4,
 "nbformat_minor": 5
}

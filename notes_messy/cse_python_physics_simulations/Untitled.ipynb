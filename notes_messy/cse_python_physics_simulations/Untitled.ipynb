{
 "cells": [
  {
   "cell_type": "markdown",
   "metadata": {},
   "source": [
    "## Resources\n",
    "- site https://www.petercollingridge.co.uk/tutorials/pygame-physics-simulation/\n",
    "- reddit https://www.reddit.com/r/learnpython/comments/6yxkqv/graphical_library_for_physics_simulations/\n",
    "- reddit https://www.reddit.com/r/Python/comments/5nfcps/orbital_physics_simulation_with_python_35/\n",
    "- reddit blender https://www.reddit.com/r/programming/comments/bbarah/tutorial_3d_programming_with_python_for_physics/\n",
    "- pdf https://physics.weber.edu/schroeder/scicomp/PythonManual.pdf\n",
    "- site http://physicalmodelingwithpython.blogspot.com/\n"
   ]
  },
  {
   "cell_type": "code",
   "execution_count": null,
   "metadata": {},
   "outputs": [],
   "source": []
  }
 ],
 "metadata": {
  "kernelspec": {
   "display_name": "Python 3",
   "language": "python",
   "name": "python3"
  },
  "language_info": {
   "codemirror_mode": {
    "name": "ipython",
    "version": 3
   },
   "file_extension": ".py",
   "mimetype": "text/x-python",
   "name": "python",
   "nbconvert_exporter": "python",
   "pygments_lexer": "ipython3",
   "version": "3.7.7"
  }
 },
 "nbformat": 4,
 "nbformat_minor": 4
}

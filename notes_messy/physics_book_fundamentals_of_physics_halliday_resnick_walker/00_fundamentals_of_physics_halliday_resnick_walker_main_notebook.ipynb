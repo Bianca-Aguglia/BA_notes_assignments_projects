{
 "cells": [
  {
   "cell_type": "markdown",
   "id": "17e9e682",
   "metadata": {},
   "source": [
    "# Fundamentals of Physics <small>(D.Halliday, R.Resnick, J.Walker)/(10th edition)</small>\n",
    "---\n",
    "**Goal**: study the book *Fundamentals of Physics*.  \n",
    "\n",
    "**Context**: this is the textbook I came across why researching the bioengineering curriculum at Johns Hopkins University. The actual textbooks recommended for the physics courses are *Physics vol. I* and *Physics vol. II* by D.Halliday and R.Resnick which I could find in read-only mode on archive.org. The edition I'm using was available on academia.edu (it included solutions to exercises and problems). I'll go back and forth between the different editions. I'll be using at least two other books (the openstax one, and *Phyisics for Scientists and Engineers* by Serway and Jewett, to supplement this book and be better prepared to write my own textbook. "
   ]
  },
  {
   "cell_type": "markdown",
   "id": "2ca2ae2f",
   "metadata": {},
   "source": [
    "## Authors\n",
    "---"
   ]
  },
  {
   "cell_type": "code",
   "execution_count": null,
   "id": "101d0c9c",
   "metadata": {},
   "outputs": [],
   "source": []
  }
 ],
 "metadata": {
  "kernelspec": {
   "display_name": "Python 3",
   "language": "python",
   "name": "python3"
  },
  "language_info": {
   "codemirror_mode": {
    "name": "ipython",
    "version": 3
   },
   "file_extension": ".py",
   "mimetype": "text/x-python",
   "name": "python",
   "nbconvert_exporter": "python",
   "pygments_lexer": "ipython3",
   "version": "3.7.7"
  }
 },
 "nbformat": 4,
 "nbformat_minor": 5
}

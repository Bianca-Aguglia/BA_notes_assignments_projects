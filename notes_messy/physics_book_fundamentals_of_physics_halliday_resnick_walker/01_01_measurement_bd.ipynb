{
 "cells": [
  {
   "cell_type": "markdown",
   "id": "d361ad97",
   "metadata": {},
   "source": [
    "## Sand liquefaction\n",
    "---"
   ]
  },
  {
   "cell_type": "code",
   "execution_count": 4,
   "id": "a7b20c54",
   "metadata": {},
   "outputs": [],
   "source": [
    "sand_diameter_min = 0.2 * 1e-3\n",
    "sand_diameter_max = 5 * 1e-3"
   ]
  },
  {
   "cell_type": "markdown",
   "id": "d7697013",
   "metadata": {},
   "source": [
    "Resources\n",
    "- diameter of grain of sand: https://hypertextbook.com/facts/2000/IlanaPrice.shtml"
   ]
  },
  {
   "cell_type": "code",
   "execution_count": 5,
   "id": "cca5c6ae",
   "metadata": {},
   "outputs": [
    {
     "data": {
      "text/plain": [
       "0.001"
      ]
     },
     "execution_count": 5,
     "metadata": {},
     "output_type": "execute_result"
    }
   ],
   "source": [
    "1e-3"
   ]
  },
  {
   "cell_type": "code",
   "execution_count": 6,
   "id": "24bf3880",
   "metadata": {},
   "outputs": [],
   "source": [
    "import matplotlib.pyplot as plt\n",
    "import matplotlib.patches as patches\n",
    "import ipywidgets as wg"
   ]
  },
  {
   "cell_type": "code",
   "execution_count": 7,
   "id": "1079793a",
   "metadata": {},
   "outputs": [
    {
     "data": {
      "text/plain": [
       "3.846153846153846e-05"
      ]
     },
     "execution_count": 7,
     "metadata": {},
     "output_type": "execute_result"
    }
   ],
   "source": [
    "1 / (2.6 * 10e3)"
   ]
  },
  {
   "cell_type": "code",
   "execution_count": 14,
   "id": "6ccacb0e",
   "metadata": {},
   "outputs": [
    {
     "data": {
      "image/png": "[encoded data removed]",
      "text/plain": [
       "<Figure size 864x576 with 1 Axes>"
      ]
     },
     "metadata": {
      "needs_background": "light"
     },
     "output_type": "display_data"
    }
   ],
   "source": [
    "fig, ax = plt.subplots(figsize=(12,8))\n",
    "vol_meter_rect = patches.Rectangle((0,0), 1000, 1000, linewidth = 5, edgecolor = 'blue', facecolor = 'none')\n",
    "ax.add_patch(vol_meter_rect)\n",
    "ax.axes.set_aspect('equal')\n",
    "plt.show()"
   ]
  },
  {
   "cell_type": "code",
   "execution_count": 18,
   "id": "4d3b4604",
   "metadata": {},
   "outputs": [],
   "source": [
    "test_diam = 10\n",
    "meter = 1000\n",
    "for i in range(test_diam):\n",
    "    pass"
   ]
  },
  {
   "cell_type": "code",
   "execution_count": 16,
   "id": "be6bff42",
   "metadata": {},
   "outputs": [],
   "source": [
    "import numpy as np"
   ]
  },
  {
   "cell_type": "code",
   "execution_count": 24,
   "id": "2d10d396",
   "metadata": {
    "scrolled": true
   },
   "outputs": [
    {
     "name": "stdout",
     "output_type": "stream",
     "text": [
      "[  5.  15.  25.  35.  45.  55.  65.  75.  85.  95. 105. 115. 125. 135.\n",
      " 145. 155. 165. 175. 185. 195. 205. 215. 225. 235. 245. 255. 265. 275.\n",
      " 285. 295. 305. 315. 325. 335. 345. 355. 365. 375. 385. 395. 405. 415.\n",
      " 425. 435. 445. 455. 465. 475. 485. 495. 505. 515. 525. 535. 545. 555.\n",
      " 565. 575. 585. 595. 605. 615. 625. 635. 645. 655. 665. 675. 685. 695.\n",
      " 705. 715. 725. 735. 745. 755. 765. 775. 785. 795. 805. 815. 825. 835.\n",
      " 845. 855. 865. 875. 885. 895. 905. 915. 925. 935. 945. 955. 965. 975.\n",
      " 985. 995.]\n",
      "[   5.           15.05050505   25.1010101    35.15151515   45.2020202\n",
      "   55.25252525   65.3030303    75.35353535   85.4040404    95.45454545\n",
      "  105.50505051  115.55555556  125.60606061  135.65656566  145.70707071\n",
      "  155.75757576  165.80808081  175.85858586  185.90909091  195.95959596\n",
      "  206.01010101  216.06060606  226.11111111  236.16161616  246.21212121\n",
      "  256.26262626  266.31313131  276.36363636  286.41414141  296.46464646\n",
      "  306.51515152  316.56565657  326.61616162  336.66666667  346.71717172\n",
      "  356.76767677  366.81818182  376.86868687  386.91919192  396.96969697\n",
      "  407.02020202  417.07070707  427.12121212  437.17171717  447.22222222\n",
      "  457.27272727  467.32323232  477.37373737  487.42424242  497.47474747\n",
      "  507.52525253  517.57575758  527.62626263  537.67676768  547.72727273\n",
      "  557.77777778  567.82828283  577.87878788  587.92929293  597.97979798\n",
      "  608.03030303  618.08080808  628.13131313  638.18181818  648.23232323\n",
      "  658.28282828  668.33333333  678.38383838  688.43434343  698.48484848\n",
      "  708.53535354  718.58585859  728.63636364  738.68686869  748.73737374\n",
      "  758.78787879  768.83838384  778.88888889  788.93939394  798.98989899\n",
      "  809.04040404  819.09090909  829.14141414  839.19191919  849.24242424\n",
      "  859.29292929  869.34343434  879.39393939  889.44444444  899.49494949\n",
      "  909.54545455  919.5959596   929.64646465  939.6969697   949.74747475\n",
      "  959.7979798   969.84848485  979.8989899   989.94949495 1000.        ]\n"
     ]
    }
   ],
   "source": [
    "step = meter / test_diam\n",
    "arr1 = np.arange(test_diam / 2, meter, test_diam)\n",
    "arr2 = np.linspace(test_diam / 2, meter, int(step))\n",
    "print(arr1)\n",
    "print(arr2)"
   ]
  },
  {
   "cell_type": "code",
   "execution_count": null,
   "id": "e79a24ed",
   "metadata": {},
   "outputs": [],
   "source": []
  }
 ],
 "metadata": {
  "kernelspec": {
   "display_name": "Python 3",
   "language": "python",
   "name": "python3"
  },
  "language_info": {
   "codemirror_mode": {
    "name": "ipython",
    "version": 3
   },
   "file_extension": ".py",
   "mimetype": "text/x-python",
   "name": "python",
   "nbconvert_exporter": "python",
   "pygments_lexer": "ipython3",
   "version": "3.7.7"
  }
 },
 "nbformat": 4,
 "nbformat_minor": 5
}

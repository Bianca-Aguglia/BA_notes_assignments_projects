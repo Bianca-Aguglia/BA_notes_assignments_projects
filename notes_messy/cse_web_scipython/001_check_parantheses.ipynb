{
 "cells": [
  {
   "cell_type": "markdown",
   "metadata": {},
   "source": [
    "Write a program to check matching parentheses in an expression."
   ]
  },
  {
   "cell_type": "code",
   "execution_count": 6,
   "metadata": {},
   "outputs": [],
   "source": [
    "parantheses_round = {'(':')'}\n",
    "\n",
    "parantheses_all = {'(':')',\n",
    "                   '[':']',\n",
    "                   '{':'}'}"
   ]
  },
  {
   "cell_type": "code",
   "execution_count": null,
   "metadata": {},
   "outputs": [],
   "source": []
  },
  {
   "cell_type": "code",
   "execution_count": 14,
   "metadata": {},
   "outputs": [],
   "source": [
    "def check_parantheses_round(string):\n",
    "    parentheses = 0\n",
    "    for char in string:\n",
    "        if char == '(':\n",
    "            parentheses += 1\n",
    "        elif char == ')':\n",
    "            parentheses -= 1\n",
    "        if parentheses < 0:\n",
    "            return False\n",
    "    return parentheses == 0    "
   ]
  },
  {
   "cell_type": "code",
   "execution_count": 15,
   "metadata": {},
   "outputs": [],
   "source": [
    "test_strings = ['abd()dfh(sdfsd)',\n",
    "               'aa(sdf)(sdfs']"
   ]
  },
  {
   "cell_type": "code",
   "execution_count": 16,
   "metadata": {},
   "outputs": [
    {
     "name": "stdout",
     "output_type": "stream",
     "text": [
      "True\n",
      "False\n"
     ]
    }
   ],
   "source": [
    "for string in test_strings:\n",
    "    print(check_parantheses_round(string))"
   ]
  },
  {
   "cell_type": "code",
   "execution_count": null,
   "metadata": {},
   "outputs": [],
   "source": [
    "class Solution:\n",
    "    def isValid(self, s: str) -> bool:\n",
    "        table = {\"{\": \"}\", \"[\": \"]\", \"(\": \")\"}\n",
    "        stack = []\n",
    "        for w in s:\n",
    "            if w in \"{[(\":\n",
    "                stack.append(w)\n",
    "            else:\n",
    "                if stack == []:\n",
    "                    return False\n",
    "                test = stack.pop()\n",
    "                if table[test] != w:\n",
    "                    return False\n",
    "        return stack == []"
   ]
  }
 ],
 "metadata": {
  "kernelspec": {
   "display_name": "Python 3",
   "language": "python",
   "name": "python3"
  },
  "language_info": {
   "codemirror_mode": {
    "name": "ipython",
    "version": 3
   },
   "file_extension": ".py",
   "mimetype": "text/x-python",
   "name": "python",
   "nbconvert_exporter": "python",
   "pygments_lexer": "ipython3",
   "version": "3.7.7"
  }
 },
 "nbformat": 4,
 "nbformat_minor": 4
}

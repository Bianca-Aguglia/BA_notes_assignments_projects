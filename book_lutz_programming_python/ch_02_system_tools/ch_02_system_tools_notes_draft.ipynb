{
 "cells": [
  {
   "cell_type": "markdown",
   "metadata": {},
   "source": [
    "## Notes"
   ]
  },
  {
   "cell_type": "code",
   "execution_count": null,
   "metadata": {},
   "outputs": [],
   "source": []
  },
  {
   "cell_type": "markdown",
   "metadata": {},
   "source": [
    "## Random thoughts:\n",
    "- page 79\n",
    "    - Q: can I write a script to read a `.py` file and write the code to the screen? can the script read itself (i.e. can a running file open a copy of itself and read it?)\n",
    "    - A: yes, it works. :-) (see read_code.py)"
   ]
  },
  {
   "cell_type": "code",
   "execution_count": 7,
   "metadata": {},
   "outputs": [
    {
     "name": "stdout",
     "output_type": "stream",
     "text": [
      "['abc']\n",
      "['abc', 'a']\n",
      "['abc', 'a', 'b\\ta', 'c']\n"
     ]
    }
   ],
   "source": [
    "a = ['abc', 'abc\\na', 'abc\\na\\nb\\ta\\nc']\n",
    "for _ in a:\n",
    "    print(_.splitlines())"
   ]
  },
  {
   "cell_type": "code",
   "execution_count": 24,
   "metadata": {},
   "outputs": [],
   "source": [
    "a = '12345678353i4u5ouihse9'"
   ]
  },
  {
   "cell_type": "code",
   "execution_count": null,
   "metadata": {},
   "outputs": [],
   "source": []
  },
  {
   "cell_type": "code",
   "execution_count": 27,
   "metadata": {},
   "outputs": [],
   "source": [
    "def paging(string, num):\n",
    "    print_now = string[:num]\n",
    "    if print_now:\n",
    "        for char in print_now:\n",
    "            print(char)\n",
    "        remaining = string[num:]\n",
    "        if remaining and input('More (y/n): ') == 'y':\n",
    "            paging(remaining, num)\n"
   ]
  },
  {
   "cell_type": "code",
   "execution_count": 28,
   "metadata": {},
   "outputs": [
    {
     "name": "stdout",
     "output_type": "stream",
     "text": [
      "1\n",
      "2\n",
      "3\n",
      "More (y/n): y\n",
      "4\n",
      "5\n",
      "6\n",
      "More (y/n): y\n",
      "7\n",
      "8\n",
      "3\n",
      "More (y/n): y\n",
      "5\n",
      "3\n",
      "i\n",
      "More (y/n): n\n"
     ]
    }
   ],
   "source": [
    "paging(a, 3)"
   ]
  },
  {
   "cell_type": "code",
   "execution_count": 21,
   "metadata": {},
   "outputs": [],
   "source": [
    "!touch test.py"
   ]
  },
  {
   "cell_type": "code",
   "execution_count": null,
   "metadata": {},
   "outputs": [],
   "source": []
  }
 ],
 "metadata": {
  "kernelspec": {
   "display_name": "Python 3",
   "language": "python",
   "name": "python3"
  },
  "language_info": {
   "codemirror_mode": {
    "name": "ipython",
    "version": 3
   },
   "file_extension": ".py",
   "mimetype": "text/x-python",
   "name": "python",
   "nbconvert_exporter": "python",
   "pygments_lexer": "ipython3",
   "version": "3.7.7"
  }
 },
 "nbformat": 4,
 "nbformat_minor": 4
}

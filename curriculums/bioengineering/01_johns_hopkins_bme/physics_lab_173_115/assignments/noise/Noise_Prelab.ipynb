{
 "cells": [
  {
   "cell_type": "markdown",
   "metadata": {},
   "source": [
    "# Noise: A Study in Uncertianty -- Pre-lab Quiz\n",
    "***"
   ]
  },
  {
   "cell_type": "markdown",
   "metadata": {},
   "source": [
    "## Problem 1:  Taylor, Problem 4.16 [5 points] \n",
    "This problem is taken from Taylor's *An Introduction to Error Analysis.* 2nd Edition (page 113).  \n",
    "\n",
    "A student measures $g$, the acceleration of gravity, five times, with the results (all in $m/s^2$):"
   ]
  },
  {
   "cell_type": "code",
   "execution_count": null,
   "metadata": {},
   "outputs": [],
   "source": [
    "# execute this code to create a Pandas DataFrame with the measured values\n",
    "import pandas as pd\n",
    "g_values={\"measured g (m/s^2)\": [9.9,9.6,9.5,9.7,9.8]} # {column_name:[data]}\n",
    "g_data=pd.DataFrame(data=g_values)\n",
    "g_data"
   ]
  },
  {
   "cell_type": "markdown",
   "metadata": {},
   "source": [
    "## 4.16.A:  \n",
    "Based on the five measurements of $g$, what should be the student's best estimate for $g$ and its uncertainty?\n"
   ]
  },
  {
   "cell_type": "code",
   "execution_count": null,
   "metadata": {},
   "outputs": [],
   "source": []
  },
  {
   "cell_type": "markdown",
   "metadata": {},
   "source": [
    "## 4.16.B:\n",
    "How well does her result agree with the accepted value of $g_{accepted} = 9.8 m/s^2$?"
   ]
  },
  {
   "cell_type": "code",
   "execution_count": null,
   "metadata": {},
   "outputs": [],
   "source": []
  },
  {
   "cell_type": "markdown",
   "metadata": {},
   "source": [
    "## Problem 2: `for` Loop to Calculate Fibonacci Sequence [5 points]\n",
    "\n",
    "The Fibonacci Sequence is the series of numbers:\n",
    "\n",
    "$$0, 1, 1, 2, 3, 5, 8, 13, 21, 34, ...$$\n",
    "\n",
    "see: https://www.mathsisfun.com/numbers/fibonacci-sequence.html for more information. \n",
    "\n",
    "Each number in the sequence is the sum of the two numbers that preceed it in the list.   For example: \n",
    "$$0+1=1$$ \n",
    "$$1+1=2$$ \n",
    "$$1+2=3$$ \n",
    "$$2+3=5$$ \n",
    "$$3+5=8$$\n",
    "$$etc...$$\n",
    "\n",
    "Write a `for` loop in Python to calculate the first 30 numbers in the Fibonacci Sequence."
   ]
  },
  {
   "cell_type": "code",
   "execution_count": null,
   "metadata": {},
   "outputs": [],
   "source": [
    "fibo_list=[0,1]  # start with the first two numbers in the list..."
   ]
  }
 ],
 "metadata": {
  "kernelspec": {
   "display_name": "Python 3",
   "language": "python",
   "name": "python3"
  },
  "language_info": {
   "codemirror_mode": {
    "name": "ipython",
    "version": 3
   },
   "file_extension": ".py",
   "mimetype": "text/x-python",
   "name": "python",
   "nbconvert_exporter": "python",
   "pygments_lexer": "ipython3",
   "version": "3.6.6"
  }
 },
 "nbformat": 4,
 "nbformat_minor": 2
}

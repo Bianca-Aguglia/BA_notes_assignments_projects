{
 "cells": [
  {
   "cell_type": "markdown",
   "metadata": {},
   "source": [
    "# Video Analysis Pre-lab Quiz\n",
    "_updated: 15:00, 9/23/2020_"
   ]
  },
  {
   "cell_type": "markdown",
   "metadata": {},
   "source": [
    "## Exercise 1:  Video Analysis with Logger Pro\n",
    "\n",
    "### Instructions\n",
    "1. Install Logger Pro on your machine.   Instructions for installing Logger Pro can be found on Blackboard under **Reference Material** > **Logger Pro Installation Instructions**\n",
    "1. Open Logger Pro\n",
    "1. In Logger Pro, open the file: `File` > `Open` > `Sample Movies` > `Basketball Shot` > `Basketball Shot.cmbl`\n",
    "1. Follow the instructions in the file to analyze the motion of the ball while it is traveling like a projectile. \n",
    "1. Export your data as a .csv file.\n",
    "1. Use Jupyter/Python to read the .csv file into a Pandas Data Frame using `read_csv()`"
   ]
  },
  {
   "cell_type": "markdown",
   "metadata": {},
   "source": [
    "## Exercise 2: Recipe for Error Propagation\n",
    "\n",
    "### Instructions\n",
    "1. Read the Error Propagation Reference on Blackboard (look under **Reference Material** > **Error Propagation Reference**.   Pay particular attention to the recipe for error propagation. \n",
    "2. Do problem 3.47 in Taylor using the recipe. "
   ]
  },
  {
   "cell_type": "markdown",
   "metadata": {},
   "source": [
    "### Taylor Problem 3.47. $\\star \\star$\n",
    "\n",
    "The Atwood machine consists of two masses $M$ and $m$ (with $M > m$) attached to the ends of a light string that passes over a light, frictionless pulley.   When the masses are released, the mass $M$ is easily shown to accelerate down with an acceleration\n",
    "\n",
    "$$ a = g \\frac{M-m}{M+m}$$\n",
    "\n",
    "Suppose that $M$ and $m$ are measured as $M = 100 \\pm 1$ and $m = 50 \\pm 1$, both in grams.  Use the [recipe from the Error Propagation Reference] to derive a formula for the uncertainty in the expected acceleration $\\delta a$ in terms of the masses and their uncertainties and then find $\\delta a$ for the given numbers. \n",
    "\n",
    "#### Footnote: \n",
    "_According to the NGS Surface Gravity model, the value of the acceleration due to gravity near the Bloomberg building is $9.80095 \\pm 0.00002 \\: m/s^2$.  See https://www.ngs.noaa.gov/TOOLS/Gravity/gravcon.html for more\n",
    "information._\n",
    "\n",
    "Is it important to include the uncertainty of $g$ in your calculation of $\\delta a$?   Justify your answer. "
   ]
  },
  {
   "cell_type": "code",
   "execution_count": 2,
   "metadata": {},
   "outputs": [],
   "source": [
    "# masses\n",
    "M = 100\n",
    "dM = 1\n",
    "m = 50\n",
    "dm = 1\n",
    "mass_units=\"g\"\n",
    "\n",
    "# acceleration due to gravity\n",
    "g = 9.80095\n",
    "dg = 0.00002\n",
    "g_units=\"m/s^2\""
   ]
  }
 ],
 "metadata": {
  "kernelspec": {
   "display_name": "Python 3",
   "language": "python",
   "name": "python3"
  },
  "language_info": {
   "codemirror_mode": {
    "name": "ipython",
    "version": 3
   },
   "file_extension": ".py",
   "mimetype": "text/x-python",
   "name": "python",
   "nbconvert_exporter": "python",
   "pygments_lexer": "ipython3",
   "version": "3.7.6"
  }
 },
 "nbformat": 4,
 "nbformat_minor": 2
}

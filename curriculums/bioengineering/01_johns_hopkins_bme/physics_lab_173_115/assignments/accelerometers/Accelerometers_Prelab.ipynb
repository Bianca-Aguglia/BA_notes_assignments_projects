{
 "cells": [
  {
   "cell_type": "markdown",
   "metadata": {},
   "source": [
    "# Accelerometers: Pre-lab Quiz"
   ]
  },
  {
   "cell_type": "markdown",
   "metadata": {},
   "source": [
    "## Exercise 1\n",
    "\n",
    "Your phone (likely) has built-in accelerometers that\n",
    "measure accelerations in 3 different axes.  Open the Physics Toolbox\n",
    "Sensor Suite on your smartphone.  Take some accelerometer (g-Force)\n",
    "data.  While taking data, wiggle the phone in various directions to\n",
    "determine the orientation of the different accelerometer axes.\n",
    "Based on your observations, create a sketch that clearly shows the\n",
    "orientation and direction of the positive $x$, $y$, and $z$\n",
    "accelerometer axes used by your phone.\n",
    "\n",
    "**NOTE:** If you don't have access to a smart phone capable of running the\n",
    "Physics Toolbox Sensor Suite app, make up a 3-dimensional coordinate\n",
    "system, for a hypothetical device, that makes the most sense to\n",
    "you. "
   ]
  },
  {
   "cell_type": "markdown",
   "metadata": {},
   "source": [
    "## Exercise 2\n",
    "\n",
    "Suppose that you were to take accelerometer\n",
    "(g-Force) data with your phone falling from a short height.  What\n",
    "will the acceleration curve of the phone look like?  \n",
    " * Draw a hypothetical sketch of what you think the acceleration, as a function of time, will look like starting from 1 second before the phone is dropped until 1 second after the phone lands (on a soft surface so that the phone is not damaged).  \n",
    " * Explain the key features of the acceleration curve that you draw"
   ]
  },
  {
   "cell_type": "markdown",
   "metadata": {},
   "source": [
    "## Exercise 3 \n",
    "\n",
    "Suppose that you were to take\n",
    "accelerometer (g-Force) data with your phone while riding an\n",
    "elevator.  \n",
    " * Draw a hypothetical sketch of what you think the acceleration, as a function of time, will look like when riding between the ground floor and the second floor.  \n",
    " * Explain the key features of the acceleration curve that you draw."
   ]
  },
  {
   "cell_type": "markdown",
   "metadata": {},
   "source": [
    "## Exercise 4 \n",
    "\n",
    "Based on your acceleration curve for the elevator ride described above, sketch the velocity as a function of time. Explain and justify your drawing. \n"
   ]
  },
  {
   "cell_type": "code",
   "execution_count": null,
   "metadata": {},
   "outputs": [],
   "source": []
  }
 ],
 "metadata": {
  "kernelspec": {
   "display_name": "Python 3",
   "language": "python",
   "name": "python3"
  },
  "language_info": {
   "codemirror_mode": {
    "name": "ipython",
    "version": 3
   },
   "file_extension": ".py",
   "mimetype": "text/x-python",
   "name": "python",
   "nbconvert_exporter": "python",
   "pygments_lexer": "ipython3",
   "version": "3.6.6"
  }
 },
 "nbformat": 4,
 "nbformat_minor": 2
}

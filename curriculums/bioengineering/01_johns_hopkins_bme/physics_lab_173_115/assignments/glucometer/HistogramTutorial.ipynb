{
 "cells": [
  {
   "cell_type": "markdown",
   "metadata": {},
   "source": [
    "# Histogram Tutorial\n",
    "\n",
    "Histograms are often used to look at patterns in collected data.   In particular histograms help interpret how multiple measurements of the same thing are distributed.   As such, histograms are particularly useful for statistics.\n",
    "\n",
    "Python offers several handy tools for making and interpreting histograms. "
   ]
  },
  {
   "cell_type": "code",
   "execution_count": null,
   "metadata": {},
   "outputs": [],
   "source": [
    "# Import block\n",
    "import numpy as np               # for math\n",
    "import matplotlib.pyplot as plt  # for plotting\n",
    "from scipy.stats import norm     # for normal curves"
   ]
  },
  {
   "cell_type": "markdown",
   "metadata": {},
   "source": [
    "## Generating Some Data to Play With\n",
    "\n",
    "First, we'll generate some data to play with."
   ]
  },
  {
   "cell_type": "code",
   "execution_count": null,
   "metadata": {},
   "outputs": [],
   "source": [
    "# Generate 1000 data points centered at 0 with a standard deviation of 1\n",
    "myData = norm.rvs(0,scale=1, size=1000)  "
   ]
  },
  {
   "cell_type": "markdown",
   "metadata": {},
   "source": [
    "## Plot the Data as a Histogram\n",
    "This is a rough first pass at using the histogram function that is available from `matplotlib`. "
   ]
  },
  {
   "cell_type": "code",
   "execution_count": null,
   "metadata": {},
   "outputs": [],
   "source": [
    "plt.hist(myData)\n",
    "plt.title(\"My First Histogram\")\n",
    "plt.xlabel(\"Measurements (unit-less)\")\n",
    "plt.ylabel(\"Number of Measurements per Bin Width\")"
   ]
  },
  {
   "cell_type": "markdown",
   "metadata": {},
   "source": [
    "## Choosing the Bin Width\n",
    "\n",
    "Histograms can look very different depending on the bins that are chosen.   In the example above, the bins are chosen automatically.   \n",
    "\n",
    "In the example below, I choose the bin width explicitly. \n"
   ]
  },
  {
   "cell_type": "code",
   "execution_count": null,
   "metadata": {},
   "outputs": [],
   "source": [
    "min=-4.25\n",
    "max=4.25\n",
    "nbins=17\n",
    "myBins = np.linspace(min,max,nbins+1) \n",
    "#  This is a list of bin boundaries\n",
    "#  I am choosing equally-spaced bins between -4.25 and 4.25.  \n",
    "#  There will be 17 bins\n",
    "#  Each bin will have a width of 0.5\n",
    "#  Bins will be centered on whole and half numbers (e.g: -4,-3.5,-3,...3.5,4)\n",
    "print(myBins)"
   ]
  },
  {
   "cell_type": "code",
   "execution_count": null,
   "metadata": {},
   "outputs": [],
   "source": [
    "plt.hist(myData, bins=myBins) # plot a histogram using my bins\n",
    "plt.title(\"Histogram with Custon Bins\")\n",
    "plt.xlabel(\"Measurements (unit-less)\")\n",
    "plt.ylabel(\"Measurements per 0.5 (unit-less)\")"
   ]
  },
  {
   "cell_type": "markdown",
   "metadata": {},
   "source": [
    "Notice how the shape of the distribution changes slightly with the choice of bins. \n",
    "\n",
    "The choice of histogram bins is driven by the data you are visualizing.   Bins that are too narrow make it hard to see overall patterns.  Bins that are too wide, average the data too much.   Try playing with the histogram bin definition to see how the number of bins changes the resulting histogram. \n",
    "\n",
    "In *real* analyses, the bin choice is often a *systematic error* that must be accounted for. \n"
   ]
  },
  {
   "cell_type": "markdown",
   "metadata": {},
   "source": [
    "## Fitting A Histogram with a Normal Curve\n",
    "\n",
    "Suppose that we want to fit a Normal (or Gaussian) Curve to the histogram to measure the mean and width (standard deviation) of the distribution.   This can be done with a fit as shown below. "
   ]
  },
  {
   "cell_type": "code",
   "execution_count": null,
   "metadata": {},
   "outputs": [],
   "source": [
    "# fit a normal curve\n",
    "mean, stdev = norm.fit(myData)\n",
    "stderr = stdev/np.sqrt(myData.size)\n",
    "print(\"Fit Results:\")\n",
    "print(\"Mean=%2.3f  Standard Deviation=%2.2f  Standard Error=%2.3f\" % (mean,stdev,stderr))"
   ]
  },
  {
   "cell_type": "markdown",
   "metadata": {},
   "source": [
    "Note that our results are consistent with the parameters used to generate the data.   Remember that the data were generated with the mean equal to 0.00 and the standard deviaiton equal to 1.00: \n",
    "$$ \\bar{x} = 0.00$$\n",
    "$$ \\sigma_{x} = 1.00.$$\n",
    "\n",
    "See the assignment and Taylor's *An Introduction to Error Analysis*, Chapter 4 for a more detailed explanation of average, standard deviation, and standard error. "
   ]
  },
  {
   "cell_type": "code",
   "execution_count": null,
   "metadata": {},
   "outputs": [],
   "source": [
    "# Plot the histogram with the normal curve.\n",
    "# density=True changes to probability.   That is the integral of the histogram is equal to one. \n",
    "plt.hist(myData, bins=myBins, density=True, label=\"Data\") # plot a histogram using my bins\n",
    "plt.title(\"Histogram with Custon Bins and a Fit\")\n",
    "plt.xlabel(\"Measurements (unit-less)\")\n",
    "plt.ylabel(\"Probability per 0.5 (unit-less)\")\n",
    "\n",
    "xmin, xmax = plt.xlim()\n",
    "x = np.linspace(xmin, xmax, 100)\n",
    "myFitFunction = norm.pdf(x, mean, stdev)\n",
    "plt.plot(x, myFitFunction, 'k', linewidth=1, label=\"Fit\")\n",
    "plt.text(2,0.3,\"Average = %2.2f\"%(mean))\n",
    "plt.text(2,0.275,\"St. Dev = %2.2f\"%(stdev))\n",
    "plt.legend()"
   ]
  },
  {
   "cell_type": "markdown",
   "metadata": {},
   "source": [
    "Note that in this case, I have changed the y-axis so that it now shows the **probability** of a given measurement.   For example, there is just under a 40% chance that we will measure a number between -0.25 and 0.25 (the bin centered at 0). "
   ]
  }
 ],
 "metadata": {
  "kernelspec": {
   "display_name": "Python 3",
   "language": "python",
   "name": "python3"
  },
  "language_info": {
   "codemirror_mode": {
    "name": "ipython",
    "version": 3
   },
   "file_extension": ".py",
   "mimetype": "text/x-python",
   "name": "python",
   "nbconvert_exporter": "python",
   "pygments_lexer": "ipython3",
   "version": "3.6.6"
  }
 },
 "nbformat": 4,
 "nbformat_minor": 2
}

{
 "cells": [
  {
   "cell_type": "markdown",
   "id": "3e8aa980",
   "metadata": {},
   "source": [
    "## Resources\n",
    "- difference between bioengineering and biomedical engineering https://engineeringonline.ucr.edu/blog/whats-the-difference-between-bioengineering-vs-biomedical-engineering/"
   ]
  },
  {
   "cell_type": "markdown",
   "id": "17d17e5f",
   "metadata": {},
   "source": [
    "Sample schedule (kw: bioengineering sample schedule):\n",
    "- https://www.bme.cornell.edu/bme/programs/undergraduate-programs/bme-major/paths-careers/bme-bs-course-schedule-sample\n",
    "- https://eng.umd.edu/sites/clark.umd.edu/files/bioe-4yrplan-ge-2016-2017-upd.pdf\n",
    "- https://bme.umich.edu/wp-content/uploads/2016/01/BME-Sample-Schedule-Chart.pdf\n",
    "- https://be.seas.upenn.edu/undergraduate/curriculum/bse-requirements/bse-sample-curriculum/\n",
    "- https://bioe.uw.edu/academic-programs/undergraduate/sample-4-year-schedules/"
   ]
  },
  {
   "cell_type": "code",
   "execution_count": null,
   "id": "e1764868",
   "metadata": {},
   "outputs": [],
   "source": []
  }
 ],
 "metadata": {
  "kernelspec": {
   "display_name": "Python 3",
   "language": "python",
   "name": "python3"
  },
  "language_info": {
   "codemirror_mode": {
    "name": "ipython",
    "version": 3
   },
   "file_extension": ".py",
   "mimetype": "text/x-python",
   "name": "python",
   "nbconvert_exporter": "python",
   "pygments_lexer": "ipython3",
   "version": "3.7.7"
  }
 },
 "nbformat": 4,
 "nbformat_minor": 5
}

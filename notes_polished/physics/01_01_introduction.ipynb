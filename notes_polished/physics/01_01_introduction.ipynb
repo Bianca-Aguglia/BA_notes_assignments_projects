{
 "cells": [
  {
   "cell_type": "markdown",
   "metadata": {},
   "source": [
    "# 1.1. Physics <small>- definition, themes, applications, areas, scale </small>\n",
    "---\n",
    "**Physics**, derived from the Greek *phúsis*, meaning “nature\", is the branch of science concerned with describing the interactions of energy, matter, space, and time to uncover the fundamental mechanisms that underlie every phenomenon in the natural world."
   ]
  },
  {
   "cell_type": "markdown",
   "metadata": {},
   "source": [
    "### Themes\n",
    "While studying physics, two main themes become clear:\n",
    "- **the underlying simplicity of natural world**: a small number of concepts, models, and laws can explain the staggering complexity of all phenomena in the universe\n",
    "- **the unifying aspect of the laws of physics**: the forces that cause stars, dust, and other forms of matter in far away galaxies such as the Whirlpool Galaxy to rotate, revolve, and move as they do are thought to be the same ones as the forces on Earth that cause water to flow over hydroelectric dams."
   ]
  },
  {
   "cell_type": "markdown",
   "metadata": {},
   "source": [
    "### Applications\n",
    "- chemistry\n",
    "    - atomic and molecular physics\n",
    "- engineering (mostly applied physics)\n",
    "    - nanotechnology\n",
    "    - microcircuitry\n",
    "    - high-speed computers\n",
    "    - unmanned planetary and extra-planetary explorations\n",
    "- geology\n",
    "    - radioactive dating\n",
    "    - earthquake analysis\n",
    "    - heat transfer in Earth\n",
    "- architecture\n",
    "    - structural stability\n",
    "- medicine\n",
    "    - sophisticated imaging techniques for accurate diagnosis\n",
    "        - X-ray\n",
    "        - MRI\n",
    "        - ultrasonic blood flow measurements\n",
    "- imaging techniques used in scientific research and medicine\n",
    "- genetic engineering"
   ]
  },
  {
   "cell_type": "markdown",
   "metadata": {},
   "source": [
    "### Branches (areas)\n",
    "General:\n",
    "- classical physics (before 1900)\n",
    "- modern physics (c. 1900 - present)  \n",
    "  \n",
    "Areas:\n",
    "- classical mechanics\n",
    "- relativity\n",
    "- thermodynamics\n",
    "- electromagnetism\n",
    "- optics\n",
    "- quantum mechanics"
   ]
  },
  {
   "cell_type": "markdown",
   "metadata": {},
   "source": [
    "### Scale\n",
    "Physics tries to understand the natural world at all scales of length and mass (from subatomic particles all the way up to the entire universe) and all scales of time."
   ]
  },
  {
   "cell_type": "code",
   "execution_count": null,
   "metadata": {},
   "outputs": [],
   "source": []
  },
  {
   "cell_type": "code",
   "execution_count": null,
   "metadata": {},
   "outputs": [],
   "source": []
  },
  {
   "cell_type": "markdown",
   "metadata": {},
   "source": [
    "## References\n",
    "1. [OpenStax *University Physics Vol. 1*](https://openstax.org/books/university-physics-volume-1/pages/1-1-the-scope-and-scale-of-physics)"
   ]
  },
  {
   "cell_type": "code",
   "execution_count": null,
   "metadata": {},
   "outputs": [],
   "source": []
  }
 ],
 "metadata": {
  "kernelspec": {
   "display_name": "Python 3",
   "language": "python",
   "name": "python3"
  },
  "language_info": {
   "codemirror_mode": {
    "name": "ipython",
    "version": 3
   },
   "file_extension": ".py",
   "mimetype": "text/x-python",
   "name": "python",
   "nbconvert_exporter": "python",
   "pygments_lexer": "ipython3",
   "version": "3.7.7"
  }
 },
 "nbformat": 4,
 "nbformat_minor": 4
}
